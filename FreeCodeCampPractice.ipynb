{
  "nbformat": 4,
  "nbformat_minor": 0,
  "metadata": {
    "colab": {
      "name": "FreeCodeCampPractice.ipynb",
      "provenance": [],
      "authorship_tag": "ABX9TyOP9umFhNGVtpB389bVZLB0",
      "include_colab_link": true
    },
    "kernelspec": {
      "name": "python3",
      "display_name": "Python 3"
    },
    "language_info": {
      "name": "python"
    }
  },
  "cells": [
    {
      "cell_type": "markdown",
      "metadata": {
        "id": "view-in-github",
        "colab_type": "text"
      },
      "source": [
        "<a href=\"https://colab.research.google.com/github/palleramcharan/Pythonpractice/blob/main/FreeCodeCampPractice.ipynb\" target=\"_parent\"><img src=\"https://colab.research.google.com/assets/colab-badge.svg\" alt=\"Open In Colab\"/></a>"
      ]
    },
    {
      "cell_type": "code",
      "metadata": {
        "colab": {
          "base_uri": "https://localhost:8080/"
        },
        "cellView": "code",
        "id": "TR1SnElk3BuR",
        "outputId": "f16a6977-b5f9-4e83-d86f-406f858184b4"
      },
      "source": [
        "#@title Default title text\n",
        "import numpy as np\n",
        "\n",
        "a=np.array([[1,2,3,11,22,33],[4,5,6,44,55,66],[7,8,9,77,88,99]])\n",
        "print(a)"
      ],
      "execution_count": 170,
      "outputs": [
        {
          "output_type": "stream",
          "text": [
            "[[ 1  2  3 11 22 33]\n",
            " [ 4  5  6 44 55 66]\n",
            " [ 7  8  9 77 88 99]]\n"
          ],
          "name": "stdout"
        }
      ]
    },
    {
      "cell_type": "markdown",
      "metadata": {
        "id": "B_V9oAh64Qrg"
      },
      "source": [
        "\n",
        "shape of an array\n"
      ]
    },
    {
      "cell_type": "code",
      "metadata": {
        "colab": {
          "base_uri": "https://localhost:8080/"
        },
        "id": "ofIH4ley3qa1",
        "outputId": "16238222-3813-459a-94aa-3f23049ae4b6"
      },
      "source": [
        "a.shape "
      ],
      "execution_count": 171,
      "outputs": [
        {
          "output_type": "execute_result",
          "data": {
            "text/plain": [
              "(3, 6)"
            ]
          },
          "metadata": {
            "tags": []
          },
          "execution_count": 171
        }
      ]
    },
    {
      "cell_type": "markdown",
      "metadata": {
        "id": "0hStQMuS4fdK"
      },
      "source": [
        "size of an array"
      ]
    },
    {
      "cell_type": "code",
      "metadata": {
        "colab": {
          "base_uri": "https://localhost:8080/"
        },
        "id": "OxzCi0kt4oH7",
        "outputId": "48dbdee5-de5c-4a8e-f082-511f71af2c17"
      },
      "source": [
        "a.size"
      ],
      "execution_count": 172,
      "outputs": [
        {
          "output_type": "execute_result",
          "data": {
            "text/plain": [
              "18"
            ]
          },
          "metadata": {
            "tags": []
          },
          "execution_count": 172
        }
      ]
    },
    {
      "cell_type": "markdown",
      "metadata": {
        "id": "W7PAMqNB43NR"
      },
      "source": [
        "Number of Dimentions"
      ]
    },
    {
      "cell_type": "code",
      "metadata": {
        "colab": {
          "base_uri": "https://localhost:8080/"
        },
        "id": "t0RhyG-S45TZ",
        "outputId": "3a7cdc93-ae93-462c-dfef-ea426f52aace"
      },
      "source": [
        "a.ndim"
      ],
      "execution_count": 173,
      "outputs": [
        {
          "output_type": "execute_result",
          "data": {
            "text/plain": [
              "2"
            ]
          },
          "metadata": {
            "tags": []
          },
          "execution_count": 173
        }
      ]
    },
    {
      "cell_type": "markdown",
      "metadata": {
        "id": "Qsi-iJPP5xhm"
      },
      "source": [
        "Indexing & Slicing of Matrices"
      ]
    },
    {
      "cell_type": "code",
      "metadata": {
        "colab": {
          "base_uri": "https://localhost:8080/"
        },
        "id": "xQ3ioUYq59SY",
        "outputId": "cd78d92f-1cee-423c-9317-b291bb8b5b72"
      },
      "source": [
        "a[1,3]"
      ],
      "execution_count": 174,
      "outputs": [
        {
          "output_type": "execute_result",
          "data": {
            "text/plain": [
              "44"
            ]
          },
          "metadata": {
            "tags": []
          },
          "execution_count": 174
        }
      ]
    },
    {
      "cell_type": "code",
      "metadata": {
        "colab": {
          "base_uri": "https://localhost:8080/"
        },
        "id": "gSQAYfll6H-2",
        "outputId": "e1c4d164-e8d9-4545-dea4-76da91c2fa8b"
      },
      "source": [
        "a[0,2]"
      ],
      "execution_count": 175,
      "outputs": [
        {
          "output_type": "execute_result",
          "data": {
            "text/plain": [
              "3"
            ]
          },
          "metadata": {
            "tags": []
          },
          "execution_count": 175
        }
      ]
    },
    {
      "cell_type": "markdown",
      "metadata": {
        "id": "7nB5zfeq6-Xe"
      },
      "source": [
        "Replacing the array numbers"
      ]
    },
    {
      "cell_type": "code",
      "metadata": {
        "colab": {
          "base_uri": "https://localhost:8080/"
        },
        "id": "mi67pMTw60qN",
        "outputId": "3d32295c-fddb-43e5-8b1e-3595d81e9842"
      },
      "source": [
        "a[1]=np.array([10,10,10,11,11,11])\n",
        "a"
      ],
      "execution_count": 176,
      "outputs": [
        {
          "output_type": "execute_result",
          "data": {
            "text/plain": [
              "array([[ 1,  2,  3, 11, 22, 33],\n",
              "       [10, 10, 10, 11, 11, 11],\n",
              "       [ 7,  8,  9, 77, 88, 99]])"
            ]
          },
          "metadata": {
            "tags": []
          },
          "execution_count": 176
        }
      ]
    },
    {
      "cell_type": "code",
      "metadata": {
        "colab": {
          "base_uri": "https://localhost:8080/"
        },
        "id": "iMd4Ras77FXd",
        "outputId": "0e7d9de7-e94b-4133-a48d-d0b8e3192eb6"
      },
      "source": [
        "a[1]=90\n",
        "a"
      ],
      "execution_count": 177,
      "outputs": [
        {
          "output_type": "execute_result",
          "data": {
            "text/plain": [
              "array([[ 1,  2,  3, 11, 22, 33],\n",
              "       [90, 90, 90, 90, 90, 90],\n",
              "       [ 7,  8,  9, 77, 88, 99]])"
            ]
          },
          "metadata": {
            "tags": []
          },
          "execution_count": 177
        }
      ]
    },
    {
      "cell_type": "code",
      "metadata": {
        "id": "Bb-1_FHIF_BE"
      },
      "source": [
        "a[1]=np.array([4,5,6,44,55,66])"
      ],
      "execution_count": 178,
      "outputs": []
    },
    {
      "cell_type": "markdown",
      "metadata": {
        "id": "AzGbkg7iFxZ8"
      },
      "source": [
        "Summary Statistics"
      ]
    },
    {
      "cell_type": "code",
      "metadata": {
        "colab": {
          "base_uri": "https://localhost:8080/"
        },
        "id": "74oE4CxNF1sk",
        "outputId": "9c5950d6-e92b-4c84-91b0-c9eadd8b10e3"
      },
      "source": [
        "print(a)\n",
        "print(\" \") # to make the blank space\n",
        "print(\"sum of matrix is : \",a.sum())\n",
        "print(\" \")\n",
        "print(\"Standard Deviation of the matrix is : \",a.std())\n",
        "print(\" \")\n",
        "print(\"Mean of the matrix is : \",a.mean())"
      ],
      "execution_count": 179,
      "outputs": [
        {
          "output_type": "stream",
          "text": [
            "[[ 1  2  3 11 22 33]\n",
            " [ 4  5  6 44 55 66]\n",
            " [ 7  8  9 77 88 99]]\n",
            " \n",
            "sum of matrix is :  540\n",
            " \n",
            "Standard Deviation of the matrix is :  32.11956828269438\n",
            " \n",
            "Mean of the matrix is :  30.0\n"
          ],
          "name": "stdout"
        }
      ]
    },
    {
      "cell_type": "code",
      "metadata": {
        "colab": {
          "base_uri": "https://localhost:8080/"
        },
        "id": "e6vgAv4VNdTd",
        "outputId": "5d5e6b02-f4e9-4265-e359-be8813e661a5"
      },
      "source": [
        "c = np.arange(5) #gives the numbers starting from 0\n",
        "c + 20\n",
        "c"
      ],
      "execution_count": 180,
      "outputs": [
        {
          "output_type": "execute_result",
          "data": {
            "text/plain": [
              "array([0, 1, 2, 3, 4])"
            ]
          },
          "metadata": {
            "tags": []
          },
          "execution_count": 180
        }
      ]
    },
    {
      "cell_type": "markdown",
      "metadata": {
        "id": "H-6lGZVeY7XZ"
      },
      "source": [
        "Boolean arrays"
      ]
    },
    {
      "cell_type": "code",
      "metadata": {
        "colab": {
          "base_uri": "https://localhost:8080/"
        },
        "id": "8WkkmFFSY_fM",
        "outputId": "cd302b5e-0ee4-429c-eace-8ece305c9091"
      },
      "source": [
        "print(\"Array is: \",c)\n",
        "print(\" \")\n",
        "print(\"Is the array greater than or equal  2: \",c >= 2)  #gives boolean output\n",
        "print(\" \")\n",
        "print(\"Return the numbers less than or equal to 2: \", c[c>=2])\n",
        "print(\" \")\n",
        "print(\"Return the numbers greater than mean ie.,\", c.mean(),\" Result : \",c[c>c.mean()])\n",
        "print(\" \")\n",
        "print(\"Return the numbers equal to 1 OR 2 : \",c[(c==1) | (c==2)])\n",
        "print(\" \")\n",
        "print(\"Return the numbers equal to 1 AND 2 : \",c[(c==1) & (c==2)])"
      ],
      "execution_count": 185,
      "outputs": [
        {
          "output_type": "stream",
          "text": [
            "Array is:  [0 1 2 3 4]\n",
            " \n",
            "Is the array greater than or equal  2:  [False False  True  True  True]\n",
            " \n",
            "Return the numbers less than or equal to 2:  [2 3 4]\n",
            " \n",
            "Return the numbers greater than mean ie., 2.0  Result :  [3 4]\n",
            " \n",
            "Return the numbers equal to 1 OR 2 :  [1 2]\n",
            " \n",
            "Return the numbers equal to 1 AND 2 :  []\n"
          ],
          "name": "stdout"
        }
      ]
    }
  ]
}