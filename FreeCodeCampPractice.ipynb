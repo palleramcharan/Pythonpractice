{
  "nbformat": 4,
  "nbformat_minor": 0,
  "metadata": {
    "colab": {
      "name": "FreeCodeCampPractice.ipynb",
      "provenance": [],
      "collapsed_sections": [],
      "authorship_tag": "ABX9TyMoiKUfgoLHT3remFgeefxL"
    },
    "kernelspec": {
      "name": "python3",
      "display_name": "Python 3"
    },
    "language_info": {
      "name": "python"
    }
  },
  "cells": [
    {
      "cell_type": "markdown",
      "metadata": {
        "id": "83Dv05O4c7mZ"
      },
      "source": [
        "#Numpy"
      ]
    },
    {
      "cell_type": "code",
      "metadata": {
        "colab": {
          "base_uri": "https://localhost:8080/"
        },
        "cellView": "code",
        "id": "TR1SnElk3BuR",
        "outputId": "a9d54360-d126-40a9-c00d-3557bd98115b"
      },
      "source": [
        "#@title Default title text\n",
        "import numpy as np\n",
        "\n",
        "a=np.array([[1,2,3,11,22,33],[4,5,6,44,55,66],[7,8,9,77,88,99]])\n",
        "print(a)"
      ],
      "execution_count": 63,
      "outputs": [
        {
          "output_type": "stream",
          "text": [
            "[[ 1  2  3 11 22 33]\n",
            " [ 4  5  6 44 55 66]\n",
            " [ 7  8  9 77 88 99]]\n"
          ],
          "name": "stdout"
        }
      ]
    },
    {
      "cell_type": "markdown",
      "metadata": {
        "id": "B_V9oAh64Qrg"
      },
      "source": [
        "\n",
        "shape of an array\n"
      ]
    },
    {
      "cell_type": "code",
      "metadata": {
        "colab": {
          "base_uri": "https://localhost:8080/"
        },
        "id": "ofIH4ley3qa1",
        "outputId": "df636d01-9eb7-4730-be4b-d787940caf26"
      },
      "source": [
        "a.shape "
      ],
      "execution_count": 64,
      "outputs": [
        {
          "output_type": "execute_result",
          "data": {
            "text/plain": [
              "(3, 6)"
            ]
          },
          "metadata": {
            "tags": []
          },
          "execution_count": 64
        }
      ]
    },
    {
      "cell_type": "markdown",
      "metadata": {
        "id": "0hStQMuS4fdK"
      },
      "source": [
        "size of an array"
      ]
    },
    {
      "cell_type": "code",
      "metadata": {
        "colab": {
          "base_uri": "https://localhost:8080/"
        },
        "id": "OxzCi0kt4oH7",
        "outputId": "03e120b5-f0e7-48a6-c750-d8c258a18f5a"
      },
      "source": [
        "a.size"
      ],
      "execution_count": 65,
      "outputs": [
        {
          "output_type": "execute_result",
          "data": {
            "text/plain": [
              "18"
            ]
          },
          "metadata": {
            "tags": []
          },
          "execution_count": 65
        }
      ]
    },
    {
      "cell_type": "markdown",
      "metadata": {
        "id": "W7PAMqNB43NR"
      },
      "source": [
        "Number of Dimentions"
      ]
    },
    {
      "cell_type": "code",
      "metadata": {
        "colab": {
          "base_uri": "https://localhost:8080/"
        },
        "id": "t0RhyG-S45TZ",
        "outputId": "82ba3a1b-51d1-45dc-aec3-7f9894d63ca8"
      },
      "source": [
        "a.ndim"
      ],
      "execution_count": 66,
      "outputs": [
        {
          "output_type": "execute_result",
          "data": {
            "text/plain": [
              "2"
            ]
          },
          "metadata": {
            "tags": []
          },
          "execution_count": 66
        }
      ]
    },
    {
      "cell_type": "markdown",
      "metadata": {
        "id": "Qsi-iJPP5xhm"
      },
      "source": [
        "Indexing & Slicing of Matrices"
      ]
    },
    {
      "cell_type": "code",
      "metadata": {
        "colab": {
          "base_uri": "https://localhost:8080/"
        },
        "id": "xQ3ioUYq59SY",
        "outputId": "9106e168-d90a-4969-bda1-6b565ec17164"
      },
      "source": [
        "a[1,3]"
      ],
      "execution_count": 67,
      "outputs": [
        {
          "output_type": "execute_result",
          "data": {
            "text/plain": [
              "44"
            ]
          },
          "metadata": {
            "tags": []
          },
          "execution_count": 67
        }
      ]
    },
    {
      "cell_type": "code",
      "metadata": {
        "colab": {
          "base_uri": "https://localhost:8080/"
        },
        "id": "gSQAYfll6H-2",
        "outputId": "eb203870-655c-4a24-b176-a8efea37c23f"
      },
      "source": [
        "a[0,2]"
      ],
      "execution_count": 68,
      "outputs": [
        {
          "output_type": "execute_result",
          "data": {
            "text/plain": [
              "3"
            ]
          },
          "metadata": {
            "tags": []
          },
          "execution_count": 68
        }
      ]
    },
    {
      "cell_type": "markdown",
      "metadata": {
        "id": "7nB5zfeq6-Xe"
      },
      "source": [
        "Replacing the array numbers"
      ]
    },
    {
      "cell_type": "code",
      "metadata": {
        "colab": {
          "base_uri": "https://localhost:8080/"
        },
        "id": "mi67pMTw60qN",
        "outputId": "b41b1a04-f081-419f-e1ae-d5fdb2f9ef8b"
      },
      "source": [
        "a[1]=np.array([10,10,10,11,11,11])\n",
        "a"
      ],
      "execution_count": 69,
      "outputs": [
        {
          "output_type": "execute_result",
          "data": {
            "text/plain": [
              "array([[ 1,  2,  3, 11, 22, 33],\n",
              "       [10, 10, 10, 11, 11, 11],\n",
              "       [ 7,  8,  9, 77, 88, 99]])"
            ]
          },
          "metadata": {
            "tags": []
          },
          "execution_count": 69
        }
      ]
    },
    {
      "cell_type": "code",
      "metadata": {
        "colab": {
          "base_uri": "https://localhost:8080/"
        },
        "id": "iMd4Ras77FXd",
        "outputId": "7ee4bc1c-824b-44fb-c6a4-afc02effb4de"
      },
      "source": [
        "a[1]=90\n",
        "a"
      ],
      "execution_count": 70,
      "outputs": [
        {
          "output_type": "execute_result",
          "data": {
            "text/plain": [
              "array([[ 1,  2,  3, 11, 22, 33],\n",
              "       [90, 90, 90, 90, 90, 90],\n",
              "       [ 7,  8,  9, 77, 88, 99]])"
            ]
          },
          "metadata": {
            "tags": []
          },
          "execution_count": 70
        }
      ]
    },
    {
      "cell_type": "code",
      "metadata": {
        "id": "Bb-1_FHIF_BE"
      },
      "source": [
        "a[1]=np.array([4,5,6,44,55,66])"
      ],
      "execution_count": 71,
      "outputs": []
    },
    {
      "cell_type": "markdown",
      "metadata": {
        "id": "AzGbkg7iFxZ8"
      },
      "source": [
        "Summary Statistics"
      ]
    },
    {
      "cell_type": "code",
      "metadata": {
        "colab": {
          "base_uri": "https://localhost:8080/"
        },
        "id": "74oE4CxNF1sk",
        "outputId": "d68b53f2-f448-4d81-91cd-05c6bc166fbc"
      },
      "source": [
        "print(a)\n",
        "print(\" \") # to make the blank space\n",
        "print(\"sum of matrix is : \",a.sum())\n",
        "print(\" \")\n",
        "print(\"Standard Deviation of the matrix is : \",a.std())\n",
        "print(\" \")\n",
        "print(\"Mean of the matrix is : \",a.mean())"
      ],
      "execution_count": 72,
      "outputs": [
        {
          "output_type": "stream",
          "text": [
            "[[ 1  2  3 11 22 33]\n",
            " [ 4  5  6 44 55 66]\n",
            " [ 7  8  9 77 88 99]]\n",
            " \n",
            "sum of matrix is :  540\n",
            " \n",
            "Standard Deviation of the matrix is :  32.11956828269438\n",
            " \n",
            "Mean of the matrix is :  30.0\n"
          ],
          "name": "stdout"
        }
      ]
    },
    {
      "cell_type": "code",
      "metadata": {
        "colab": {
          "base_uri": "https://localhost:8080/"
        },
        "id": "e6vgAv4VNdTd",
        "outputId": "ccaa9bca-7f80-4193-de95-abd7df283330"
      },
      "source": [
        "c = np.arange(5) #gives the numbers starting from 0\n",
        "c + 20\n",
        "c"
      ],
      "execution_count": 73,
      "outputs": [
        {
          "output_type": "execute_result",
          "data": {
            "text/plain": [
              "array([0, 1, 2, 3, 4])"
            ]
          },
          "metadata": {
            "tags": []
          },
          "execution_count": 73
        }
      ]
    },
    {
      "cell_type": "markdown",
      "metadata": {
        "id": "H-6lGZVeY7XZ"
      },
      "source": [
        "Boolean arrays"
      ]
    },
    {
      "cell_type": "code",
      "metadata": {
        "colab": {
          "base_uri": "https://localhost:8080/"
        },
        "id": "8WkkmFFSY_fM",
        "outputId": "92abccb8-583d-4382-9f87-84b012224a72"
      },
      "source": [
        "print(\"Array is: \",c)\n",
        "print(\" \")\n",
        "print(\"Is the array greater than or equal  2: \",c >= 2)  #gives boolean output\n",
        "print(\" \")\n",
        "print(\"Return the numbers less than or equal to 2: \", c[c>=2])\n",
        "print(\" \")\n",
        "print(\"Return the numbers greater than mean ie.,\", c.mean(),\" Result : \",c[c>c.mean()])\n",
        "print(\" \")\n",
        "print(\"Return the numbers equal to 1 OR 2 : \",c[(c==1) | (c==2)])\n",
        "print(\" \")\n",
        "print(\"Return the numbers equal to 1 AND 2 : \",c[(c==1) & (c==2)])"
      ],
      "execution_count": 74,
      "outputs": [
        {
          "output_type": "stream",
          "text": [
            "Array is:  [0 1 2 3 4]\n",
            " \n",
            "Is the array greater than or equal  2:  [False False  True  True  True]\n",
            " \n",
            "Return the numbers less than or equal to 2:  [2 3 4]\n",
            " \n",
            "Return the numbers greater than mean ie., 2.0  Result :  [3 4]\n",
            " \n",
            "Return the numbers equal to 1 OR 2 :  [1 2]\n",
            " \n",
            "Return the numbers equal to 1 AND 2 :  []\n"
          ],
          "name": "stdout"
        }
      ]
    },
    {
      "cell_type": "markdown",
      "metadata": {
        "id": "b2hvallqzMXR"
      },
      "source": [
        "Linear Algebra"
      ]
    },
    {
      "cell_type": "code",
      "metadata": {
        "colab": {
          "base_uri": "https://localhost:8080/"
        },
        "id": "AbKyABf_zPNl",
        "outputId": "231993df-f692-4273-8f02-e70a792e92f9"
      },
      "source": [
        "d=np.array([[12,14,15,16],[55,34,56,90]])\n",
        "e=np.array([[78,45,24,56],[90,65,78,99]])\n",
        "print(d)\n",
        "print(\" \")\n",
        "print(e)"
      ],
      "execution_count": 75,
      "outputs": [
        {
          "output_type": "stream",
          "text": [
            "[[12 14 15 16]\n",
            " [55 34 56 90]]\n",
            " \n",
            "[[78 45 24 56]\n",
            " [90 65 78 99]]\n"
          ],
          "name": "stdout"
        }
      ]
    },
    {
      "cell_type": "code",
      "metadata": {
        "colab": {
          "base_uri": "https://localhost:8080/"
        },
        "id": "HZrrDMFi0IHv",
        "outputId": "98a5c76c-9bef-43c4-8538-5a432a29bb0c"
      },
      "source": [
        "d*e"
      ],
      "execution_count": 76,
      "outputs": [
        {
          "output_type": "execute_result",
          "data": {
            "text/plain": [
              "array([[ 936,  630,  360,  896],\n",
              "       [4950, 2210, 4368, 8910]])"
            ]
          },
          "metadata": {
            "tags": []
          },
          "execution_count": 76
        }
      ]
    },
    {
      "cell_type": "markdown",
      "metadata": {
        "id": "hbxKk4JCcGYc"
      },
      "source": [
        "#Pandas"
      ]
    },
    {
      "cell_type": "markdown",
      "metadata": {
        "id": "uYl__xm-cM1P"
      },
      "source": [
        "Pandas series"
      ]
    },
    {
      "cell_type": "code",
      "metadata": {
        "colab": {
          "base_uri": "https://localhost:8080/"
        },
        "id": "MCnFDSSacMcE",
        "outputId": "15a2826e-ed66-40ee-d52a-dbe42312241f"
      },
      "source": [
        "import pandas as pd\n",
        "\n",
        "se=pd.Series([12.22,23.33,34.44,45.55,56.77])\n",
        "se.name=\"List of amount\"\n",
        "print(se)\n",
        "print(\" \")\n",
        "print(\"The Type of the above series is '\", type(se.values),\"' and values are\",se.values,\" and size is \",se.size)\n"
      ],
      "execution_count": 77,
      "outputs": [
        {
          "output_type": "stream",
          "text": [
            "0    12.22\n",
            "1    23.33\n",
            "2    34.44\n",
            "3    45.55\n",
            "4    56.77\n",
            "Name: List of amount, dtype: float64\n",
            " \n",
            "The Type of the above series is ' <class 'numpy.ndarray'> ' and values are [12.22 23.33 34.44 45.55 56.77]  and size is  5\n"
          ],
          "name": "stdout"
        }
      ]
    },
    {
      "cell_type": "code",
      "metadata": {
        "colab": {
          "base_uri": "https://localhost:8080/"
        },
        "id": "t_VLb0W4ohMZ",
        "outputId": "6a1dc1dc-0a3b-4891-a7bf-db2f588c57e1"
      },
      "source": [
        "g7_pop = pd.Series([35.467, 63.951, 80.940, 60.665, 127.061, 64.511, 318.523])\n",
        "g7_pop=g7_pop*10_00_000\n",
        "g7_pop.name = 'G7 Population in millions'\n",
        "g7_pop.index =(['Canada',\n",
        "    'France',\n",
        "    'Germany',\n",
        "    'Italy',\n",
        "    'Japan',\n",
        "    'United Kingdom',\n",
        "    'United States'])\n",
        "print(g7_pop)\n",
        "print(\" \")\n",
        "print(\" \")\n",
        "print(\"Population greater than 80 Million :\")\n",
        "print(\" \")\n",
        "print(g7_pop[g7_pop>=80000000])"
      ],
      "execution_count": 78,
      "outputs": [
        {
          "output_type": "stream",
          "text": [
            "Canada             35467000.0\n",
            "France             63951000.0\n",
            "Germany            80940000.0\n",
            "Italy              60665000.0\n",
            "Japan             127061000.0\n",
            "United Kingdom     64511000.0\n",
            "United States     318523000.0\n",
            "Name: G7 Population in millions, dtype: float64\n",
            " \n",
            " \n",
            "Population greater than 80 Million :\n",
            " \n",
            "Germany           80940000.0\n",
            "Japan            127061000.0\n",
            "United States    318523000.0\n",
            "Name: G7 Population in millions, dtype: float64\n"
          ],
          "name": "stdout"
        }
      ]
    },
    {
      "cell_type": "markdown",
      "metadata": {
        "id": "Ykm8nfF5zlRm"
      },
      "source": [
        "Dataframes"
      ]
    },
    {
      "cell_type": "code",
      "metadata": {
        "colab": {
          "base_uri": "https://localhost:8080/"
        },
        "id": "_O4Ql_fizn4u",
        "outputId": "10436308-d544-468a-d4df-b1abcd7dcef3"
      },
      "source": [
        "df=pd.DataFrame({\n",
        "    \"Population\":(12.3,45.66,78.54,99.99,12.67,56.56),\n",
        "    \"GDP\":(134533,645464,778877,345245,345345,778886),\n",
        "    \"Surface Area\":(44556677,23423523,3563463,2342352,236236,235235),\n",
        "    \"MDI\":(0.987,0.986,0.252,0.53463,0.232,0.24352),\n",
        "    \"Continent\":('America','Europe','Europe','Europe','Asia','Europe')\n",
        "})\n",
        "print(df)\n",
        "print(\" \")\n",
        "print(df.info())\n",
        "print(\" \")\n",
        "print(\"Shape of the DataFrame is : \",df.shape)\n",
        "print(\" \")\n",
        "print(\"Size of the DataFrame is : \",df.size)"
      ],
      "execution_count": 79,
      "outputs": [
        {
          "output_type": "stream",
          "text": [
            "   Population     GDP  Surface Area      MDI Continent\n",
            "0       12.30  134533      44556677  0.98700   America\n",
            "1       45.66  645464      23423523  0.98600    Europe\n",
            "2       78.54  778877       3563463  0.25200    Europe\n",
            "3       99.99  345245       2342352  0.53463    Europe\n",
            "4       12.67  345345        236236  0.23200      Asia\n",
            "5       56.56  778886        235235  0.24352    Europe\n",
            " \n",
            "<class 'pandas.core.frame.DataFrame'>\n",
            "RangeIndex: 6 entries, 0 to 5\n",
            "Data columns (total 5 columns):\n",
            " #   Column        Non-Null Count  Dtype  \n",
            "---  ------        --------------  -----  \n",
            " 0   Population    6 non-null      float64\n",
            " 1   GDP           6 non-null      int64  \n",
            " 2   Surface Area  6 non-null      int64  \n",
            " 3   MDI           6 non-null      float64\n",
            " 4   Continent     6 non-null      object \n",
            "dtypes: float64(2), int64(2), object(1)\n",
            "memory usage: 368.0+ bytes\n",
            "None\n",
            " \n",
            "Shape of the DataFrame is :  (6, 5)\n",
            " \n",
            "Size of the DataFrame is :  30\n"
          ],
          "name": "stdout"
        }
      ]
    },
    {
      "cell_type": "markdown",
      "metadata": {
        "id": "1qnhkcie4a5g"
      },
      "source": [
        "Indexing,Selection & Slicing"
      ]
    },
    {
      "cell_type": "code",
      "metadata": {
        "colab": {
          "base_uri": "https://localhost:8080/"
        },
        "id": "HZo4gUvu4fTB",
        "outputId": "2fbdf52b-6720-4928-b4e6-1b7ed8635b4a"
      },
      "source": [
        "df.index = [\n",
        "    'Canada',\n",
        "    'France',\n",
        "    'Germany',\n",
        "    'Italy',\n",
        "    'Japan',\n",
        "    'United Kingdom'\n",
        "]\n",
        "\n",
        "print(df.loc[\"Canada\"])    #loc is used to get the individual rows by index\n",
        "print(\" \")\n",
        "print(df.iloc[-1])        #loc is used to get the individual rows by precision of sequentiol order of the columns"
      ],
      "execution_count": 80,
      "outputs": [
        {
          "output_type": "stream",
          "text": [
            "Population          12.3\n",
            "GDP               134533\n",
            "Surface Area    44556677\n",
            "MDI                0.987\n",
            "Continent        America\n",
            "Name: Canada, dtype: object\n",
            " \n",
            "Population        56.56\n",
            "GDP              778886\n",
            "Surface Area     235235\n",
            "MDI             0.24352\n",
            "Continent        Europe\n",
            "Name: United Kingdom, dtype: object\n"
          ],
          "name": "stdout"
        }
      ]
    },
    {
      "cell_type": "markdown",
      "metadata": {
        "id": "JCr8gh5C9tP6"
      },
      "source": [
        "Coditional Selection (Boolean Arrays)"
      ]
    },
    {
      "cell_type": "code",
      "metadata": {
        "colab": {
          "base_uri": "https://localhost:8080/"
        },
        "id": "cixWfyhf9yD5",
        "outputId": "9192adb8-ce64-4436-d515-b10fba15c841"
      },
      "source": [
        "print(df)\n",
        "print(\" \")\n",
        "print(df.iloc[0,[0,3]])\n",
        "print(\" \")\n",
        "print(df.iloc[0,0:3])\n",
        "print(\" \")\n",
        "print(df[df[\"Population\"]>=70])"
      ],
      "execution_count": 81,
      "outputs": [
        {
          "output_type": "stream",
          "text": [
            "                Population     GDP  Surface Area      MDI Continent\n",
            "Canada               12.30  134533      44556677  0.98700   America\n",
            "France               45.66  645464      23423523  0.98600    Europe\n",
            "Germany              78.54  778877       3563463  0.25200    Europe\n",
            "Italy                99.99  345245       2342352  0.53463    Europe\n",
            "Japan                12.67  345345        236236  0.23200      Asia\n",
            "United Kingdom       56.56  778886        235235  0.24352    Europe\n",
            " \n",
            "Population     12.3\n",
            "MDI           0.987\n",
            "Name: Canada, dtype: object\n",
            " \n",
            "Population          12.3\n",
            "GDP               134533\n",
            "Surface Area    44556677\n",
            "Name: Canada, dtype: object\n",
            " \n",
            "         Population     GDP  Surface Area      MDI Continent\n",
            "Germany       78.54  778877       3563463  0.25200    Europe\n",
            "Italy         99.99  345245       2342352  0.53463    Europe\n"
          ],
          "name": "stdout"
        }
      ]
    },
    {
      "cell_type": "markdown",
      "metadata": {
        "id": "x5UhDfgQAknh"
      },
      "source": [
        "Dropping by index and columns"
      ]
    },
    {
      "cell_type": "code",
      "metadata": {
        "colab": {
          "base_uri": "https://localhost:8080/",
          "height": 235
        },
        "id": "DtS0TWPyAqTe",
        "outputId": "e58201e5-43d6-453e-cfda-8dc624031d4c"
      },
      "source": [
        "df.drop([\"Population\"],axis=1) #dropping columns using axis\n",
        "df.drop([\"Population\",\"GDP\"],axis= 'columns')\n",
        "df.drop(columns=[\"Population\",\"GDP\"],axis= 'columns')"
      ],
      "execution_count": 82,
      "outputs": [
        {
          "output_type": "execute_result",
          "data": {
            "text/html": [
              "<div>\n",
              "<style scoped>\n",
              "    .dataframe tbody tr th:only-of-type {\n",
              "        vertical-align: middle;\n",
              "    }\n",
              "\n",
              "    .dataframe tbody tr th {\n",
              "        vertical-align: top;\n",
              "    }\n",
              "\n",
              "    .dataframe thead th {\n",
              "        text-align: right;\n",
              "    }\n",
              "</style>\n",
              "<table border=\"1\" class=\"dataframe\">\n",
              "  <thead>\n",
              "    <tr style=\"text-align: right;\">\n",
              "      <th></th>\n",
              "      <th>Surface Area</th>\n",
              "      <th>MDI</th>\n",
              "      <th>Continent</th>\n",
              "    </tr>\n",
              "  </thead>\n",
              "  <tbody>\n",
              "    <tr>\n",
              "      <th>Canada</th>\n",
              "      <td>44556677</td>\n",
              "      <td>0.98700</td>\n",
              "      <td>America</td>\n",
              "    </tr>\n",
              "    <tr>\n",
              "      <th>France</th>\n",
              "      <td>23423523</td>\n",
              "      <td>0.98600</td>\n",
              "      <td>Europe</td>\n",
              "    </tr>\n",
              "    <tr>\n",
              "      <th>Germany</th>\n",
              "      <td>3563463</td>\n",
              "      <td>0.25200</td>\n",
              "      <td>Europe</td>\n",
              "    </tr>\n",
              "    <tr>\n",
              "      <th>Italy</th>\n",
              "      <td>2342352</td>\n",
              "      <td>0.53463</td>\n",
              "      <td>Europe</td>\n",
              "    </tr>\n",
              "    <tr>\n",
              "      <th>Japan</th>\n",
              "      <td>236236</td>\n",
              "      <td>0.23200</td>\n",
              "      <td>Asia</td>\n",
              "    </tr>\n",
              "    <tr>\n",
              "      <th>United Kingdom</th>\n",
              "      <td>235235</td>\n",
              "      <td>0.24352</td>\n",
              "      <td>Europe</td>\n",
              "    </tr>\n",
              "  </tbody>\n",
              "</table>\n",
              "</div>"
            ],
            "text/plain": [
              "                Surface Area      MDI Continent\n",
              "Canada              44556677  0.98700   America\n",
              "France              23423523  0.98600    Europe\n",
              "Germany              3563463  0.25200    Europe\n",
              "Italy                2342352  0.53463    Europe\n",
              "Japan                 236236  0.23200      Asia\n",
              "United Kingdom        235235  0.24352    Europe"
            ]
          },
          "metadata": {
            "tags": []
          },
          "execution_count": 82
        }
      ]
    },
    {
      "cell_type": "code",
      "metadata": {
        "colab": {
          "base_uri": "https://localhost:8080/",
          "height": 235
        },
        "id": "VBmQwbcJBZPc",
        "outputId": "1cee1017-487e-4b16-9006-514052f4bce8"
      },
      "source": [
        "lang=pd.Series([\"English\",\"French\",\"Japanese\"],index=[\"Canada\",\"France\",\"Japan\"])\n",
        "df[\"Language\"]=lang\n",
        "df"
      ],
      "execution_count": 83,
      "outputs": [
        {
          "output_type": "execute_result",
          "data": {
            "text/html": [
              "<div>\n",
              "<style scoped>\n",
              "    .dataframe tbody tr th:only-of-type {\n",
              "        vertical-align: middle;\n",
              "    }\n",
              "\n",
              "    .dataframe tbody tr th {\n",
              "        vertical-align: top;\n",
              "    }\n",
              "\n",
              "    .dataframe thead th {\n",
              "        text-align: right;\n",
              "    }\n",
              "</style>\n",
              "<table border=\"1\" class=\"dataframe\">\n",
              "  <thead>\n",
              "    <tr style=\"text-align: right;\">\n",
              "      <th></th>\n",
              "      <th>Population</th>\n",
              "      <th>GDP</th>\n",
              "      <th>Surface Area</th>\n",
              "      <th>MDI</th>\n",
              "      <th>Continent</th>\n",
              "      <th>Language</th>\n",
              "    </tr>\n",
              "  </thead>\n",
              "  <tbody>\n",
              "    <tr>\n",
              "      <th>Canada</th>\n",
              "      <td>12.30</td>\n",
              "      <td>134533</td>\n",
              "      <td>44556677</td>\n",
              "      <td>0.98700</td>\n",
              "      <td>America</td>\n",
              "      <td>English</td>\n",
              "    </tr>\n",
              "    <tr>\n",
              "      <th>France</th>\n",
              "      <td>45.66</td>\n",
              "      <td>645464</td>\n",
              "      <td>23423523</td>\n",
              "      <td>0.98600</td>\n",
              "      <td>Europe</td>\n",
              "      <td>French</td>\n",
              "    </tr>\n",
              "    <tr>\n",
              "      <th>Germany</th>\n",
              "      <td>78.54</td>\n",
              "      <td>778877</td>\n",
              "      <td>3563463</td>\n",
              "      <td>0.25200</td>\n",
              "      <td>Europe</td>\n",
              "      <td>NaN</td>\n",
              "    </tr>\n",
              "    <tr>\n",
              "      <th>Italy</th>\n",
              "      <td>99.99</td>\n",
              "      <td>345245</td>\n",
              "      <td>2342352</td>\n",
              "      <td>0.53463</td>\n",
              "      <td>Europe</td>\n",
              "      <td>NaN</td>\n",
              "    </tr>\n",
              "    <tr>\n",
              "      <th>Japan</th>\n",
              "      <td>12.67</td>\n",
              "      <td>345345</td>\n",
              "      <td>236236</td>\n",
              "      <td>0.23200</td>\n",
              "      <td>Asia</td>\n",
              "      <td>Japanese</td>\n",
              "    </tr>\n",
              "    <tr>\n",
              "      <th>United Kingdom</th>\n",
              "      <td>56.56</td>\n",
              "      <td>778886</td>\n",
              "      <td>235235</td>\n",
              "      <td>0.24352</td>\n",
              "      <td>Europe</td>\n",
              "      <td>NaN</td>\n",
              "    </tr>\n",
              "  </tbody>\n",
              "</table>\n",
              "</div>"
            ],
            "text/plain": [
              "                Population     GDP  Surface Area      MDI Continent  Language\n",
              "Canada               12.30  134533      44556677  0.98700   America   English\n",
              "France               45.66  645464      23423523  0.98600    Europe    French\n",
              "Germany              78.54  778877       3563463  0.25200    Europe       NaN\n",
              "Italy                99.99  345245       2342352  0.53463    Europe       NaN\n",
              "Japan                12.67  345345        236236  0.23200      Asia  Japanese\n",
              "United Kingdom       56.56  778886        235235  0.24352    Europe       NaN"
            ]
          },
          "metadata": {
            "tags": []
          },
          "execution_count": 83
        }
      ]
    },
    {
      "cell_type": "code",
      "metadata": {
        "colab": {
          "base_uri": "https://localhost:8080/",
          "height": 235
        },
        "id": "lBE82WBZpafv",
        "outputId": "06efba89-6330-4c86-dffe-3770b6f99488"
      },
      "source": [
        "#Renaming of the columns and the indexes\n",
        "\n",
        "df.rename(columns={\n",
        "    \"Language\":\"Lang\",\n",
        "    \"Population\":\"Popu\"\n",
        "},index={\"United Kingdom\":\"UK\"})\n",
        "#df.drop(columns=[\"Language\"],axis=\"columns\",inplace=True)\n",
        "#df\n"
      ],
      "execution_count": 84,
      "outputs": [
        {
          "output_type": "execute_result",
          "data": {
            "text/html": [
              "<div>\n",
              "<style scoped>\n",
              "    .dataframe tbody tr th:only-of-type {\n",
              "        vertical-align: middle;\n",
              "    }\n",
              "\n",
              "    .dataframe tbody tr th {\n",
              "        vertical-align: top;\n",
              "    }\n",
              "\n",
              "    .dataframe thead th {\n",
              "        text-align: right;\n",
              "    }\n",
              "</style>\n",
              "<table border=\"1\" class=\"dataframe\">\n",
              "  <thead>\n",
              "    <tr style=\"text-align: right;\">\n",
              "      <th></th>\n",
              "      <th>Popu</th>\n",
              "      <th>GDP</th>\n",
              "      <th>Surface Area</th>\n",
              "      <th>MDI</th>\n",
              "      <th>Continent</th>\n",
              "      <th>Lang</th>\n",
              "    </tr>\n",
              "  </thead>\n",
              "  <tbody>\n",
              "    <tr>\n",
              "      <th>Canada</th>\n",
              "      <td>12.30</td>\n",
              "      <td>134533</td>\n",
              "      <td>44556677</td>\n",
              "      <td>0.98700</td>\n",
              "      <td>America</td>\n",
              "      <td>English</td>\n",
              "    </tr>\n",
              "    <tr>\n",
              "      <th>France</th>\n",
              "      <td>45.66</td>\n",
              "      <td>645464</td>\n",
              "      <td>23423523</td>\n",
              "      <td>0.98600</td>\n",
              "      <td>Europe</td>\n",
              "      <td>French</td>\n",
              "    </tr>\n",
              "    <tr>\n",
              "      <th>Germany</th>\n",
              "      <td>78.54</td>\n",
              "      <td>778877</td>\n",
              "      <td>3563463</td>\n",
              "      <td>0.25200</td>\n",
              "      <td>Europe</td>\n",
              "      <td>NaN</td>\n",
              "    </tr>\n",
              "    <tr>\n",
              "      <th>Italy</th>\n",
              "      <td>99.99</td>\n",
              "      <td>345245</td>\n",
              "      <td>2342352</td>\n",
              "      <td>0.53463</td>\n",
              "      <td>Europe</td>\n",
              "      <td>NaN</td>\n",
              "    </tr>\n",
              "    <tr>\n",
              "      <th>Japan</th>\n",
              "      <td>12.67</td>\n",
              "      <td>345345</td>\n",
              "      <td>236236</td>\n",
              "      <td>0.23200</td>\n",
              "      <td>Asia</td>\n",
              "      <td>Japanese</td>\n",
              "    </tr>\n",
              "    <tr>\n",
              "      <th>UK</th>\n",
              "      <td>56.56</td>\n",
              "      <td>778886</td>\n",
              "      <td>235235</td>\n",
              "      <td>0.24352</td>\n",
              "      <td>Europe</td>\n",
              "      <td>NaN</td>\n",
              "    </tr>\n",
              "  </tbody>\n",
              "</table>\n",
              "</div>"
            ],
            "text/plain": [
              "          Popu     GDP  Surface Area      MDI Continent      Lang\n",
              "Canada   12.30  134533      44556677  0.98700   America   English\n",
              "France   45.66  645464      23423523  0.98600    Europe    French\n",
              "Germany  78.54  778877       3563463  0.25200    Europe       NaN\n",
              "Italy    99.99  345245       2342352  0.53463    Europe       NaN\n",
              "Japan    12.67  345345        236236  0.23200      Asia  Japanese\n",
              "UK       56.56  778886        235235  0.24352    Europe       NaN"
            ]
          },
          "metadata": {
            "tags": []
          },
          "execution_count": 84
        }
      ]
    },
    {
      "cell_type": "markdown",
      "metadata": {
        "id": "LvvEl2dGNPNF"
      },
      "source": [
        "Reading CSV"
      ]
    },
    {
      "cell_type": "code",
      "metadata": {
        "colab": {
          "resources": {
            "http://localhost:8080/nbextensions/google.colab/files.js": {
              "data": "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",
              "ok": true,
              "headers": [
                [
                  "content-type",
                  "application/javascript"
                ]
              ],
              "status": 200,
              "status_text": ""
            }
          },
          "base_uri": "https://localhost:8080/",
          "height": 72
        },
        "id": "ewxFAz7UNSwN",
        "outputId": "22ed9ec2-bfa9-4a85-adae-93a7d1b63eff"
      },
      "source": [
        "from google.colab import files\n",
        "uploaded = files.upload()"
      ],
      "execution_count": 85,
      "outputs": [
        {
          "output_type": "display_data",
          "data": {
            "text/html": [
              "\n",
              "     <input type=\"file\" id=\"files-e1e75ef6-4778-4e6e-82a3-bd95365542d4\" name=\"files[]\" multiple disabled\n",
              "        style=\"border:none\" />\n",
              "     <output id=\"result-e1e75ef6-4778-4e6e-82a3-bd95365542d4\">\n",
              "      Upload widget is only available when the cell has been executed in the\n",
              "      current browser session. Please rerun this cell to enable.\n",
              "      </output>\n",
              "      <script src=\"/nbextensions/google.colab/files.js\"></script> "
            ],
            "text/plain": [
              "<IPython.core.display.HTML object>"
            ]
          },
          "metadata": {
            "tags": []
          }
        },
        {
          "output_type": "stream",
          "text": [
            "Saving vgsales.csv to vgsales (1).csv\n"
          ],
          "name": "stdout"
        }
      ]
    },
    {
      "cell_type": "code",
      "metadata": {
        "colab": {
          "base_uri": "https://localhost:8080/",
          "height": 419
        },
        "id": "YEFP4fX4OMqL",
        "outputId": "98cacc6a-247c-4a77-8f6a-9ca01fa127a6"
      },
      "source": [
        "import io\n",
        "df2 = pd.read_csv(io.BytesIO(uploaded['vgsales.csv'])) # Dataset is now stored in a Pandas Dataframe\n",
        "df2"
      ],
      "execution_count": 86,
      "outputs": [
        {
          "output_type": "execute_result",
          "data": {
            "text/html": [
              "<div>\n",
              "<style scoped>\n",
              "    .dataframe tbody tr th:only-of-type {\n",
              "        vertical-align: middle;\n",
              "    }\n",
              "\n",
              "    .dataframe tbody tr th {\n",
              "        vertical-align: top;\n",
              "    }\n",
              "\n",
              "    .dataframe thead th {\n",
              "        text-align: right;\n",
              "    }\n",
              "</style>\n",
              "<table border=\"1\" class=\"dataframe\">\n",
              "  <thead>\n",
              "    <tr style=\"text-align: right;\">\n",
              "      <th></th>\n",
              "      <th>Rank</th>\n",
              "      <th>Name</th>\n",
              "      <th>Platform</th>\n",
              "      <th>Year</th>\n",
              "      <th>Genre</th>\n",
              "      <th>Publisher</th>\n",
              "      <th>NA_Sales</th>\n",
              "      <th>EU_Sales</th>\n",
              "      <th>JP_Sales</th>\n",
              "      <th>Other_Sales</th>\n",
              "      <th>Global_Sales</th>\n",
              "    </tr>\n",
              "  </thead>\n",
              "  <tbody>\n",
              "    <tr>\n",
              "      <th>0</th>\n",
              "      <td>1</td>\n",
              "      <td>Wii Sports</td>\n",
              "      <td>Wii</td>\n",
              "      <td>2006.0</td>\n",
              "      <td>Sports</td>\n",
              "      <td>Nintendo</td>\n",
              "      <td>41.49</td>\n",
              "      <td>29.02</td>\n",
              "      <td>3.77</td>\n",
              "      <td>8.46</td>\n",
              "      <td>82.74</td>\n",
              "    </tr>\n",
              "    <tr>\n",
              "      <th>1</th>\n",
              "      <td>2</td>\n",
              "      <td>Super Mario Bros.</td>\n",
              "      <td>NES</td>\n",
              "      <td>1985.0</td>\n",
              "      <td>Platform</td>\n",
              "      <td>Nintendo</td>\n",
              "      <td>29.08</td>\n",
              "      <td>3.58</td>\n",
              "      <td>6.81</td>\n",
              "      <td>0.77</td>\n",
              "      <td>40.24</td>\n",
              "    </tr>\n",
              "    <tr>\n",
              "      <th>2</th>\n",
              "      <td>3</td>\n",
              "      <td>Mario Kart Wii</td>\n",
              "      <td>Wii</td>\n",
              "      <td>2008.0</td>\n",
              "      <td>Racing</td>\n",
              "      <td>Nintendo</td>\n",
              "      <td>15.85</td>\n",
              "      <td>12.88</td>\n",
              "      <td>3.79</td>\n",
              "      <td>3.31</td>\n",
              "      <td>35.82</td>\n",
              "    </tr>\n",
              "    <tr>\n",
              "      <th>3</th>\n",
              "      <td>4</td>\n",
              "      <td>Wii Sports Resort</td>\n",
              "      <td>Wii</td>\n",
              "      <td>2009.0</td>\n",
              "      <td>Sports</td>\n",
              "      <td>Nintendo</td>\n",
              "      <td>15.75</td>\n",
              "      <td>11.01</td>\n",
              "      <td>3.28</td>\n",
              "      <td>2.96</td>\n",
              "      <td>33.00</td>\n",
              "    </tr>\n",
              "    <tr>\n",
              "      <th>4</th>\n",
              "      <td>5</td>\n",
              "      <td>Pokemon Red/Pokemon Blue</td>\n",
              "      <td>GB</td>\n",
              "      <td>1996.0</td>\n",
              "      <td>Role-Playing</td>\n",
              "      <td>Nintendo</td>\n",
              "      <td>11.27</td>\n",
              "      <td>8.89</td>\n",
              "      <td>10.22</td>\n",
              "      <td>1.00</td>\n",
              "      <td>31.37</td>\n",
              "    </tr>\n",
              "    <tr>\n",
              "      <th>...</th>\n",
              "      <td>...</td>\n",
              "      <td>...</td>\n",
              "      <td>...</td>\n",
              "      <td>...</td>\n",
              "      <td>...</td>\n",
              "      <td>...</td>\n",
              "      <td>...</td>\n",
              "      <td>...</td>\n",
              "      <td>...</td>\n",
              "      <td>...</td>\n",
              "      <td>...</td>\n",
              "    </tr>\n",
              "    <tr>\n",
              "      <th>16593</th>\n",
              "      <td>16596</td>\n",
              "      <td>Woody Woodpecker in Crazy Castle 5</td>\n",
              "      <td>GBA</td>\n",
              "      <td>2002.0</td>\n",
              "      <td>Platform</td>\n",
              "      <td>Kemco</td>\n",
              "      <td>0.01</td>\n",
              "      <td>0.00</td>\n",
              "      <td>0.00</td>\n",
              "      <td>0.00</td>\n",
              "      <td>0.01</td>\n",
              "    </tr>\n",
              "    <tr>\n",
              "      <th>16594</th>\n",
              "      <td>16597</td>\n",
              "      <td>Men in Black II: Alien Escape</td>\n",
              "      <td>GC</td>\n",
              "      <td>2003.0</td>\n",
              "      <td>Shooter</td>\n",
              "      <td>Infogrames</td>\n",
              "      <td>0.01</td>\n",
              "      <td>0.00</td>\n",
              "      <td>0.00</td>\n",
              "      <td>0.00</td>\n",
              "      <td>0.01</td>\n",
              "    </tr>\n",
              "    <tr>\n",
              "      <th>16595</th>\n",
              "      <td>16598</td>\n",
              "      <td>SCORE International Baja 1000: The Official Game</td>\n",
              "      <td>PS2</td>\n",
              "      <td>2008.0</td>\n",
              "      <td>Racing</td>\n",
              "      <td>Activision</td>\n",
              "      <td>0.00</td>\n",
              "      <td>0.00</td>\n",
              "      <td>0.00</td>\n",
              "      <td>0.00</td>\n",
              "      <td>0.01</td>\n",
              "    </tr>\n",
              "    <tr>\n",
              "      <th>16596</th>\n",
              "      <td>16599</td>\n",
              "      <td>Know How 2</td>\n",
              "      <td>DS</td>\n",
              "      <td>2010.0</td>\n",
              "      <td>Puzzle</td>\n",
              "      <td>7G//AMES</td>\n",
              "      <td>0.00</td>\n",
              "      <td>0.01</td>\n",
              "      <td>0.00</td>\n",
              "      <td>0.00</td>\n",
              "      <td>0.01</td>\n",
              "    </tr>\n",
              "    <tr>\n",
              "      <th>16597</th>\n",
              "      <td>16600</td>\n",
              "      <td>Spirits &amp; Spells</td>\n",
              "      <td>GBA</td>\n",
              "      <td>2003.0</td>\n",
              "      <td>Platform</td>\n",
              "      <td>Wanadoo</td>\n",
              "      <td>0.01</td>\n",
              "      <td>0.00</td>\n",
              "      <td>0.00</td>\n",
              "      <td>0.00</td>\n",
              "      <td>0.01</td>\n",
              "    </tr>\n",
              "  </tbody>\n",
              "</table>\n",
              "<p>16598 rows × 11 columns</p>\n",
              "</div>"
            ],
            "text/plain": [
              "        Rank  ... Global_Sales\n",
              "0          1  ...        82.74\n",
              "1          2  ...        40.24\n",
              "2          3  ...        35.82\n",
              "3          4  ...        33.00\n",
              "4          5  ...        31.37\n",
              "...      ...  ...          ...\n",
              "16593  16596  ...         0.01\n",
              "16594  16597  ...         0.01\n",
              "16595  16598  ...         0.01\n",
              "16596  16599  ...         0.01\n",
              "16597  16600  ...         0.01\n",
              "\n",
              "[16598 rows x 11 columns]"
            ]
          },
          "metadata": {
            "tags": []
          },
          "execution_count": 86
        }
      ]
    },
    {
      "cell_type": "code",
      "metadata": {
        "colab": {
          "base_uri": "https://localhost:8080/",
          "height": 282
        },
        "id": "NfyxlvX4Pdx2",
        "outputId": "2b189ab8-02bd-4932-f586-a9500aac5159"
      },
      "source": [
        "df2.plot()"
      ],
      "execution_count": 87,
      "outputs": [
        {
          "output_type": "execute_result",
          "data": {
            "text/plain": [
              "<matplotlib.axes._subplots.AxesSubplot at 0x7f601c42ef50>"
            ]
          },
          "metadata": {
            "tags": []
          },
          "execution_count": 87
        },
        {
          "output_type": "display_data",
          "data": {
            "image/png": "[encoded data removed]",
            "text/plain": [
              "<Figure size 432x288 with 1 Axes>"
            ]
          },
          "metadata": {
            "tags": [],
            "needs_background": "light"
          }
        }
      ]
    },
    {
      "cell_type": "markdown",
      "metadata": {
        "id": "U3O4-k6EQjhQ"
      },
      "source": [
        "#Matplotlib Practice"
      ]
    },
    {
      "cell_type": "code",
      "metadata": {
        "colab": {
          "base_uri": "https://localhost:8080/",
          "height": 300
        },
        "id": "5DQDVs4fQrT4",
        "outputId": "36fd5547-1c13-4cef-a8db-0c884f0d8817"
      },
      "source": [
        "#sample practice sessions from  here https://www.youtube.com/watch?v=3Xc3CA655Y4&ab_channel=freeCodeCamp.org\n",
        "import matplotlib.pyplot as plt\n",
        "x=[1,2,3,4,5,6,7]\n",
        "y=[0,2,4,6,8,10,12]\n",
        "\n",
        "plt.title(\"My First Graph\",fontdict={'fontsize':20,'color':\"red\"})\n",
        "plt.xlabel(\"X axis\")\n",
        "plt.ylabel(\"Y axis\")\n",
        "plt.xticks([1,2,3,4,5,6,7,8,9])\n",
        "plt.yticks([0,2,4,6,8,10,12,14,16,18])\n",
        "#plt.plot(x,y,label=\"common Dist\",linestyle='dashed',marker='o',color=\"green\",markersize=10,markeredgecolor=\"red\")\n",
        "\n",
        "#for shorter notation use below  fmt = '[marker][line][color]'\n",
        "fmt = 'b^--'\n",
        "plt.plot(x,y,fmt,label=\"common Dist\")\n",
        "plt.legend()\n",
        "\n",
        "\n",
        "plt.show()"
      ],
      "execution_count": 88,
      "outputs": [
        {
          "output_type": "display_data",
          "data": {
            "image/png": "[encoded data removed]",
            "text/plain": [
              "<Figure size 432x288 with 1 Axes>"
            ]
          },
          "metadata": {
            "tags": [],
            "needs_background": "light"
          }
        }
      ]
    },
    {
      "cell_type": "code",
      "metadata": {
        "colab": {
          "base_uri": "https://localhost:8080/",
          "height": 349
        },
        "id": "WRF9cj_daXpQ",
        "outputId": "6c6ec170-5b44-4bd7-d219-d6af9f0ddc87"
      },
      "source": [
        "x2=np.arange(0,7,0.5)\n",
        "x3=np.arange(15)\n",
        "print(x2)\n",
        "print(\" \")\n",
        "print(x3)\n",
        "print(\" \")\n",
        "plt.title(\"Second Graph for work-around\")\n",
        "plt.plot(x2[:6],x2[:6]**2,label=\"x^2\",color=\"r\")\n",
        "plt.plot(x2[5:],x2[5:]**2,label=\"x^2\",color=\"r\",linestyle=\"dashed\")\n",
        "plt.plot(x2,x2,label=\"x\",color=\"b\")\n",
        "plt.legend()\n",
        "plt.show()"
      ],
      "execution_count": 123,
      "outputs": [
        {
          "output_type": "stream",
          "text": [
            "[0.  0.5 1.  1.5 2.  2.5 3.  3.5 4.  4.5 5.  5.5 6.  6.5]\n",
            " \n",
            "[ 0  1  2  3  4  5  6  7  8  9 10 11 12 13 14]\n",
            " \n"
          ],
          "name": "stdout"
        },
        {
          "output_type": "display_data",
          "data": {
            "image/png": "[encoded data removed]",
            "text/plain": [
              "<Figure size 432x288 with 1 Axes>"
            ]
          },
          "metadata": {
            "tags": [],
            "needs_background": "light"
          }
        }
      ]
    }
  ]
}