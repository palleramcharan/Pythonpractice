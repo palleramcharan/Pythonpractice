{
  "nbformat": 4,
  "nbformat_minor": 0,
  "metadata": {
    "colab": {
      "name": "FreeCodeCampPractice.ipynb",
      "provenance": [],
      "authorship_tag": "ABX9TyOS5PCnWPPKO5gPh/ZHOkco"
    },
    "kernelspec": {
      "name": "python3",
      "display_name": "Python 3"
    },
    "language_info": {
      "name": "python"
    }
  },
  "cells": [
    {
      "cell_type": "markdown",
      "metadata": {
        "id": "83Dv05O4c7mZ"
      },
      "source": [
        "#Numpy"
      ]
    },
    {
      "cell_type": "code",
      "metadata": {
        "colab": {
          "base_uri": "https://localhost:8080/"
        },
        "cellView": "code",
        "id": "TR1SnElk3BuR",
        "outputId": "843aff28-b8bf-4283-c8de-141f14696ff4"
      },
      "source": [
        "#@title Default title text\n",
        "import numpy as np\n",
        "\n",
        "a=np.array([[1,2,3,11,22,33],[4,5,6,44,55,66],[7,8,9,77,88,99]])\n",
        "print(a)"
      ],
      "execution_count": 41,
      "outputs": [
        {
          "output_type": "stream",
          "text": [
            "[[ 1  2  3 11 22 33]\n",
            " [ 4  5  6 44 55 66]\n",
            " [ 7  8  9 77 88 99]]\n"
          ],
          "name": "stdout"
        }
      ]
    },
    {
      "cell_type": "markdown",
      "metadata": {
        "id": "B_V9oAh64Qrg"
      },
      "source": [
        "\n",
        "shape of an array\n"
      ]
    },
    {
      "cell_type": "code",
      "metadata": {
        "colab": {
          "base_uri": "https://localhost:8080/"
        },
        "id": "ofIH4ley3qa1",
        "outputId": "e57c6bbf-7408-4593-be27-6d6f9aa3b85d"
      },
      "source": [
        "a.shape "
      ],
      "execution_count": 42,
      "outputs": [
        {
          "output_type": "execute_result",
          "data": {
            "text/plain": [
              "(3, 6)"
            ]
          },
          "metadata": {
            "tags": []
          },
          "execution_count": 42
        }
      ]
    },
    {
      "cell_type": "markdown",
      "metadata": {
        "id": "0hStQMuS4fdK"
      },
      "source": [
        "size of an array"
      ]
    },
    {
      "cell_type": "code",
      "metadata": {
        "colab": {
          "base_uri": "https://localhost:8080/"
        },
        "id": "OxzCi0kt4oH7",
        "outputId": "b6b73d28-d797-4fe0-8357-a43b77093f2d"
      },
      "source": [
        "a.size"
      ],
      "execution_count": 43,
      "outputs": [
        {
          "output_type": "execute_result",
          "data": {
            "text/plain": [
              "18"
            ]
          },
          "metadata": {
            "tags": []
          },
          "execution_count": 43
        }
      ]
    },
    {
      "cell_type": "markdown",
      "metadata": {
        "id": "W7PAMqNB43NR"
      },
      "source": [
        "Number of Dimentions"
      ]
    },
    {
      "cell_type": "code",
      "metadata": {
        "colab": {
          "base_uri": "https://localhost:8080/"
        },
        "id": "t0RhyG-S45TZ",
        "outputId": "f6939e05-6b14-44d1-e82f-e9052710093f"
      },
      "source": [
        "a.ndim"
      ],
      "execution_count": 44,
      "outputs": [
        {
          "output_type": "execute_result",
          "data": {
            "text/plain": [
              "2"
            ]
          },
          "metadata": {
            "tags": []
          },
          "execution_count": 44
        }
      ]
    },
    {
      "cell_type": "markdown",
      "metadata": {
        "id": "Qsi-iJPP5xhm"
      },
      "source": [
        "Indexing & Slicing of Matrices"
      ]
    },
    {
      "cell_type": "code",
      "metadata": {
        "colab": {
          "base_uri": "https://localhost:8080/"
        },
        "id": "xQ3ioUYq59SY",
        "outputId": "3f6c959e-56cb-46a7-8797-8400cfac650d"
      },
      "source": [
        "a[1,3]"
      ],
      "execution_count": 45,
      "outputs": [
        {
          "output_type": "execute_result",
          "data": {
            "text/plain": [
              "44"
            ]
          },
          "metadata": {
            "tags": []
          },
          "execution_count": 45
        }
      ]
    },
    {
      "cell_type": "code",
      "metadata": {
        "colab": {
          "base_uri": "https://localhost:8080/"
        },
        "id": "gSQAYfll6H-2",
        "outputId": "196cfaa3-1ea1-442f-a866-abc93e6d7a01"
      },
      "source": [
        "a[0,2]"
      ],
      "execution_count": 46,
      "outputs": [
        {
          "output_type": "execute_result",
          "data": {
            "text/plain": [
              "3"
            ]
          },
          "metadata": {
            "tags": []
          },
          "execution_count": 46
        }
      ]
    },
    {
      "cell_type": "markdown",
      "metadata": {
        "id": "7nB5zfeq6-Xe"
      },
      "source": [
        "Replacing the array numbers"
      ]
    },
    {
      "cell_type": "code",
      "metadata": {
        "colab": {
          "base_uri": "https://localhost:8080/"
        },
        "id": "mi67pMTw60qN",
        "outputId": "39e79bd8-744c-4613-b64b-a3435dc50e37"
      },
      "source": [
        "a[1]=np.array([10,10,10,11,11,11])\n",
        "a"
      ],
      "execution_count": 47,
      "outputs": [
        {
          "output_type": "execute_result",
          "data": {
            "text/plain": [
              "array([[ 1,  2,  3, 11, 22, 33],\n",
              "       [10, 10, 10, 11, 11, 11],\n",
              "       [ 7,  8,  9, 77, 88, 99]])"
            ]
          },
          "metadata": {
            "tags": []
          },
          "execution_count": 47
        }
      ]
    },
    {
      "cell_type": "code",
      "metadata": {
        "colab": {
          "base_uri": "https://localhost:8080/"
        },
        "id": "iMd4Ras77FXd",
        "outputId": "fb46513e-6f3e-400e-9a44-3db444a1fb98"
      },
      "source": [
        "a[1]=90\n",
        "a"
      ],
      "execution_count": 48,
      "outputs": [
        {
          "output_type": "execute_result",
          "data": {
            "text/plain": [
              "array([[ 1,  2,  3, 11, 22, 33],\n",
              "       [90, 90, 90, 90, 90, 90],\n",
              "       [ 7,  8,  9, 77, 88, 99]])"
            ]
          },
          "metadata": {
            "tags": []
          },
          "execution_count": 48
        }
      ]
    },
    {
      "cell_type": "code",
      "metadata": {
        "id": "Bb-1_FHIF_BE"
      },
      "source": [
        "a[1]=np.array([4,5,6,44,55,66])"
      ],
      "execution_count": 49,
      "outputs": []
    },
    {
      "cell_type": "markdown",
      "metadata": {
        "id": "AzGbkg7iFxZ8"
      },
      "source": [
        "Summary Statistics"
      ]
    },
    {
      "cell_type": "code",
      "metadata": {
        "colab": {
          "base_uri": "https://localhost:8080/"
        },
        "id": "74oE4CxNF1sk",
        "outputId": "54f86001-0174-4fb7-9c8d-12edbdda2336"
      },
      "source": [
        "print(a)\n",
        "print(\" \") # to make the blank space\n",
        "print(\"sum of matrix is : \",a.sum())\n",
        "print(\" \")\n",
        "print(\"Standard Deviation of the matrix is : \",a.std())\n",
        "print(\" \")\n",
        "print(\"Mean of the matrix is : \",a.mean())"
      ],
      "execution_count": 50,
      "outputs": [
        {
          "output_type": "stream",
          "text": [
            "[[ 1  2  3 11 22 33]\n",
            " [ 4  5  6 44 55 66]\n",
            " [ 7  8  9 77 88 99]]\n",
            " \n",
            "sum of matrix is :  540\n",
            " \n",
            "Standard Deviation of the matrix is :  32.11956828269438\n",
            " \n",
            "Mean of the matrix is :  30.0\n"
          ],
          "name": "stdout"
        }
      ]
    },
    {
      "cell_type": "code",
      "metadata": {
        "colab": {
          "base_uri": "https://localhost:8080/"
        },
        "id": "e6vgAv4VNdTd",
        "outputId": "b4a29ab1-2a39-43e1-cc8c-8df25f9d1837"
      },
      "source": [
        "c = np.arange(5) #gives the numbers starting from 0\n",
        "c + 20\n",
        "c"
      ],
      "execution_count": 51,
      "outputs": [
        {
          "output_type": "execute_result",
          "data": {
            "text/plain": [
              "array([0, 1, 2, 3, 4])"
            ]
          },
          "metadata": {
            "tags": []
          },
          "execution_count": 51
        }
      ]
    },
    {
      "cell_type": "markdown",
      "metadata": {
        "id": "H-6lGZVeY7XZ"
      },
      "source": [
        "Boolean arrays"
      ]
    },
    {
      "cell_type": "code",
      "metadata": {
        "colab": {
          "base_uri": "https://localhost:8080/"
        },
        "id": "8WkkmFFSY_fM",
        "outputId": "a2205303-fe84-4d41-b95c-d697ad66e1b3"
      },
      "source": [
        "print(\"Array is: \",c)\n",
        "print(\" \")\n",
        "print(\"Is the array greater than or equal  2: \",c >= 2)  #gives boolean output\n",
        "print(\" \")\n",
        "print(\"Return the numbers less than or equal to 2: \", c[c>=2])\n",
        "print(\" \")\n",
        "print(\"Return the numbers greater than mean ie.,\", c.mean(),\" Result : \",c[c>c.mean()])\n",
        "print(\" \")\n",
        "print(\"Return the numbers equal to 1 OR 2 : \",c[(c==1) | (c==2)])\n",
        "print(\" \")\n",
        "print(\"Return the numbers equal to 1 AND 2 : \",c[(c==1) & (c==2)])"
      ],
      "execution_count": 52,
      "outputs": [
        {
          "output_type": "stream",
          "text": [
            "Array is:  [0 1 2 3 4]\n",
            " \n",
            "Is the array greater than or equal  2:  [False False  True  True  True]\n",
            " \n",
            "Return the numbers less than or equal to 2:  [2 3 4]\n",
            " \n",
            "Return the numbers greater than mean ie., 2.0  Result :  [3 4]\n",
            " \n",
            "Return the numbers equal to 1 OR 2 :  [1 2]\n",
            " \n",
            "Return the numbers equal to 1 AND 2 :  []\n"
          ],
          "name": "stdout"
        }
      ]
    },
    {
      "cell_type": "markdown",
      "metadata": {
        "id": "b2hvallqzMXR"
      },
      "source": [
        "Linear Algebra"
      ]
    },
    {
      "cell_type": "code",
      "metadata": {
        "colab": {
          "base_uri": "https://localhost:8080/"
        },
        "id": "AbKyABf_zPNl",
        "outputId": "1e5da7bc-0df5-4487-c453-3ba5c2ef0420"
      },
      "source": [
        "d=np.array([[12,14,15,16],[55,34,56,90]])\n",
        "e=np.array([[78,45,24,56],[90,65,78,99]])\n",
        "print(d)\n",
        "print(\" \")\n",
        "print(e)"
      ],
      "execution_count": 53,
      "outputs": [
        {
          "output_type": "stream",
          "text": [
            "[[12 14 15 16]\n",
            " [55 34 56 90]]\n",
            " \n",
            "[[78 45 24 56]\n",
            " [90 65 78 99]]\n"
          ],
          "name": "stdout"
        }
      ]
    },
    {
      "cell_type": "code",
      "metadata": {
        "colab": {
          "base_uri": "https://localhost:8080/"
        },
        "id": "HZrrDMFi0IHv",
        "outputId": "6f53d875-ad5d-4c2e-fb75-1c6457046125"
      },
      "source": [
        "d*e"
      ],
      "execution_count": 54,
      "outputs": [
        {
          "output_type": "execute_result",
          "data": {
            "text/plain": [
              "array([[ 936,  630,  360,  896],\n",
              "       [4950, 2210, 4368, 8910]])"
            ]
          },
          "metadata": {
            "tags": []
          },
          "execution_count": 54
        }
      ]
    },
    {
      "cell_type": "markdown",
      "metadata": {
        "id": "hbxKk4JCcGYc"
      },
      "source": [
        "#Pandas"
      ]
    },
    {
      "cell_type": "markdown",
      "metadata": {
        "id": "uYl__xm-cM1P"
      },
      "source": [
        "Pandas series"
      ]
    },
    {
      "cell_type": "code",
      "metadata": {
        "colab": {
          "base_uri": "https://localhost:8080/"
        },
        "id": "MCnFDSSacMcE",
        "outputId": "f6236cb3-22d6-42a1-8636-b415d3fd8249"
      },
      "source": [
        "import pandas as pd\n",
        "\n",
        "se=pd.Series([12.22,23.33,34.44,45.55,56.77])\n",
        "se.name=\"List of amount\"\n",
        "print(se)\n",
        "print(\" \")\n",
        "print(\"The Type of the above series is '\", type(se.values),\"' and values are\",se.values,\" and size is \",se.size)\n"
      ],
      "execution_count": 55,
      "outputs": [
        {
          "output_type": "stream",
          "text": [
            "0    12.22\n",
            "1    23.33\n",
            "2    34.44\n",
            "3    45.55\n",
            "4    56.77\n",
            "Name: List of amount, dtype: float64\n",
            " \n",
            "The Type of the above series is ' <class 'numpy.ndarray'> ' and values are [12.22 23.33 34.44 45.55 56.77]  and size is  5\n"
          ],
          "name": "stdout"
        }
      ]
    },
    {
      "cell_type": "code",
      "metadata": {
        "colab": {
          "base_uri": "https://localhost:8080/"
        },
        "id": "t_VLb0W4ohMZ",
        "outputId": "5b1831c6-5795-45a7-8ade-d1324df9cfe5"
      },
      "source": [
        "g7_pop = pd.Series([35.467, 63.951, 80.940, 60.665, 127.061, 64.511, 318.523])\n",
        "g7_pop=g7_pop*10_00_000\n",
        "g7_pop.name = 'G7 Population in millions'\n",
        "g7_pop.index =(['Canada',\n",
        "    'France',\n",
        "    'Germany',\n",
        "    'Italy',\n",
        "    'Japan',\n",
        "    'United Kingdom',\n",
        "    'United States'])\n",
        "print(g7_pop)\n",
        "print(\" \")\n",
        "print(\" \")\n",
        "print(\"Population greater than 80 Million :\")\n",
        "print(\" \")\n",
        "print(g7_pop[g7_pop>=80000000])"
      ],
      "execution_count": 56,
      "outputs": [
        {
          "output_type": "stream",
          "text": [
            "Canada             35467000.0\n",
            "France             63951000.0\n",
            "Germany            80940000.0\n",
            "Italy              60665000.0\n",
            "Japan             127061000.0\n",
            "United Kingdom     64511000.0\n",
            "United States     318523000.0\n",
            "Name: G7 Population in millions, dtype: float64\n",
            " \n",
            " \n",
            "Population greater than 80 Million :\n",
            " \n",
            "Germany           80940000.0\n",
            "Japan            127061000.0\n",
            "United States    318523000.0\n",
            "Name: G7 Population in millions, dtype: float64\n"
          ],
          "name": "stdout"
        }
      ]
    },
    {
      "cell_type": "markdown",
      "metadata": {
        "id": "Ykm8nfF5zlRm"
      },
      "source": [
        "Dataframes"
      ]
    },
    {
      "cell_type": "code",
      "metadata": {
        "colab": {
          "base_uri": "https://localhost:8080/"
        },
        "id": "_O4Ql_fizn4u",
        "outputId": "755c6b80-c4ff-45ff-b05a-1647d6be4d71"
      },
      "source": [
        "df=pd.DataFrame({\n",
        "    \"Population\":(12.3,45.66,78.54,99.99,12.67,56.56),\n",
        "    \"GDP\":(134533,645464,778877,345245,345345,778886),\n",
        "    \"Surface Area\":(44556677,23423523,3563463,2342352,236236,235235),\n",
        "    \"MDI\":(0.987,0.986,0.252,0.53463,0.232,0.24352),\n",
        "    \"Continent\":(\"Asia\",\"America\",\"Europe\",\"Asia\",\"America\",\"Asia\")\n",
        "})\n",
        "print(df)\n",
        "print(\" \")\n",
        "print(df.info())\n",
        "print(\" \")\n",
        "print(\"Shape of the DataFrame is : \",df.shape)\n",
        "print(\" \")\n",
        "print(\"Size of the DataFrame is : \",df.size)"
      ],
      "execution_count": 57,
      "outputs": [
        {
          "output_type": "stream",
          "text": [
            "   Population     GDP  Surface Area      MDI Continent\n",
            "0       12.30  134533      44556677  0.98700      Asia\n",
            "1       45.66  645464      23423523  0.98600   America\n",
            "2       78.54  778877       3563463  0.25200    Europe\n",
            "3       99.99  345245       2342352  0.53463      Asia\n",
            "4       12.67  345345        236236  0.23200   America\n",
            "5       56.56  778886        235235  0.24352      Asia\n",
            " \n",
            "<class 'pandas.core.frame.DataFrame'>\n",
            "RangeIndex: 6 entries, 0 to 5\n",
            "Data columns (total 5 columns):\n",
            " #   Column        Non-Null Count  Dtype  \n",
            "---  ------        --------------  -----  \n",
            " 0   Population    6 non-null      float64\n",
            " 1   GDP           6 non-null      int64  \n",
            " 2   Surface Area  6 non-null      int64  \n",
            " 3   MDI           6 non-null      float64\n",
            " 4   Continent     6 non-null      object \n",
            "dtypes: float64(2), int64(2), object(1)\n",
            "memory usage: 368.0+ bytes\n",
            "None\n",
            " \n",
            "Shape of the DataFrame is :  (6, 5)\n",
            " \n",
            "Size of the DataFrame is :  30\n"
          ],
          "name": "stdout"
        }
      ]
    },
    {
      "cell_type": "markdown",
      "metadata": {
        "id": "1qnhkcie4a5g"
      },
      "source": [
        "Indexing,Selection & Slicing"
      ]
    },
    {
      "cell_type": "code",
      "metadata": {
        "colab": {
          "base_uri": "https://localhost:8080/"
        },
        "id": "HZo4gUvu4fTB",
        "outputId": "885d3c21-51f3-49b6-ff2b-b7f5d2959f78"
      },
      "source": [
        "df.index = [\n",
        "    'Canada',\n",
        "    'France',\n",
        "    'Germany',\n",
        "    'Italy',\n",
        "    'Japan',\n",
        "    'United Kingdom'\n",
        "]\n",
        "\n",
        "df.loc[\"Canada\"]    #loc is used to get the individual rows"
      ],
      "execution_count": 58,
      "outputs": [
        {
          "output_type": "execute_result",
          "data": {
            "text/plain": [
              "Population          12.3\n",
              "GDP               134533\n",
              "Surface Area    44556677\n",
              "MDI                0.987\n",
              "Continent           Asia\n",
              "Name: Canada, dtype: object"
            ]
          },
          "metadata": {
            "tags": []
          },
          "execution_count": 58
        }
      ]
    }
  ]
}