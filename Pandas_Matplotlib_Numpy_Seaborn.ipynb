{
  "nbformat": 4,
  "nbformat_minor": 0,
  "metadata": {
    "colab": {
      "name": "Pandas-Matplotlib-Numpy-Seaborn.ipynb",
      "provenance": [],
      "collapsed_sections": [],
      "authorship_tag": "ABX9TyONnGCeetPppEGAktzsF9ci"
    },
    "kernelspec": {
      "name": "python3",
      "display_name": "Python 3"
    },
    "language_info": {
      "name": "python"
    }
  },
  "cells": [
    {
      "cell_type": "markdown",
      "metadata": {
        "id": "83Dv05O4c7mZ"
      },
      "source": [
        "#Numpy"
      ]
    },
    {
      "cell_type": "code",
      "metadata": {
        "colab": {
          "base_uri": "https://localhost:8080/"
        },
        "cellView": "code",
        "id": "TR1SnElk3BuR",
        "outputId": "704c9202-799e-40df-ca43-7b51d41a4789"
      },
      "source": [
        "#title Default title text\n",
        "import numpy as np\n",
        "\n",
        "a=np.array([[1,2,3,11,22,33],[4,5,6,44,55,66],[7,8,9,77,88,99]])\n",
        "print(a)\n"
      ],
      "execution_count": null,
      "outputs": [
        {
          "output_type": "stream",
          "text": [
            "[[ 1  2  3 11 22 33]\n",
            " [ 4  5  6 44 55 66]\n",
            " [ 7  8  9 77 88 99]]\n"
          ],
          "name": "stdout"
        }
      ]
    },
    {
      "cell_type": "markdown",
      "metadata": {
        "id": "QEVjZ6FnNRi5"
      },
      "source": [
        "Matrix of zeros, ones and random numbers"
      ]
    },
    {
      "cell_type": "code",
      "metadata": {
        "colab": {
          "base_uri": "https://localhost:8080/"
        },
        "id": "krCz946BNQ4L",
        "outputId": "de9ffd34-980d-417f-b732-abbc4bed9e93"
      },
      "source": [
        "print(np.zeros((2,3),dtype='int32'))  # returns martix of zeroes\n",
        "print(\" \")\n",
        "print(np.ones((2,3),dtype='int32'))   # returns martix of ones\n",
        "print(\" \")\n",
        "print(np.full((2,3),3))  # returns a matrix with any number\n",
        "print(\" \")\n",
        "print(np.full_like(a,3))  # returns a matrix with any number using an existing array\n",
        "print(\" \")\n",
        "print(np.random.rand(2,4))  # returns a matrix with random value\n",
        "print(\" \")\n",
        "print(np.random.random_sample(a.shape))  # returns a matrix with random value\n",
        "print(\" \")\n",
        "print(np.random.randint(1,7,size=(2,3)))  # returns a matrix with random integer\n",
        "print(\" \")\n",
        "arr=np.repeat(a,3,axis=0)\n",
        "print(arr)  # repeat an array"
      ],
      "execution_count": null,
      "outputs": [
        {
          "output_type": "stream",
          "text": [
            "[[0 0 0]\n",
            " [0 0 0]]\n",
            " \n",
            "[[1 1 1]\n",
            " [1 1 1]]\n",
            " \n",
            "[[3 3 3]\n",
            " [3 3 3]]\n",
            " \n",
            "[[3 3 3 3 3 3]\n",
            " [3 3 3 3 3 3]\n",
            " [3 3 3 3 3 3]]\n",
            " \n",
            "[[0.57597011 0.84586683 0.21739064 0.29731691]\n",
            " [0.09732681 0.36719603 0.05597915 0.08860786]]\n",
            " \n",
            "[[0.00269983 0.47949894 0.3926377  0.45270424 0.34400646 0.1933678 ]\n",
            " [0.42239936 0.35643335 0.118819   0.84331237 0.54360092 0.02633795]\n",
            " [0.33036294 0.44748724 0.96665459 0.95309296 0.35893375 0.51898518]]\n",
            " \n",
            "[[1 1 2]\n",
            " [4 1 3]]\n",
            " \n",
            "[[ 1  2  3 11 22 33]\n",
            " [ 1  2  3 11 22 33]\n",
            " [ 1  2  3 11 22 33]\n",
            " [ 4  5  6 44 55 66]\n",
            " [ 4  5  6 44 55 66]\n",
            " [ 4  5  6 44 55 66]\n",
            " [ 7  8  9 77 88 99]\n",
            " [ 7  8  9 77 88 99]\n",
            " [ 7  8  9 77 88 99]]\n"
          ],
          "name": "stdout"
        }
      ]
    },
    {
      "cell_type": "code",
      "metadata": {
        "colab": {
          "base_uri": "https://localhost:8080/"
        },
        "id": "Vgq19vuhVhCg",
        "outputId": "14fd4bf9-1bf9-4678-a340-c14f87e69929"
      },
      "source": [
        "output=np.ones((5,5),dtype='int32')\n",
        "zero=np.zeros((3,3))\n",
        "zero[1,1]=9\n",
        "print(zero)\n",
        "output[1:4,1:4]= zero\n",
        "print(output)\n"
      ],
      "execution_count": null,
      "outputs": [
        {
          "output_type": "stream",
          "text": [
            "[[0. 0. 0.]\n",
            " [0. 9. 0.]\n",
            " [0. 0. 0.]]\n",
            "[[1 1 1 1 1]\n",
            " [1 0 0 0 1]\n",
            " [1 0 9 0 1]\n",
            " [1 0 0 0 1]\n",
            " [1 1 1 1 1]]\n"
          ],
          "name": "stdout"
        }
      ]
    },
    {
      "cell_type": "code",
      "metadata": {
        "colab": {
          "base_uri": "https://localhost:8080/"
        },
        "id": "FBxCCMdPYLQ9",
        "outputId": "4b6f26a3-fc24-43a8-a2f2-58c64921bade"
      },
      "source": [
        "#copying of an array\n",
        "arr1=np.array([1,2,3,4,5])\n",
        "arr2=arr1.copy()  # copy() will not make any changes to the original array\n",
        "arr2[1]=100\n",
        "print(arr1)\n",
        "print(\" \")\n",
        "print(arr2)"
      ],
      "execution_count": null,
      "outputs": [
        {
          "output_type": "stream",
          "text": [
            "[1 2 3 4 5]\n",
            " \n",
            "[  1 100   3   4   5]\n"
          ],
          "name": "stdout"
        }
      ]
    },
    {
      "cell_type": "markdown",
      "metadata": {
        "id": "B_V9oAh64Qrg"
      },
      "source": [
        "\n",
        "shape of an array\n"
      ]
    },
    {
      "cell_type": "code",
      "metadata": {
        "colab": {
          "base_uri": "https://localhost:8080/"
        },
        "id": "ofIH4ley3qa1",
        "outputId": "9ef3d86f-8b39-444f-ede1-fe087afb65ab"
      },
      "source": [
        "a.shape "
      ],
      "execution_count": null,
      "outputs": [
        {
          "output_type": "execute_result",
          "data": {
            "text/plain": [
              "(3, 6)"
            ]
          },
          "metadata": {
            "tags": []
          },
          "execution_count": 2
        }
      ]
    },
    {
      "cell_type": "markdown",
      "metadata": {
        "id": "0hStQMuS4fdK"
      },
      "source": [
        "size of an array"
      ]
    },
    {
      "cell_type": "code",
      "metadata": {
        "colab": {
          "base_uri": "https://localhost:8080/"
        },
        "id": "OxzCi0kt4oH7",
        "outputId": "cd26ebcf-a72c-41b1-9649-2884402ccf53"
      },
      "source": [
        "a.size"
      ],
      "execution_count": null,
      "outputs": [
        {
          "output_type": "execute_result",
          "data": {
            "text/plain": [
              "18"
            ]
          },
          "metadata": {
            "tags": []
          },
          "execution_count": 3
        }
      ]
    },
    {
      "cell_type": "markdown",
      "metadata": {
        "id": "W7PAMqNB43NR"
      },
      "source": [
        "Number of Dimentions"
      ]
    },
    {
      "cell_type": "code",
      "metadata": {
        "colab": {
          "base_uri": "https://localhost:8080/"
        },
        "id": "t0RhyG-S45TZ",
        "outputId": "fb9c96b8-e2dd-4d1e-af13-6e2fd2d31727"
      },
      "source": [
        "a.ndim"
      ],
      "execution_count": null,
      "outputs": [
        {
          "output_type": "execute_result",
          "data": {
            "text/plain": [
              "2"
            ]
          },
          "metadata": {
            "tags": []
          },
          "execution_count": 4
        }
      ]
    },
    {
      "cell_type": "markdown",
      "metadata": {
        "id": "Qsi-iJPP5xhm"
      },
      "source": [
        "Indexing & Slicing of Matrices"
      ]
    },
    {
      "cell_type": "code",
      "metadata": {
        "colab": {
          "base_uri": "https://localhost:8080/"
        },
        "id": "xQ3ioUYq59SY",
        "outputId": "9c6998a3-4efd-451f-a7f1-f5bd6307cba5"
      },
      "source": [
        "a[1,3]"
      ],
      "execution_count": null,
      "outputs": [
        {
          "output_type": "execute_result",
          "data": {
            "text/plain": [
              "44"
            ]
          },
          "metadata": {
            "tags": []
          },
          "execution_count": 5
        }
      ]
    },
    {
      "cell_type": "code",
      "metadata": {
        "colab": {
          "base_uri": "https://localhost:8080/"
        },
        "id": "gSQAYfll6H-2",
        "outputId": "8677523f-1d94-4abb-f382-99749f19420d"
      },
      "source": [
        "a[0,2]"
      ],
      "execution_count": null,
      "outputs": [
        {
          "output_type": "execute_result",
          "data": {
            "text/plain": [
              "3"
            ]
          },
          "metadata": {
            "tags": []
          },
          "execution_count": 6
        }
      ]
    },
    {
      "cell_type": "markdown",
      "metadata": {
        "id": "7nB5zfeq6-Xe"
      },
      "source": [
        "Replacing the array numbers"
      ]
    },
    {
      "cell_type": "code",
      "metadata": {
        "colab": {
          "base_uri": "https://localhost:8080/"
        },
        "id": "mi67pMTw60qN",
        "outputId": "3b4ac128-ab1c-4d5e-de74-d23956d1e21d"
      },
      "source": [
        "a[1]=np.array([10,10,10,11,11,11])\n",
        "a"
      ],
      "execution_count": null,
      "outputs": [
        {
          "output_type": "execute_result",
          "data": {
            "text/plain": [
              "array([[ 1,  2,  3, 11, 22, 33],\n",
              "       [10, 10, 10, 11, 11, 11],\n",
              "       [ 7,  8,  9, 77, 88, 99]])"
            ]
          },
          "metadata": {
            "tags": []
          },
          "execution_count": 7
        }
      ]
    },
    {
      "cell_type": "code",
      "metadata": {
        "colab": {
          "base_uri": "https://localhost:8080/"
        },
        "id": "iMd4Ras77FXd",
        "outputId": "ec1176d1-8284-47fc-d349-cef7b6a5a73f"
      },
      "source": [
        "a[1]=90\n",
        "a"
      ],
      "execution_count": null,
      "outputs": [
        {
          "output_type": "execute_result",
          "data": {
            "text/plain": [
              "array([[ 1,  2,  3, 11, 22, 33],\n",
              "       [90, 90, 90, 90, 90, 90],\n",
              "       [ 7,  8,  9, 77, 88, 99]])"
            ]
          },
          "metadata": {
            "tags": []
          },
          "execution_count": 8
        }
      ]
    },
    {
      "cell_type": "code",
      "metadata": {
        "id": "Bb-1_FHIF_BE"
      },
      "source": [
        "a[1]=np.array([4,5,6,44,55,66])"
      ],
      "execution_count": null,
      "outputs": []
    },
    {
      "cell_type": "markdown",
      "metadata": {
        "id": "AzGbkg7iFxZ8"
      },
      "source": [
        "Summary Statistics"
      ]
    },
    {
      "cell_type": "code",
      "metadata": {
        "colab": {
          "base_uri": "https://localhost:8080/"
        },
        "id": "74oE4CxNF1sk",
        "outputId": "74359188-a77c-4149-a7a1-4da9790da181"
      },
      "source": [
        "print(a)\n",
        "print(\" \") # to make the blank space\n",
        "print(\"sum of matrix is : \",a.sum())\n",
        "print(\" \")\n",
        "print(\"Standard Deviation of the matrix is : \",a.std())\n",
        "print(\" \")\n",
        "print(\"Mean of the matrix is : \",a.mean())"
      ],
      "execution_count": null,
      "outputs": [
        {
          "output_type": "stream",
          "text": [
            "[[ 1  2  3 11 22 33]\n",
            " [ 4  5  6 44 55 66]\n",
            " [ 7  8  9 77 88 99]]\n",
            " \n",
            "sum of matrix is :  540\n",
            " \n",
            "Standard Deviation of the matrix is :  32.11956828269438\n",
            " \n",
            "Mean of the matrix is :  30.0\n"
          ],
          "name": "stdout"
        }
      ]
    },
    {
      "cell_type": "code",
      "metadata": {
        "colab": {
          "base_uri": "https://localhost:8080/"
        },
        "id": "e6vgAv4VNdTd",
        "outputId": "411368d8-e5cf-4dca-a929-be76e0b3ab13"
      },
      "source": [
        "c = np.arange(5) #gives the numbers starting from 0\n",
        "c + 20\n",
        "c"
      ],
      "execution_count": null,
      "outputs": [
        {
          "output_type": "execute_result",
          "data": {
            "text/plain": [
              "array([0, 1, 2, 3, 4])"
            ]
          },
          "metadata": {
            "tags": []
          },
          "execution_count": 11
        }
      ]
    },
    {
      "cell_type": "markdown",
      "metadata": {
        "id": "H-6lGZVeY7XZ"
      },
      "source": [
        "Boolean arrays"
      ]
    },
    {
      "cell_type": "code",
      "metadata": {
        "colab": {
          "base_uri": "https://localhost:8080/"
        },
        "id": "8WkkmFFSY_fM",
        "outputId": "202f2203-8709-4019-d2b2-4378d8674007"
      },
      "source": [
        "print(\"Array is: \",c)\n",
        "print(\" \")\n",
        "print(\"Is the array greater than or equal  2: \",c >= 2)  #gives boolean output\n",
        "print(\" \")\n",
        "print(\"Return the numbers less than or equal to 2: \", c[c>=2])\n",
        "print(\" \")\n",
        "print(\"Return the numbers greater than mean ie.,\", c.mean(),\" Result : \",c[c>c.mean()])\n",
        "print(\" \")\n",
        "print(\"Return the numbers equal to 1 OR 2 : \",c[(c==1) | (c==2)])\n",
        "print(\" \")\n",
        "print(\"Return the numbers equal to 1 AND 2 : \",c[(c==1) & (c==2)])"
      ],
      "execution_count": null,
      "outputs": [
        {
          "output_type": "stream",
          "text": [
            "Array is:  [0 1 2 3 4]\n",
            " \n",
            "Is the array greater than or equal  2:  [False False  True  True  True]\n",
            " \n",
            "Return the numbers less than or equal to 2:  [2 3 4]\n",
            " \n",
            "Return the numbers greater than mean ie., 2.0  Result :  [3 4]\n",
            " \n",
            "Return the numbers equal to 1 OR 2 :  [1 2]\n",
            " \n",
            "Return the numbers equal to 1 AND 2 :  []\n"
          ],
          "name": "stdout"
        }
      ]
    },
    {
      "cell_type": "markdown",
      "metadata": {
        "id": "b2hvallqzMXR"
      },
      "source": [
        "Linear Algebra"
      ]
    },
    {
      "cell_type": "code",
      "metadata": {
        "colab": {
          "base_uri": "https://localhost:8080/"
        },
        "id": "AbKyABf_zPNl",
        "outputId": "0c2ec6ff-7d0a-470d-c2b3-def90256f410"
      },
      "source": [
        "d=np.array([[12,14,15,16],[55,34,56,90]])\n",
        "e=np.array([[78,45,24,56],[90,65,78,99]])\n",
        "print(d)\n",
        "print(\" \")\n",
        "print(e)"
      ],
      "execution_count": null,
      "outputs": [
        {
          "output_type": "stream",
          "text": [
            "[[12 14 15 16]\n",
            " [55 34 56 90]]\n",
            " \n",
            "[[78 45 24 56]\n",
            " [90 65 78 99]]\n"
          ],
          "name": "stdout"
        }
      ]
    },
    {
      "cell_type": "code",
      "metadata": {
        "colab": {
          "base_uri": "https://localhost:8080/"
        },
        "id": "HZrrDMFi0IHv",
        "outputId": "7dd7d938-543e-48c6-b676-449f071d4b1a"
      },
      "source": [
        "d*e"
      ],
      "execution_count": null,
      "outputs": [
        {
          "output_type": "execute_result",
          "data": {
            "text/plain": [
              "array([[ 936,  630,  360,  896],\n",
              "       [4950, 2210, 4368, 8910]])"
            ]
          },
          "metadata": {
            "tags": []
          },
          "execution_count": 14
        }
      ]
    },
    {
      "cell_type": "code",
      "metadata": {
        "colab": {
          "base_uri": "https://localhost:8080/"
        },
        "id": "lw6SZDxRZphF",
        "outputId": "8939f418-c3ee-49c6-c6fe-5f2ffc12726f"
      },
      "source": [
        "mat1=np.ones((2,4),dtype='int32')\n",
        "print(mat1)\n",
        "print(\" \")\n",
        "\n",
        "\n",
        "mat2=np.full((4,2),5)\n",
        "print(mat2)\n",
        "print(\" \")\n",
        "#to multiply the different sizes of matices us matmul  -  but need to have mat1 column = mat2 rows\n",
        "\n",
        "final=np.matmul(mat1,mat2)\n",
        "print(final)"
      ],
      "execution_count": null,
      "outputs": [
        {
          "output_type": "stream",
          "text": [
            "[[1 1 1 1]\n",
            " [1 1 1 1]]\n",
            " \n",
            "[[5 5]\n",
            " [5 5]\n",
            " [5 5]\n",
            " [5 5]]\n",
            " \n",
            "[[20 20]\n",
            " [20 20]]\n"
          ],
          "name": "stdout"
        }
      ]
    },
    {
      "cell_type": "markdown",
      "metadata": {
        "id": "hbxKk4JCcGYc"
      },
      "source": [
        "#Pandas"
      ]
    },
    {
      "cell_type": "markdown",
      "metadata": {
        "id": "uYl__xm-cM1P"
      },
      "source": [
        "Pandas series"
      ]
    },
    {
      "cell_type": "code",
      "metadata": {
        "colab": {
          "base_uri": "https://localhost:8080/"
        },
        "id": "MCnFDSSacMcE",
        "outputId": "c4d67074-b026-4273-b715-e7a4e6e57da0"
      },
      "source": [
        "import pandas as pd\n",
        "\n",
        "se=pd.Series([12.22,23.33,34.44,45.55,56.77])\n",
        "se.name=\"List of amount\"\n",
        "print(se)\n",
        "print(\" \")\n",
        "print(\"The Type of the above series is '\", type(se.values),\"' and values are\",se.values,\" and size is \",se.size)\n"
      ],
      "execution_count": null,
      "outputs": [
        {
          "output_type": "stream",
          "text": [
            "0    12.22\n",
            "1    23.33\n",
            "2    34.44\n",
            "3    45.55\n",
            "4    56.77\n",
            "Name: List of amount, dtype: float64\n",
            " \n",
            "The Type of the above series is ' <class 'numpy.ndarray'> ' and values are [12.22 23.33 34.44 45.55 56.77]  and size is  5\n"
          ],
          "name": "stdout"
        }
      ]
    },
    {
      "cell_type": "code",
      "metadata": {
        "colab": {
          "base_uri": "https://localhost:8080/"
        },
        "id": "t_VLb0W4ohMZ",
        "outputId": "d22978cb-36c3-45b8-984f-b6d2d2dc7c60"
      },
      "source": [
        "g7_pop = pd.Series([35.467, 63.951, 80.940, 60.665, 127.061, 64.511, 318.523])\n",
        "g7_pop=g7_pop*10_00_000\n",
        "g7_pop.name = 'G7 Population in millions'\n",
        "g7_pop.index =(['Canada',\n",
        "    'France',\n",
        "    'Germany',\n",
        "    'Italy',\n",
        "    'Japan',\n",
        "    'United Kingdom',\n",
        "    'United States'])\n",
        "print(g7_pop)\n",
        "print(\" \")\n",
        "print(\" \")\n",
        "print(\"Population greater than 80 Million :\")\n",
        "print(\" \")\n",
        "print(g7_pop[g7_pop>=80000000])"
      ],
      "execution_count": null,
      "outputs": [
        {
          "output_type": "stream",
          "text": [
            "Canada             35467000.0\n",
            "France             63951000.0\n",
            "Germany            80940000.0\n",
            "Italy              60665000.0\n",
            "Japan             127061000.0\n",
            "United Kingdom     64511000.0\n",
            "United States     318523000.0\n",
            "Name: G7 Population in millions, dtype: float64\n",
            " \n",
            " \n",
            "Population greater than 80 Million :\n",
            " \n",
            "Germany           80940000.0\n",
            "Japan            127061000.0\n",
            "United States    318523000.0\n",
            "Name: G7 Population in millions, dtype: float64\n"
          ],
          "name": "stdout"
        }
      ]
    },
    {
      "cell_type": "markdown",
      "metadata": {
        "id": "Ykm8nfF5zlRm"
      },
      "source": [
        "Dataframes"
      ]
    },
    {
      "cell_type": "code",
      "metadata": {
        "colab": {
          "base_uri": "https://localhost:8080/"
        },
        "id": "_O4Ql_fizn4u",
        "outputId": "00326ea2-cf88-4033-adcf-4b6685668e22"
      },
      "source": [
        "df=pd.DataFrame({\n",
        "    \"Population\":(12.3,45.66,78.54,99.99,12.67,56.56),\n",
        "    \"GDP\":(134533,645464,778877,345245,345345,778886),\n",
        "    \"Surface Area\":(44556677,23423523,3563463,2342352,236236,235235),\n",
        "    \"MDI\":(0.987,0.986,0.252,0.53463,0.232,0.24352),\n",
        "    \"Continent\":('America','Europe','Europe','Europe','Asia','Europe')\n",
        "})\n",
        "print(df)\n",
        "print(\" \")\n",
        "print(df.info())\n",
        "print(\" \")\n",
        "print(\"Shape of the DataFrame is : \",df.shape)\n",
        "print(\" \")\n",
        "print(\"Size of the DataFrame is : \",df.size)"
      ],
      "execution_count": null,
      "outputs": [
        {
          "output_type": "stream",
          "text": [
            "   Population     GDP  Surface Area      MDI Continent\n",
            "0       12.30  134533      44556677  0.98700   America\n",
            "1       45.66  645464      23423523  0.98600    Europe\n",
            "2       78.54  778877       3563463  0.25200    Europe\n",
            "3       99.99  345245       2342352  0.53463    Europe\n",
            "4       12.67  345345        236236  0.23200      Asia\n",
            "5       56.56  778886        235235  0.24352    Europe\n",
            " \n",
            "<class 'pandas.core.frame.DataFrame'>\n",
            "RangeIndex: 6 entries, 0 to 5\n",
            "Data columns (total 5 columns):\n",
            " #   Column        Non-Null Count  Dtype  \n",
            "---  ------        --------------  -----  \n",
            " 0   Population    6 non-null      float64\n",
            " 1   GDP           6 non-null      int64  \n",
            " 2   Surface Area  6 non-null      int64  \n",
            " 3   MDI           6 non-null      float64\n",
            " 4   Continent     6 non-null      object \n",
            "dtypes: float64(2), int64(2), object(1)\n",
            "memory usage: 368.0+ bytes\n",
            "None\n",
            " \n",
            "Shape of the DataFrame is :  (6, 5)\n",
            " \n",
            "Size of the DataFrame is :  30\n"
          ],
          "name": "stdout"
        }
      ]
    },
    {
      "cell_type": "markdown",
      "metadata": {
        "id": "1qnhkcie4a5g"
      },
      "source": [
        "Indexing,Selection & Slicing"
      ]
    },
    {
      "cell_type": "code",
      "metadata": {
        "colab": {
          "base_uri": "https://localhost:8080/"
        },
        "id": "HZo4gUvu4fTB",
        "outputId": "8ca67cad-749b-4371-9dd9-df3d9bd43de2"
      },
      "source": [
        "df.index = [\n",
        "    'Canada',\n",
        "    'France',\n",
        "    'Germany',\n",
        "    'Italy',\n",
        "    'Japan',\n",
        "    'United Kingdom'\n",
        "]\n",
        "\n",
        "print(df.loc[\"Canada\"])    #loc is used to get the individual rows by index\n",
        "print(\" \")\n",
        "print(df.iloc[-1])        #loc is used to get the individual rows by precision of sequentiol order of the columns"
      ],
      "execution_count": null,
      "outputs": [
        {
          "output_type": "stream",
          "text": [
            "Population          12.3\n",
            "GDP               134533\n",
            "Surface Area    44556677\n",
            "MDI                0.987\n",
            "Continent        America\n",
            "Name: Canada, dtype: object\n",
            " \n",
            "Population        56.56\n",
            "GDP              778886\n",
            "Surface Area     235235\n",
            "MDI             0.24352\n",
            "Continent        Europe\n",
            "Name: United Kingdom, dtype: object\n"
          ],
          "name": "stdout"
        }
      ]
    },
    {
      "cell_type": "markdown",
      "metadata": {
        "id": "JCr8gh5C9tP6"
      },
      "source": [
        "Coditional Selection (Boolean Arrays)"
      ]
    },
    {
      "cell_type": "code",
      "metadata": {
        "colab": {
          "base_uri": "https://localhost:8080/"
        },
        "id": "cixWfyhf9yD5",
        "outputId": "a972ca43-3d79-4ce7-a294-ca5082938be0"
      },
      "source": [
        "print(df)\n",
        "print(\" \")\n",
        "print(df.iloc[0,[0,3]])\n",
        "print(\" \")\n",
        "print(df.iloc[0,0:3])\n",
        "print(\" \")\n",
        "print(df[df[\"Population\"]>=70])"
      ],
      "execution_count": null,
      "outputs": [
        {
          "output_type": "stream",
          "text": [
            "                Population     GDP  Surface Area      MDI Continent\n",
            "Canada               12.30  134533      44556677  0.98700   America\n",
            "France               45.66  645464      23423523  0.98600    Europe\n",
            "Germany              78.54  778877       3563463  0.25200    Europe\n",
            "Italy                99.99  345245       2342352  0.53463    Europe\n",
            "Japan                12.67  345345        236236  0.23200      Asia\n",
            "United Kingdom       56.56  778886        235235  0.24352    Europe\n",
            " \n",
            "Population     12.3\n",
            "MDI           0.987\n",
            "Name: Canada, dtype: object\n",
            " \n",
            "Population          12.3\n",
            "GDP               134533\n",
            "Surface Area    44556677\n",
            "Name: Canada, dtype: object\n",
            " \n",
            "         Population     GDP  Surface Area      MDI Continent\n",
            "Germany       78.54  778877       3563463  0.25200    Europe\n",
            "Italy         99.99  345245       2342352  0.53463    Europe\n"
          ],
          "name": "stdout"
        }
      ]
    },
    {
      "cell_type": "markdown",
      "metadata": {
        "id": "x5UhDfgQAknh"
      },
      "source": [
        "Dropping by index and columns"
      ]
    },
    {
      "cell_type": "code",
      "metadata": {
        "colab": {
          "base_uri": "https://localhost:8080/",
          "height": 235
        },
        "id": "DtS0TWPyAqTe",
        "outputId": "b2efdefd-cb20-41d0-d936-c0283e594b4e"
      },
      "source": [
        "df.drop([\"Population\"],axis=1) #dropping columns using axis\n",
        "df.drop([\"Population\",\"GDP\"],axis= 'columns')\n",
        "df.drop(columns=[\"Population\",\"GDP\"],axis= 'columns')"
      ],
      "execution_count": null,
      "outputs": [
        {
          "output_type": "execute_result",
          "data": {
            "text/html": [
              "<div>\n",
              "<style scoped>\n",
              "    .dataframe tbody tr th:only-of-type {\n",
              "        vertical-align: middle;\n",
              "    }\n",
              "\n",
              "    .dataframe tbody tr th {\n",
              "        vertical-align: top;\n",
              "    }\n",
              "\n",
              "    .dataframe thead th {\n",
              "        text-align: right;\n",
              "    }\n",
              "</style>\n",
              "<table border=\"1\" class=\"dataframe\">\n",
              "  <thead>\n",
              "    <tr style=\"text-align: right;\">\n",
              "      <th></th>\n",
              "      <th>Surface Area</th>\n",
              "      <th>MDI</th>\n",
              "      <th>Continent</th>\n",
              "    </tr>\n",
              "  </thead>\n",
              "  <tbody>\n",
              "    <tr>\n",
              "      <th>Canada</th>\n",
              "      <td>44556677</td>\n",
              "      <td>0.98700</td>\n",
              "      <td>America</td>\n",
              "    </tr>\n",
              "    <tr>\n",
              "      <th>France</th>\n",
              "      <td>23423523</td>\n",
              "      <td>0.98600</td>\n",
              "      <td>Europe</td>\n",
              "    </tr>\n",
              "    <tr>\n",
              "      <th>Germany</th>\n",
              "      <td>3563463</td>\n",
              "      <td>0.25200</td>\n",
              "      <td>Europe</td>\n",
              "    </tr>\n",
              "    <tr>\n",
              "      <th>Italy</th>\n",
              "      <td>2342352</td>\n",
              "      <td>0.53463</td>\n",
              "      <td>Europe</td>\n",
              "    </tr>\n",
              "    <tr>\n",
              "      <th>Japan</th>\n",
              "      <td>236236</td>\n",
              "      <td>0.23200</td>\n",
              "      <td>Asia</td>\n",
              "    </tr>\n",
              "    <tr>\n",
              "      <th>United Kingdom</th>\n",
              "      <td>235235</td>\n",
              "      <td>0.24352</td>\n",
              "      <td>Europe</td>\n",
              "    </tr>\n",
              "  </tbody>\n",
              "</table>\n",
              "</div>"
            ],
            "text/plain": [
              "                Surface Area      MDI Continent\n",
              "Canada              44556677  0.98700   America\n",
              "France              23423523  0.98600    Europe\n",
              "Germany              3563463  0.25200    Europe\n",
              "Italy                2342352  0.53463    Europe\n",
              "Japan                 236236  0.23200      Asia\n",
              "United Kingdom        235235  0.24352    Europe"
            ]
          },
          "metadata": {
            "tags": []
          },
          "execution_count": 20
        }
      ]
    },
    {
      "cell_type": "code",
      "metadata": {
        "colab": {
          "base_uri": "https://localhost:8080/",
          "height": 235
        },
        "id": "VBmQwbcJBZPc",
        "outputId": "78015025-f388-4286-9d30-11c4b59788ed"
      },
      "source": [
        "#adding an column to the dataframe\n",
        "lang=pd.Series([\"English\",\"French\",\"Japanese\"],index=[\"Canada\",\"France\",\"Japan\"])\n",
        "df[\"Language\"]=lang\n",
        "df"
      ],
      "execution_count": null,
      "outputs": [
        {
          "output_type": "execute_result",
          "data": {
            "text/html": [
              "<div>\n",
              "<style scoped>\n",
              "    .dataframe tbody tr th:only-of-type {\n",
              "        vertical-align: middle;\n",
              "    }\n",
              "\n",
              "    .dataframe tbody tr th {\n",
              "        vertical-align: top;\n",
              "    }\n",
              "\n",
              "    .dataframe thead th {\n",
              "        text-align: right;\n",
              "    }\n",
              "</style>\n",
              "<table border=\"1\" class=\"dataframe\">\n",
              "  <thead>\n",
              "    <tr style=\"text-align: right;\">\n",
              "      <th></th>\n",
              "      <th>Population</th>\n",
              "      <th>GDP</th>\n",
              "      <th>Surface Area</th>\n",
              "      <th>MDI</th>\n",
              "      <th>Continent</th>\n",
              "      <th>Language</th>\n",
              "    </tr>\n",
              "  </thead>\n",
              "  <tbody>\n",
              "    <tr>\n",
              "      <th>Canada</th>\n",
              "      <td>12.30</td>\n",
              "      <td>134533</td>\n",
              "      <td>44556677</td>\n",
              "      <td>0.98700</td>\n",
              "      <td>America</td>\n",
              "      <td>English</td>\n",
              "    </tr>\n",
              "    <tr>\n",
              "      <th>France</th>\n",
              "      <td>45.66</td>\n",
              "      <td>645464</td>\n",
              "      <td>23423523</td>\n",
              "      <td>0.98600</td>\n",
              "      <td>Europe</td>\n",
              "      <td>French</td>\n",
              "    </tr>\n",
              "    <tr>\n",
              "      <th>Germany</th>\n",
              "      <td>78.54</td>\n",
              "      <td>778877</td>\n",
              "      <td>3563463</td>\n",
              "      <td>0.25200</td>\n",
              "      <td>Europe</td>\n",
              "      <td>NaN</td>\n",
              "    </tr>\n",
              "    <tr>\n",
              "      <th>Italy</th>\n",
              "      <td>99.99</td>\n",
              "      <td>345245</td>\n",
              "      <td>2342352</td>\n",
              "      <td>0.53463</td>\n",
              "      <td>Europe</td>\n",
              "      <td>NaN</td>\n",
              "    </tr>\n",
              "    <tr>\n",
              "      <th>Japan</th>\n",
              "      <td>12.67</td>\n",
              "      <td>345345</td>\n",
              "      <td>236236</td>\n",
              "      <td>0.23200</td>\n",
              "      <td>Asia</td>\n",
              "      <td>Japanese</td>\n",
              "    </tr>\n",
              "    <tr>\n",
              "      <th>United Kingdom</th>\n",
              "      <td>56.56</td>\n",
              "      <td>778886</td>\n",
              "      <td>235235</td>\n",
              "      <td>0.24352</td>\n",
              "      <td>Europe</td>\n",
              "      <td>NaN</td>\n",
              "    </tr>\n",
              "  </tbody>\n",
              "</table>\n",
              "</div>"
            ],
            "text/plain": [
              "                Population     GDP  Surface Area      MDI Continent  Language\n",
              "Canada               12.30  134533      44556677  0.98700   America   English\n",
              "France               45.66  645464      23423523  0.98600    Europe    French\n",
              "Germany              78.54  778877       3563463  0.25200    Europe       NaN\n",
              "Italy                99.99  345245       2342352  0.53463    Europe       NaN\n",
              "Japan                12.67  345345        236236  0.23200      Asia  Japanese\n",
              "United Kingdom       56.56  778886        235235  0.24352    Europe       NaN"
            ]
          },
          "metadata": {
            "tags": []
          },
          "execution_count": 21
        }
      ]
    },
    {
      "cell_type": "code",
      "metadata": {
        "colab": {
          "base_uri": "https://localhost:8080/",
          "height": 235
        },
        "id": "lBE82WBZpafv",
        "outputId": "b0592575-aa3b-4008-ea41-c572b4dbda31"
      },
      "source": [
        "#Renaming of the columns and the indexes\n",
        "\n",
        "df.rename(columns={\n",
        "    \"Language\":\"Lang\",\n",
        "    \"Population\":\"Popu\"\n",
        "},index={\"United Kingdom\":\"UK\"})\n",
        "#df.drop(columns=[\"Language\"],axis=\"columns\",inplace=True)\n",
        "#df\n"
      ],
      "execution_count": null,
      "outputs": [
        {
          "output_type": "execute_result",
          "data": {
            "text/html": [
              "<div>\n",
              "<style scoped>\n",
              "    .dataframe tbody tr th:only-of-type {\n",
              "        vertical-align: middle;\n",
              "    }\n",
              "\n",
              "    .dataframe tbody tr th {\n",
              "        vertical-align: top;\n",
              "    }\n",
              "\n",
              "    .dataframe thead th {\n",
              "        text-align: right;\n",
              "    }\n",
              "</style>\n",
              "<table border=\"1\" class=\"dataframe\">\n",
              "  <thead>\n",
              "    <tr style=\"text-align: right;\">\n",
              "      <th></th>\n",
              "      <th>Popu</th>\n",
              "      <th>GDP</th>\n",
              "      <th>Surface Area</th>\n",
              "      <th>MDI</th>\n",
              "      <th>Continent</th>\n",
              "      <th>Lang</th>\n",
              "    </tr>\n",
              "  </thead>\n",
              "  <tbody>\n",
              "    <tr>\n",
              "      <th>Canada</th>\n",
              "      <td>12.30</td>\n",
              "      <td>134533</td>\n",
              "      <td>44556677</td>\n",
              "      <td>0.98700</td>\n",
              "      <td>America</td>\n",
              "      <td>English</td>\n",
              "    </tr>\n",
              "    <tr>\n",
              "      <th>France</th>\n",
              "      <td>45.66</td>\n",
              "      <td>645464</td>\n",
              "      <td>23423523</td>\n",
              "      <td>0.98600</td>\n",
              "      <td>Europe</td>\n",
              "      <td>French</td>\n",
              "    </tr>\n",
              "    <tr>\n",
              "      <th>Germany</th>\n",
              "      <td>78.54</td>\n",
              "      <td>778877</td>\n",
              "      <td>3563463</td>\n",
              "      <td>0.25200</td>\n",
              "      <td>Europe</td>\n",
              "      <td>NaN</td>\n",
              "    </tr>\n",
              "    <tr>\n",
              "      <th>Italy</th>\n",
              "      <td>99.99</td>\n",
              "      <td>345245</td>\n",
              "      <td>2342352</td>\n",
              "      <td>0.53463</td>\n",
              "      <td>Europe</td>\n",
              "      <td>NaN</td>\n",
              "    </tr>\n",
              "    <tr>\n",
              "      <th>Japan</th>\n",
              "      <td>12.67</td>\n",
              "      <td>345345</td>\n",
              "      <td>236236</td>\n",
              "      <td>0.23200</td>\n",
              "      <td>Asia</td>\n",
              "      <td>Japanese</td>\n",
              "    </tr>\n",
              "    <tr>\n",
              "      <th>UK</th>\n",
              "      <td>56.56</td>\n",
              "      <td>778886</td>\n",
              "      <td>235235</td>\n",
              "      <td>0.24352</td>\n",
              "      <td>Europe</td>\n",
              "      <td>NaN</td>\n",
              "    </tr>\n",
              "  </tbody>\n",
              "</table>\n",
              "</div>"
            ],
            "text/plain": [
              "          Popu     GDP  Surface Area      MDI Continent      Lang\n",
              "Canada   12.30  134533      44556677  0.98700   America   English\n",
              "France   45.66  645464      23423523  0.98600    Europe    French\n",
              "Germany  78.54  778877       3563463  0.25200    Europe       NaN\n",
              "Italy    99.99  345245       2342352  0.53463    Europe       NaN\n",
              "Japan    12.67  345345        236236  0.23200      Asia  Japanese\n",
              "UK       56.56  778886        235235  0.24352    Europe       NaN"
            ]
          },
          "metadata": {
            "tags": []
          },
          "execution_count": 22
        }
      ]
    },
    {
      "cell_type": "markdown",
      "metadata": {
        "id": "LvvEl2dGNPNF"
      },
      "source": [
        "Reading CSV"
      ]
    },
    {
      "cell_type": "code",
      "metadata": {
        "colab": {
          "resources": {
            "http://localhost:8080/nbextensions/google.colab/files.js": {
              "data": "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",
              "ok": true,
              "headers": [
                [
                  "content-type",
                  "application/javascript"
                ]
              ],
              "status": 200,
              "status_text": ""
            }
          },
          "base_uri": "https://localhost:8080/",
          "height": 72
        },
        "id": "ewxFAz7UNSwN",
        "outputId": "fa2a9b29-9120-486a-fd41-d35d4396da45"
      },
      "source": [
        "from google.colab import files\n",
        "uploaded = files.upload()"
      ],
      "execution_count": null,
      "outputs": [
        {
          "output_type": "display_data",
          "data": {
            "text/html": [
              "\n",
              "     <input type=\"file\" id=\"files-816783ae-a3fc-479e-8384-cb215fe1f389\" name=\"files[]\" multiple disabled\n",
              "        style=\"border:none\" />\n",
              "     <output id=\"result-816783ae-a3fc-479e-8384-cb215fe1f389\">\n",
              "      Upload widget is only available when the cell has been executed in the\n",
              "      current browser session. Please rerun this cell to enable.\n",
              "      </output>\n",
              "      <script src=\"/nbextensions/google.colab/files.js\"></script> "
            ],
            "text/plain": [
              "<IPython.core.display.HTML object>"
            ]
          },
          "metadata": {
            "tags": []
          }
        },
        {
          "output_type": "stream",
          "text": [
            "Saving vgsales.csv to vgsales.csv\n"
          ],
          "name": "stdout"
        }
      ]
    },
    {
      "cell_type": "code",
      "metadata": {
        "colab": {
          "base_uri": "https://localhost:8080/",
          "height": 589
        },
        "id": "YEFP4fX4OMqL",
        "outputId": "75a1d055-31ef-456e-f7f8-2a3a9ea8b250"
      },
      "source": [
        "import io\n",
        "df2 = pd.read_csv(io.BytesIO(uploaded['vgsales.csv'])) # Dataset is now stored in a Pandas Dataframe\n",
        "df2\n",
        "df2['Year'].value_counts() # to get the unique counts of that column"
      ],
      "execution_count": null,
      "outputs": [
        {
          "output_type": "execute_result",
          "data": {
            "text/html": [
              "<div>\n",
              "<style scoped>\n",
              "    .dataframe tbody tr th:only-of-type {\n",
              "        vertical-align: middle;\n",
              "    }\n",
              "\n",
              "    .dataframe tbody tr th {\n",
              "        vertical-align: top;\n",
              "    }\n",
              "\n",
              "    .dataframe thead th {\n",
              "        text-align: right;\n",
              "    }\n",
              "</style>\n",
              "<table border=\"1\" class=\"dataframe\">\n",
              "  <thead>\n",
              "    <tr style=\"text-align: right;\">\n",
              "      <th></th>\n",
              "      <th>Rank</th>\n",
              "      <th>Name</th>\n",
              "      <th>Platform</th>\n",
              "      <th>Year</th>\n",
              "      <th>Genre</th>\n",
              "      <th>Publisher</th>\n",
              "      <th>NA_Sales</th>\n",
              "      <th>EU_Sales</th>\n",
              "      <th>JP_Sales</th>\n",
              "      <th>Other_Sales</th>\n",
              "      <th>Global_Sales</th>\n",
              "    </tr>\n",
              "  </thead>\n",
              "  <tbody>\n",
              "    <tr>\n",
              "      <th>0</th>\n",
              "      <td>1</td>\n",
              "      <td>Wii Sports</td>\n",
              "      <td>Wii</td>\n",
              "      <td>2006.0</td>\n",
              "      <td>Sports</td>\n",
              "      <td>Nintendo</td>\n",
              "      <td>41.49</td>\n",
              "      <td>29.02</td>\n",
              "      <td>3.77</td>\n",
              "      <td>8.46</td>\n",
              "      <td>82.74</td>\n",
              "    </tr>\n",
              "    <tr>\n",
              "      <th>1</th>\n",
              "      <td>2</td>\n",
              "      <td>Super Mario Bros.</td>\n",
              "      <td>NES</td>\n",
              "      <td>1985.0</td>\n",
              "      <td>Platform</td>\n",
              "      <td>Nintendo</td>\n",
              "      <td>29.08</td>\n",
              "      <td>3.58</td>\n",
              "      <td>6.81</td>\n",
              "      <td>0.77</td>\n",
              "      <td>40.24</td>\n",
              "    </tr>\n",
              "    <tr>\n",
              "      <th>2</th>\n",
              "      <td>3</td>\n",
              "      <td>Mario Kart Wii</td>\n",
              "      <td>Wii</td>\n",
              "      <td>2008.0</td>\n",
              "      <td>Racing</td>\n",
              "      <td>Nintendo</td>\n",
              "      <td>15.85</td>\n",
              "      <td>12.88</td>\n",
              "      <td>3.79</td>\n",
              "      <td>3.31</td>\n",
              "      <td>35.82</td>\n",
              "    </tr>\n",
              "    <tr>\n",
              "      <th>3</th>\n",
              "      <td>4</td>\n",
              "      <td>Wii Sports Resort</td>\n",
              "      <td>Wii</td>\n",
              "      <td>2009.0</td>\n",
              "      <td>Sports</td>\n",
              "      <td>Nintendo</td>\n",
              "      <td>15.75</td>\n",
              "      <td>11.01</td>\n",
              "      <td>3.28</td>\n",
              "      <td>2.96</td>\n",
              "      <td>33.00</td>\n",
              "    </tr>\n",
              "    <tr>\n",
              "      <th>4</th>\n",
              "      <td>5</td>\n",
              "      <td>Pokemon Red/Pokemon Blue</td>\n",
              "      <td>GB</td>\n",
              "      <td>1996.0</td>\n",
              "      <td>Role-Playing</td>\n",
              "      <td>Nintendo</td>\n",
              "      <td>11.27</td>\n",
              "      <td>8.89</td>\n",
              "      <td>10.22</td>\n",
              "      <td>1.00</td>\n",
              "      <td>31.37</td>\n",
              "    </tr>\n",
              "    <tr>\n",
              "      <th>...</th>\n",
              "      <td>...</td>\n",
              "      <td>...</td>\n",
              "      <td>...</td>\n",
              "      <td>...</td>\n",
              "      <td>...</td>\n",
              "      <td>...</td>\n",
              "      <td>...</td>\n",
              "      <td>...</td>\n",
              "      <td>...</td>\n",
              "      <td>...</td>\n",
              "      <td>...</td>\n",
              "    </tr>\n",
              "    <tr>\n",
              "      <th>16593</th>\n",
              "      <td>16596</td>\n",
              "      <td>Woody Woodpecker in Crazy Castle 5</td>\n",
              "      <td>GBA</td>\n",
              "      <td>2002.0</td>\n",
              "      <td>Platform</td>\n",
              "      <td>Kemco</td>\n",
              "      <td>0.01</td>\n",
              "      <td>0.00</td>\n",
              "      <td>0.00</td>\n",
              "      <td>0.00</td>\n",
              "      <td>0.01</td>\n",
              "    </tr>\n",
              "    <tr>\n",
              "      <th>16594</th>\n",
              "      <td>16597</td>\n",
              "      <td>Men in Black II: Alien Escape</td>\n",
              "      <td>GC</td>\n",
              "      <td>2003.0</td>\n",
              "      <td>Shooter</td>\n",
              "      <td>Infogrames</td>\n",
              "      <td>0.01</td>\n",
              "      <td>0.00</td>\n",
              "      <td>0.00</td>\n",
              "      <td>0.00</td>\n",
              "      <td>0.01</td>\n",
              "    </tr>\n",
              "    <tr>\n",
              "      <th>16595</th>\n",
              "      <td>16598</td>\n",
              "      <td>SCORE International Baja 1000: The Official Game</td>\n",
              "      <td>PS2</td>\n",
              "      <td>2008.0</td>\n",
              "      <td>Racing</td>\n",
              "      <td>Activision</td>\n",
              "      <td>0.00</td>\n",
              "      <td>0.00</td>\n",
              "      <td>0.00</td>\n",
              "      <td>0.00</td>\n",
              "      <td>0.01</td>\n",
              "    </tr>\n",
              "    <tr>\n",
              "      <th>16596</th>\n",
              "      <td>16599</td>\n",
              "      <td>Know How 2</td>\n",
              "      <td>DS</td>\n",
              "      <td>2010.0</td>\n",
              "      <td>Puzzle</td>\n",
              "      <td>7G//AMES</td>\n",
              "      <td>0.00</td>\n",
              "      <td>0.01</td>\n",
              "      <td>0.00</td>\n",
              "      <td>0.00</td>\n",
              "      <td>0.01</td>\n",
              "    </tr>\n",
              "    <tr>\n",
              "      <th>16597</th>\n",
              "      <td>16600</td>\n",
              "      <td>Spirits &amp; Spells</td>\n",
              "      <td>GBA</td>\n",
              "      <td>2003.0</td>\n",
              "      <td>Platform</td>\n",
              "      <td>Wanadoo</td>\n",
              "      <td>0.01</td>\n",
              "      <td>0.00</td>\n",
              "      <td>0.00</td>\n",
              "      <td>0.00</td>\n",
              "      <td>0.01</td>\n",
              "    </tr>\n",
              "  </tbody>\n",
              "</table>\n",
              "<p>16598 rows × 11 columns</p>\n",
              "</div>"
            ],
            "text/plain": [
              "        Rank  ... Global_Sales\n",
              "0          1  ...        82.74\n",
              "1          2  ...        40.24\n",
              "2          3  ...        35.82\n",
              "3          4  ...        33.00\n",
              "4          5  ...        31.37\n",
              "...      ...  ...          ...\n",
              "16593  16596  ...         0.01\n",
              "16594  16597  ...         0.01\n",
              "16595  16598  ...         0.01\n",
              "16596  16599  ...         0.01\n",
              "16597  16600  ...         0.01\n",
              "\n",
              "[16598 rows x 11 columns]"
            ]
          },
          "metadata": {
            "tags": []
          },
          "execution_count": 24
        }
      ]
    },
    {
      "cell_type": "code",
      "metadata": {
        "colab": {
          "base_uri": "https://localhost:8080/",
          "height": 282
        },
        "id": "NfyxlvX4Pdx2",
        "outputId": "9238f922-8d4b-4d76-b831-54ade324b839"
      },
      "source": [
        "df2.plot()"
      ],
      "execution_count": null,
      "outputs": [
        {
          "output_type": "execute_result",
          "data": {
            "text/plain": [
              "<matplotlib.axes._subplots.AxesSubplot at 0x7fdf49e4fb10>"
            ]
          },
          "metadata": {
            "tags": []
          },
          "execution_count": 25
        },
        {
          "output_type": "display_data",
          "data": {
            "image/png": "[encoded data removed]",
            "text/plain": [
              "<Figure size 432x288 with 1 Axes>"
            ]
          },
          "metadata": {
            "tags": [],
            "needs_background": "light"
          }
        }
      ]
    },
    {
      "cell_type": "markdown",
      "metadata": {
        "id": "U3O4-k6EQjhQ"
      },
      "source": [
        "#Matplotlib"
      ]
    },
    {
      "cell_type": "code",
      "metadata": {
        "colab": {
          "base_uri": "https://localhost:8080/",
          "height": 495
        },
        "id": "5DQDVs4fQrT4",
        "outputId": "548867a2-e531-42a4-a202-bc6325306ff8"
      },
      "source": [
        "#sample practice sessions from  here https://www.youtube.com/watch?v=3Xc3CA655Y4&ab_channel=freeCodeCamp.org\n",
        "import matplotlib.pyplot as plt\n",
        "x=[1,2,3,4,5,6,7]\n",
        "y=[0,2,4,6,8,10,12]\n",
        "plt.figure(figsize =[5,3],dpi=150)  #to change the dimentions of the output of the graph\n",
        "plt.title(\"My First Graph\",fontdict={'fontsize':20,'color':\"red\"})\n",
        "plt.xlabel(\"X axis\")\n",
        "plt.ylabel(\"Y axis\")\n",
        "plt.xticks([1,2,3,4,5,6,7,8,9])\n",
        "plt.yticks([0,2,4,6,8,10,12,14,16,18])\n",
        "#plt.plot(x,y,label=\"common Dist\",linestyle='dashed',marker='o',color=\"green\",markersize=10,markeredgecolor=\"red\")\n",
        "\n",
        "#for shorter notation use below  fmt = '[marker][line][color]'\n",
        "fmt = 'b^--'\n",
        "plt.plot(x,y,fmt,label=\"common Dist\")\n",
        "plt.legend()\n",
        "\n",
        "\n",
        "plt.show()"
      ],
      "execution_count": null,
      "outputs": [
        {
          "output_type": "display_data",
          "data": {
            "image/png": "[encoded data removed]",
            "text/plain": [
              "<Figure size 750x450 with 1 Axes>"
            ]
          },
          "metadata": {
            "tags": [],
            "needs_background": "light"
          }
        }
      ]
    },
    {
      "cell_type": "code",
      "metadata": {
        "colab": {
          "base_uri": "https://localhost:8080/",
          "height": 349
        },
        "id": "WRF9cj_daXpQ",
        "outputId": "fe625e32-2089-4f79-877e-fc86ee1a882a"
      },
      "source": [
        "x2=np.arange(0,7,0.5)\n",
        "x3=np.arange(15)\n",
        "print(x2)\n",
        "print(\" \")\n",
        "print(x3)\n",
        "print(\" \")\n",
        "plt.title(\"Second Graph for work-around\")\n",
        "plt.plot(x2[:6],x2[:6]**2,label=\"x^2\",color=\"r\")\n",
        "plt.plot(x2[5:],x2[5:]**2,label=\"x^2\",color=\"r\",linestyle=\"dashed\")\n",
        "plt.plot(x2,x2,label=\"x\",color=\"b\")\n",
        "plt.legend()\n",
        "plt.show()"
      ],
      "execution_count": null,
      "outputs": [
        {
          "output_type": "stream",
          "text": [
            "[0.  0.5 1.  1.5 2.  2.5 3.  3.5 4.  4.5 5.  5.5 6.  6.5]\n",
            " \n",
            "[ 0  1  2  3  4  5  6  7  8  9 10 11 12 13 14]\n",
            " \n"
          ],
          "name": "stdout"
        },
        {
          "output_type": "display_data",
          "data": {
            "image/png": "[encoded data removed]",
            "text/plain": [
              "<Figure size 432x288 with 1 Axes>"
            ]
          },
          "metadata": {
            "tags": [],
            "needs_background": "light"
          }
        }
      ]
    },
    {
      "cell_type": "markdown",
      "metadata": {
        "id": "5LKCjMkoxBEn"
      },
      "source": [
        "Bar Chart"
      ]
    },
    {
      "cell_type": "code",
      "metadata": {
        "colab": {
          "base_uri": "https://localhost:8080/",
          "height": 320
        },
        "id": "YUvBa8skxAy_",
        "outputId": "a3e6e6ab-b8ac-4fb8-faaa-aef72fe87886"
      },
      "source": [
        "axis1=[\"A\",\"B\",\"C\",\"D\",\"E\"]\n",
        "axis2=[1,2,3,6,10]\n",
        "print(\" \")\n",
        "plt.title(\"My first bar chart\",{'fontsize':20,'fontweight' : 3,'color' :\"brown\"})\n",
        "bars1=plt.bar(axis1,axis2,label=\"bars of numbers\")\n",
        "#to shade the bar lables\n",
        "#bar[0].set_hatch(\"/\")\n",
        "#bar[1].set_hatch(\"o\")\n",
        "#bar[2].set_hatch(\"*\")\n",
        "#bar[3].set_hatch(\".\")\n",
        "#bar[4].set_hatch(\"/\")\n",
        "\n",
        "\n",
        "#or we can use for loop\n",
        "patterns = [\"/\",\"*\",\"o\",\"/\",\"o\"]\n",
        "for bar in bars1:\n",
        "  bar.set_hatch(patterns.pop(0))\n",
        "\n",
        "plt.legend()\n",
        "plt.show()\n",
        "print(\" \")"
      ],
      "execution_count": null,
      "outputs": [
        {
          "output_type": "stream",
          "text": [
            " \n"
          ],
          "name": "stdout"
        },
        {
          "output_type": "display_data",
          "data": {
            "image/png": "[encoded data removed]",
            "text/plain": [
              "<Figure size 432x288 with 1 Axes>"
            ]
          },
          "metadata": {
            "tags": [],
            "needs_background": "light"
          }
        },
        {
          "output_type": "stream",
          "text": [
            " \n"
          ],
          "name": "stdout"
        }
      ]
    },
    {
      "cell_type": "markdown",
      "metadata": {
        "id": "WX7Fh4yj8Phk"
      },
      "source": [
        "Matplotlib Real World Examples"
      ]
    },
    {
      "cell_type": "code",
      "metadata": {
        "colab": {
          "resources": {
            "http://localhost:8080/nbextensions/google.colab/files.js": {
              "data": "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",
              "ok": true,
              "headers": [
                [
                  "content-type",
                  "application/javascript"
                ]
              ],
              "status": 200,
              "status_text": ""
            }
          },
          "base_uri": "https://localhost:8080/",
          "height": 72
        },
        "id": "CfjEXQKa8TMK",
        "outputId": "380d9ec2-35ec-409d-a0b3-3990fca700b0"
      },
      "source": [
        "from google.colab import files\n",
        "Uploaded1=files.upload()"
      ],
      "execution_count": null,
      "outputs": [
        {
          "output_type": "display_data",
          "data": {
            "text/html": [
              "\n",
              "     <input type=\"file\" id=\"files-06b370c1-28e6-4c76-91d6-4272ffc749ae\" name=\"files[]\" multiple disabled\n",
              "        style=\"border:none\" />\n",
              "     <output id=\"result-06b370c1-28e6-4c76-91d6-4272ffc749ae\">\n",
              "      Upload widget is only available when the cell has been executed in the\n",
              "      current browser session. Please rerun this cell to enable.\n",
              "      </output>\n",
              "      <script src=\"/nbextensions/google.colab/files.js\"></script> "
            ],
            "text/plain": [
              "<IPython.core.display.HTML object>"
            ]
          },
          "metadata": {
            "tags": []
          }
        },
        {
          "output_type": "stream",
          "text": [
            "Saving gas_prices.csv to gas_prices.csv\n"
          ],
          "name": "stdout"
        }
      ]
    },
    {
      "cell_type": "code",
      "metadata": {
        "colab": {
          "base_uri": "https://localhost:8080/",
          "height": 638
        },
        "id": "NuEnauIvHWjC",
        "outputId": "73bd6447-d09c-44b4-d04d-c0db91bad606"
      },
      "source": [
        "import io\n",
        "\n",
        "gas=pd.read_csv(io. BytesIO(Uploaded1['gas_prices.csv']))\n",
        "gas"
      ],
      "execution_count": null,
      "outputs": [
        {
          "output_type": "execute_result",
          "data": {
            "text/html": [
              "<div>\n",
              "<style scoped>\n",
              "    .dataframe tbody tr th:only-of-type {\n",
              "        vertical-align: middle;\n",
              "    }\n",
              "\n",
              "    .dataframe tbody tr th {\n",
              "        vertical-align: top;\n",
              "    }\n",
              "\n",
              "    .dataframe thead th {\n",
              "        text-align: right;\n",
              "    }\n",
              "</style>\n",
              "<table border=\"1\" class=\"dataframe\">\n",
              "  <thead>\n",
              "    <tr style=\"text-align: right;\">\n",
              "      <th></th>\n",
              "      <th>Year</th>\n",
              "      <th>Australia</th>\n",
              "      <th>Canada</th>\n",
              "      <th>France</th>\n",
              "      <th>Germany</th>\n",
              "      <th>Italy</th>\n",
              "      <th>Japan</th>\n",
              "      <th>Mexico</th>\n",
              "      <th>South Korea</th>\n",
              "      <th>UK</th>\n",
              "      <th>USA</th>\n",
              "    </tr>\n",
              "  </thead>\n",
              "  <tbody>\n",
              "    <tr>\n",
              "      <th>0</th>\n",
              "      <td>1990</td>\n",
              "      <td>NaN</td>\n",
              "      <td>1.87</td>\n",
              "      <td>3.63</td>\n",
              "      <td>2.65</td>\n",
              "      <td>4.59</td>\n",
              "      <td>3.16</td>\n",
              "      <td>1.00</td>\n",
              "      <td>2.05</td>\n",
              "      <td>2.82</td>\n",
              "      <td>1.16</td>\n",
              "    </tr>\n",
              "    <tr>\n",
              "      <th>1</th>\n",
              "      <td>1991</td>\n",
              "      <td>1.96</td>\n",
              "      <td>1.92</td>\n",
              "      <td>3.45</td>\n",
              "      <td>2.90</td>\n",
              "      <td>4.50</td>\n",
              "      <td>3.46</td>\n",
              "      <td>1.30</td>\n",
              "      <td>2.49</td>\n",
              "      <td>3.01</td>\n",
              "      <td>1.14</td>\n",
              "    </tr>\n",
              "    <tr>\n",
              "      <th>2</th>\n",
              "      <td>1992</td>\n",
              "      <td>1.89</td>\n",
              "      <td>1.73</td>\n",
              "      <td>3.56</td>\n",
              "      <td>3.27</td>\n",
              "      <td>4.53</td>\n",
              "      <td>3.58</td>\n",
              "      <td>1.50</td>\n",
              "      <td>2.65</td>\n",
              "      <td>3.06</td>\n",
              "      <td>1.13</td>\n",
              "    </tr>\n",
              "    <tr>\n",
              "      <th>3</th>\n",
              "      <td>1993</td>\n",
              "      <td>1.73</td>\n",
              "      <td>1.57</td>\n",
              "      <td>3.41</td>\n",
              "      <td>3.07</td>\n",
              "      <td>3.68</td>\n",
              "      <td>4.16</td>\n",
              "      <td>1.56</td>\n",
              "      <td>2.88</td>\n",
              "      <td>2.84</td>\n",
              "      <td>1.11</td>\n",
              "    </tr>\n",
              "    <tr>\n",
              "      <th>4</th>\n",
              "      <td>1994</td>\n",
              "      <td>1.84</td>\n",
              "      <td>1.45</td>\n",
              "      <td>3.59</td>\n",
              "      <td>3.52</td>\n",
              "      <td>3.70</td>\n",
              "      <td>4.36</td>\n",
              "      <td>1.48</td>\n",
              "      <td>2.87</td>\n",
              "      <td>2.99</td>\n",
              "      <td>1.11</td>\n",
              "    </tr>\n",
              "    <tr>\n",
              "      <th>5</th>\n",
              "      <td>1995</td>\n",
              "      <td>1.95</td>\n",
              "      <td>1.53</td>\n",
              "      <td>4.26</td>\n",
              "      <td>3.96</td>\n",
              "      <td>4.00</td>\n",
              "      <td>4.43</td>\n",
              "      <td>1.11</td>\n",
              "      <td>2.94</td>\n",
              "      <td>3.21</td>\n",
              "      <td>1.15</td>\n",
              "    </tr>\n",
              "    <tr>\n",
              "      <th>6</th>\n",
              "      <td>1996</td>\n",
              "      <td>2.12</td>\n",
              "      <td>1.61</td>\n",
              "      <td>4.41</td>\n",
              "      <td>3.94</td>\n",
              "      <td>4.39</td>\n",
              "      <td>3.64</td>\n",
              "      <td>1.25</td>\n",
              "      <td>3.18</td>\n",
              "      <td>3.34</td>\n",
              "      <td>1.23</td>\n",
              "    </tr>\n",
              "    <tr>\n",
              "      <th>7</th>\n",
              "      <td>1997</td>\n",
              "      <td>2.05</td>\n",
              "      <td>1.62</td>\n",
              "      <td>4.00</td>\n",
              "      <td>3.53</td>\n",
              "      <td>4.07</td>\n",
              "      <td>3.26</td>\n",
              "      <td>1.47</td>\n",
              "      <td>3.34</td>\n",
              "      <td>3.83</td>\n",
              "      <td>1.23</td>\n",
              "    </tr>\n",
              "    <tr>\n",
              "      <th>8</th>\n",
              "      <td>1998</td>\n",
              "      <td>1.63</td>\n",
              "      <td>1.38</td>\n",
              "      <td>3.87</td>\n",
              "      <td>3.34</td>\n",
              "      <td>3.84</td>\n",
              "      <td>2.82</td>\n",
              "      <td>1.49</td>\n",
              "      <td>3.04</td>\n",
              "      <td>4.06</td>\n",
              "      <td>1.06</td>\n",
              "    </tr>\n",
              "    <tr>\n",
              "      <th>9</th>\n",
              "      <td>1999</td>\n",
              "      <td>1.72</td>\n",
              "      <td>1.52</td>\n",
              "      <td>3.85</td>\n",
              "      <td>3.42</td>\n",
              "      <td>3.87</td>\n",
              "      <td>3.27</td>\n",
              "      <td>1.79</td>\n",
              "      <td>3.80</td>\n",
              "      <td>4.29</td>\n",
              "      <td>1.17</td>\n",
              "    </tr>\n",
              "    <tr>\n",
              "      <th>10</th>\n",
              "      <td>2000</td>\n",
              "      <td>1.94</td>\n",
              "      <td>1.86</td>\n",
              "      <td>3.80</td>\n",
              "      <td>3.45</td>\n",
              "      <td>3.77</td>\n",
              "      <td>3.65</td>\n",
              "      <td>2.01</td>\n",
              "      <td>4.18</td>\n",
              "      <td>4.58</td>\n",
              "      <td>1.51</td>\n",
              "    </tr>\n",
              "    <tr>\n",
              "      <th>11</th>\n",
              "      <td>2001</td>\n",
              "      <td>1.71</td>\n",
              "      <td>1.72</td>\n",
              "      <td>3.51</td>\n",
              "      <td>3.40</td>\n",
              "      <td>3.57</td>\n",
              "      <td>3.27</td>\n",
              "      <td>2.20</td>\n",
              "      <td>3.76</td>\n",
              "      <td>4.13</td>\n",
              "      <td>1.46</td>\n",
              "    </tr>\n",
              "    <tr>\n",
              "      <th>12</th>\n",
              "      <td>2002</td>\n",
              "      <td>1.76</td>\n",
              "      <td>1.69</td>\n",
              "      <td>3.62</td>\n",
              "      <td>3.67</td>\n",
              "      <td>3.74</td>\n",
              "      <td>3.15</td>\n",
              "      <td>2.24</td>\n",
              "      <td>3.84</td>\n",
              "      <td>4.16</td>\n",
              "      <td>1.36</td>\n",
              "    </tr>\n",
              "    <tr>\n",
              "      <th>13</th>\n",
              "      <td>2003</td>\n",
              "      <td>2.19</td>\n",
              "      <td>1.99</td>\n",
              "      <td>4.35</td>\n",
              "      <td>4.59</td>\n",
              "      <td>4.53</td>\n",
              "      <td>3.47</td>\n",
              "      <td>2.04</td>\n",
              "      <td>4.11</td>\n",
              "      <td>4.70</td>\n",
              "      <td>1.59</td>\n",
              "    </tr>\n",
              "    <tr>\n",
              "      <th>14</th>\n",
              "      <td>2004</td>\n",
              "      <td>2.72</td>\n",
              "      <td>2.37</td>\n",
              "      <td>4.99</td>\n",
              "      <td>5.24</td>\n",
              "      <td>5.29</td>\n",
              "      <td>3.93</td>\n",
              "      <td>2.03</td>\n",
              "      <td>4.51</td>\n",
              "      <td>5.56</td>\n",
              "      <td>1.88</td>\n",
              "    </tr>\n",
              "    <tr>\n",
              "      <th>15</th>\n",
              "      <td>2005</td>\n",
              "      <td>3.23</td>\n",
              "      <td>2.89</td>\n",
              "      <td>5.46</td>\n",
              "      <td>5.66</td>\n",
              "      <td>5.74</td>\n",
              "      <td>4.28</td>\n",
              "      <td>2.22</td>\n",
              "      <td>5.28</td>\n",
              "      <td>5.97</td>\n",
              "      <td>2.30</td>\n",
              "    </tr>\n",
              "    <tr>\n",
              "      <th>16</th>\n",
              "      <td>2006</td>\n",
              "      <td>3.54</td>\n",
              "      <td>3.26</td>\n",
              "      <td>5.88</td>\n",
              "      <td>6.03</td>\n",
              "      <td>6.10</td>\n",
              "      <td>4.47</td>\n",
              "      <td>2.31</td>\n",
              "      <td>5.92</td>\n",
              "      <td>6.36</td>\n",
              "      <td>2.59</td>\n",
              "    </tr>\n",
              "    <tr>\n",
              "      <th>17</th>\n",
              "      <td>2007</td>\n",
              "      <td>3.85</td>\n",
              "      <td>3.59</td>\n",
              "      <td>6.60</td>\n",
              "      <td>6.88</td>\n",
              "      <td>6.73</td>\n",
              "      <td>4.49</td>\n",
              "      <td>2.40</td>\n",
              "      <td>6.21</td>\n",
              "      <td>7.13</td>\n",
              "      <td>2.80</td>\n",
              "    </tr>\n",
              "    <tr>\n",
              "      <th>18</th>\n",
              "      <td>2008</td>\n",
              "      <td>4.45</td>\n",
              "      <td>4.08</td>\n",
              "      <td>7.51</td>\n",
              "      <td>7.75</td>\n",
              "      <td>7.63</td>\n",
              "      <td>5.74</td>\n",
              "      <td>2.45</td>\n",
              "      <td>5.83</td>\n",
              "      <td>7.42</td>\n",
              "      <td>3.27</td>\n",
              "    </tr>\n",
              "  </tbody>\n",
              "</table>\n",
              "</div>"
            ],
            "text/plain": [
              "    Year  Australia  Canada  France  ...  Mexico  South Korea    UK   USA\n",
              "0   1990        NaN    1.87    3.63  ...    1.00         2.05  2.82  1.16\n",
              "1   1991       1.96    1.92    3.45  ...    1.30         2.49  3.01  1.14\n",
              "2   1992       1.89    1.73    3.56  ...    1.50         2.65  3.06  1.13\n",
              "3   1993       1.73    1.57    3.41  ...    1.56         2.88  2.84  1.11\n",
              "4   1994       1.84    1.45    3.59  ...    1.48         2.87  2.99  1.11\n",
              "5   1995       1.95    1.53    4.26  ...    1.11         2.94  3.21  1.15\n",
              "6   1996       2.12    1.61    4.41  ...    1.25         3.18  3.34  1.23\n",
              "7   1997       2.05    1.62    4.00  ...    1.47         3.34  3.83  1.23\n",
              "8   1998       1.63    1.38    3.87  ...    1.49         3.04  4.06  1.06\n",
              "9   1999       1.72    1.52    3.85  ...    1.79         3.80  4.29  1.17\n",
              "10  2000       1.94    1.86    3.80  ...    2.01         4.18  4.58  1.51\n",
              "11  2001       1.71    1.72    3.51  ...    2.20         3.76  4.13  1.46\n",
              "12  2002       1.76    1.69    3.62  ...    2.24         3.84  4.16  1.36\n",
              "13  2003       2.19    1.99    4.35  ...    2.04         4.11  4.70  1.59\n",
              "14  2004       2.72    2.37    4.99  ...    2.03         4.51  5.56  1.88\n",
              "15  2005       3.23    2.89    5.46  ...    2.22         5.28  5.97  2.30\n",
              "16  2006       3.54    3.26    5.88  ...    2.31         5.92  6.36  2.59\n",
              "17  2007       3.85    3.59    6.60  ...    2.40         6.21  7.13  2.80\n",
              "18  2008       4.45    4.08    7.51  ...    2.45         5.83  7.42  3.27\n",
              "\n",
              "[19 rows x 11 columns]"
            ]
          },
          "metadata": {
            "tags": []
          },
          "execution_count": 30
        }
      ]
    },
    {
      "cell_type": "code",
      "metadata": {
        "colab": {
          "base_uri": "https://localhost:8080/",
          "height": 283
        },
        "id": "R-z6FPtcJD9Z",
        "outputId": "aa756827-5ea0-49b6-c700-2705576c0f84"
      },
      "source": [
        "plt.title(\"Gas Prices in different countries\",{\"color\":\"green\",\"fontsize\":15})\n",
        "plt.plot(gas['Year'],gas['USA'],'b^--',label=\"USA\")\n",
        "plt.plot(gas['Year'],gas['UK'],label=\"UK\",marker='*')\n",
        "plt.plot(gas['Year'],gas['South Korea'],label=\"South Korea\",marker='^')\n",
        "#plt.xticks([gas[\"Year\"].min(),gas[\"Year\"].max()])\n",
        "#print(gas['Year'][::3])  #this gives the iteration of the xaxis range \n",
        "plt.xticks(gas[\"Year\"][::3])\n",
        "\n",
        "\n",
        "\n",
        "plt.legend()\n",
        "plt.show()"
      ],
      "execution_count": null,
      "outputs": [
        {
          "output_type": "display_data",
          "data": {
            "image/png": "[encoded data removed]",
            "text/plain": [
              "<Figure size 432x288 with 1 Axes>"
            ]
          },
          "metadata": {
            "tags": [],
            "needs_background": "light"
          }
        }
      ]
    },
    {
      "cell_type": "code",
      "metadata": {
        "colab": {
          "base_uri": "https://localhost:8080/",
          "height": 632
        },
        "id": "GMJX66ySZDiP",
        "outputId": "e1f09803-8026-46de-fb47-0c9cfb8ec7b8"
      },
      "source": [
        "#using for loop\n",
        "\n",
        "plt.figure(figsize=(14,10)) #change the size of the figure/chart\n",
        "for country in gas:\n",
        "  if country !='Year':\n",
        "    plt.plot(gas['Year'],gas[country],label=country,marker=\"o\",markeredgecolor=\"black\",markersize=10);\n",
        "plt.title(\"Gas Prices in all the country in Dollors\",fontdict={'fontsize':20})\n",
        "plt.xticks(gas['Year'][::2])\n",
        "plt.xlabel('Year',fontdict={\"fontsize\":15})\n",
        "plt.ylabel(\"Prices in Dollors\",fontdict={\"fontsize\":15})\n",
        "plt.legend(loc='upper right',bbox_to_anchor=(1.15, 1.0)) #change the position of the legend\n",
        "\n",
        "plt.show()"
      ],
      "execution_count": null,
      "outputs": [
        {
          "output_type": "display_data",
          "data": {
            "image/png": "[encoded data removed]",
            "text/plain": [
              "<Figure size 1008x720 with 1 Axes>"
            ]
          },
          "metadata": {
            "tags": [],
            "needs_background": "light"
          }
        }
      ]
    },
    {
      "cell_type": "markdown",
      "metadata": {
        "id": "HBjgszoWjtU3"
      },
      "source": [
        "Histogram Chart"
      ]
    },
    {
      "cell_type": "code",
      "metadata": {
        "colab": {
          "resources": {
            "http://localhost:8080/nbextensions/google.colab/files.js": {
              "data": "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",
              "ok": true,
              "headers": [
                [
                  "content-type",
                  "application/javascript"
                ]
              ],
              "status": 200,
              "status_text": ""
            }
          },
          "base_uri": "https://localhost:8080/",
          "height": 72
        },
        "id": "XYURTibsaPKd",
        "outputId": "75ce515e-7163-45c7-dcd6-20acad92969a"
      },
      "source": [
        "from google.colab import files\n",
        "uploaded2=files.upload()"
      ],
      "execution_count": null,
      "outputs": [
        {
          "output_type": "display_data",
          "data": {
            "text/html": [
              "\n",
              "     <input type=\"file\" id=\"files-20b0f696-5b7b-4d67-b409-8edb5ef45a25\" name=\"files[]\" multiple disabled\n",
              "        style=\"border:none\" />\n",
              "     <output id=\"result-20b0f696-5b7b-4d67-b409-8edb5ef45a25\">\n",
              "      Upload widget is only available when the cell has been executed in the\n",
              "      current browser session. Please rerun this cell to enable.\n",
              "      </output>\n",
              "      <script src=\"/nbextensions/google.colab/files.js\"></script> "
            ],
            "text/plain": [
              "<IPython.core.display.HTML object>"
            ]
          },
          "metadata": {
            "tags": []
          }
        },
        {
          "output_type": "stream",
          "text": [
            "Saving fifa_data.csv to fifa_data.csv\n"
          ],
          "name": "stdout"
        }
      ]
    },
    {
      "cell_type": "code",
      "metadata": {
        "colab": {
          "base_uri": "https://localhost:8080/",
          "height": 677
        },
        "id": "0gR3z50fkg8J",
        "outputId": "005cb828-6078-4267-9707-502807fca5c6"
      },
      "source": [
        "import io\n",
        "\n",
        "fifa=pd.read_csv(io.BytesIO(uploaded2[\"fifa_data.csv\"]))\n",
        "fifa"
      ],
      "execution_count": null,
      "outputs": [
        {
          "output_type": "execute_result",
          "data": {
            "text/html": [
              "<div>\n",
              "<style scoped>\n",
              "    .dataframe tbody tr th:only-of-type {\n",
              "        vertical-align: middle;\n",
              "    }\n",
              "\n",
              "    .dataframe tbody tr th {\n",
              "        vertical-align: top;\n",
              "    }\n",
              "\n",
              "    .dataframe thead th {\n",
              "        text-align: right;\n",
              "    }\n",
              "</style>\n",
              "<table border=\"1\" class=\"dataframe\">\n",
              "  <thead>\n",
              "    <tr style=\"text-align: right;\">\n",
              "      <th></th>\n",
              "      <th>Unnamed: 0</th>\n",
              "      <th>ID</th>\n",
              "      <th>Name</th>\n",
              "      <th>Age</th>\n",
              "      <th>Photo</th>\n",
              "      <th>Nationality</th>\n",
              "      <th>Flag</th>\n",
              "      <th>Overall</th>\n",
              "      <th>Potential</th>\n",
              "      <th>Club</th>\n",
              "      <th>Club Logo</th>\n",
              "      <th>Value</th>\n",
              "      <th>Wage</th>\n",
              "      <th>Special</th>\n",
              "      <th>Preferred Foot</th>\n",
              "      <th>International Reputation</th>\n",
              "      <th>Weak Foot</th>\n",
              "      <th>Skill Moves</th>\n",
              "      <th>Work Rate</th>\n",
              "      <th>Body Type</th>\n",
              "      <th>Real Face</th>\n",
              "      <th>Position</th>\n",
              "      <th>Jersey Number</th>\n",
              "      <th>Joined</th>\n",
              "      <th>Loaned From</th>\n",
              "      <th>Contract Valid Until</th>\n",
              "      <th>Height</th>\n",
              "      <th>Weight</th>\n",
              "      <th>LS</th>\n",
              "      <th>ST</th>\n",
              "      <th>RS</th>\n",
              "      <th>LW</th>\n",
              "      <th>LF</th>\n",
              "      <th>CF</th>\n",
              "      <th>RF</th>\n",
              "      <th>RW</th>\n",
              "      <th>LAM</th>\n",
              "      <th>CAM</th>\n",
              "      <th>RAM</th>\n",
              "      <th>LM</th>\n",
              "      <th>...</th>\n",
              "      <th>LB</th>\n",
              "      <th>LCB</th>\n",
              "      <th>CB</th>\n",
              "      <th>RCB</th>\n",
              "      <th>RB</th>\n",
              "      <th>Crossing</th>\n",
              "      <th>Finishing</th>\n",
              "      <th>HeadingAccuracy</th>\n",
              "      <th>ShortPassing</th>\n",
              "      <th>Volleys</th>\n",
              "      <th>Dribbling</th>\n",
              "      <th>Curve</th>\n",
              "      <th>FKAccuracy</th>\n",
              "      <th>LongPassing</th>\n",
              "      <th>BallControl</th>\n",
              "      <th>Acceleration</th>\n",
              "      <th>SprintSpeed</th>\n",
              "      <th>Agility</th>\n",
              "      <th>Reactions</th>\n",
              "      <th>Balance</th>\n",
              "      <th>ShotPower</th>\n",
              "      <th>Jumping</th>\n",
              "      <th>Stamina</th>\n",
              "      <th>Strength</th>\n",
              "      <th>LongShots</th>\n",
              "      <th>Aggression</th>\n",
              "      <th>Interceptions</th>\n",
              "      <th>Positioning</th>\n",
              "      <th>Vision</th>\n",
              "      <th>Penalties</th>\n",
              "      <th>Composure</th>\n",
              "      <th>Marking</th>\n",
              "      <th>StandingTackle</th>\n",
              "      <th>SlidingTackle</th>\n",
              "      <th>GKDiving</th>\n",
              "      <th>GKHandling</th>\n",
              "      <th>GKKicking</th>\n",
              "      <th>GKPositioning</th>\n",
              "      <th>GKReflexes</th>\n",
              "      <th>Release Clause</th>\n",
              "    </tr>\n",
              "  </thead>\n",
              "  <tbody>\n",
              "    <tr>\n",
              "      <th>0</th>\n",
              "      <td>0</td>\n",
              "      <td>158023</td>\n",
              "      <td>L. Messi</td>\n",
              "      <td>31</td>\n",
              "      <td>https://cdn.sofifa.org/players/4/19/158023.png</td>\n",
              "      <td>Argentina</td>\n",
              "      <td>https://cdn.sofifa.org/flags/52.png</td>\n",
              "      <td>94</td>\n",
              "      <td>94</td>\n",
              "      <td>FC Barcelona</td>\n",
              "      <td>https://cdn.sofifa.org/teams/2/light/241.png</td>\n",
              "      <td>€110.5M</td>\n",
              "      <td>€565K</td>\n",
              "      <td>2202</td>\n",
              "      <td>Left</td>\n",
              "      <td>5.0</td>\n",
              "      <td>4.0</td>\n",
              "      <td>4.0</td>\n",
              "      <td>Medium/ Medium</td>\n",
              "      <td>Messi</td>\n",
              "      <td>Yes</td>\n",
              "      <td>RF</td>\n",
              "      <td>10.0</td>\n",
              "      <td>Jul 1, 2004</td>\n",
              "      <td>NaN</td>\n",
              "      <td>2021</td>\n",
              "      <td>5'7</td>\n",
              "      <td>159lbs</td>\n",
              "      <td>88+2</td>\n",
              "      <td>88+2</td>\n",
              "      <td>88+2</td>\n",
              "      <td>92+2</td>\n",
              "      <td>93+2</td>\n",
              "      <td>93+2</td>\n",
              "      <td>93+2</td>\n",
              "      <td>92+2</td>\n",
              "      <td>93+2</td>\n",
              "      <td>93+2</td>\n",
              "      <td>93+2</td>\n",
              "      <td>91+2</td>\n",
              "      <td>...</td>\n",
              "      <td>59+2</td>\n",
              "      <td>47+2</td>\n",
              "      <td>47+2</td>\n",
              "      <td>47+2</td>\n",
              "      <td>59+2</td>\n",
              "      <td>84.0</td>\n",
              "      <td>95.0</td>\n",
              "      <td>70.0</td>\n",
              "      <td>90.0</td>\n",
              "      <td>86.0</td>\n",
              "      <td>97.0</td>\n",
              "      <td>93.0</td>\n",
              "      <td>94.0</td>\n",
              "      <td>87.0</td>\n",
              "      <td>96.0</td>\n",
              "      <td>91.0</td>\n",
              "      <td>86.0</td>\n",
              "      <td>91.0</td>\n",
              "      <td>95.0</td>\n",
              "      <td>95.0</td>\n",
              "      <td>85.0</td>\n",
              "      <td>68.0</td>\n",
              "      <td>72.0</td>\n",
              "      <td>59.0</td>\n",
              "      <td>94.0</td>\n",
              "      <td>48.0</td>\n",
              "      <td>22.0</td>\n",
              "      <td>94.0</td>\n",
              "      <td>94.0</td>\n",
              "      <td>75.0</td>\n",
              "      <td>96.0</td>\n",
              "      <td>33.0</td>\n",
              "      <td>28.0</td>\n",
              "      <td>26.0</td>\n",
              "      <td>6.0</td>\n",
              "      <td>11.0</td>\n",
              "      <td>15.0</td>\n",
              "      <td>14.0</td>\n",
              "      <td>8.0</td>\n",
              "      <td>€226.5M</td>\n",
              "    </tr>\n",
              "    <tr>\n",
              "      <th>1</th>\n",
              "      <td>1</td>\n",
              "      <td>20801</td>\n",
              "      <td>Cristiano Ronaldo</td>\n",
              "      <td>33</td>\n",
              "      <td>https://cdn.sofifa.org/players/4/19/20801.png</td>\n",
              "      <td>Portugal</td>\n",
              "      <td>https://cdn.sofifa.org/flags/38.png</td>\n",
              "      <td>94</td>\n",
              "      <td>94</td>\n",
              "      <td>Juventus</td>\n",
              "      <td>https://cdn.sofifa.org/teams/2/light/45.png</td>\n",
              "      <td>€77M</td>\n",
              "      <td>€405K</td>\n",
              "      <td>2228</td>\n",
              "      <td>Right</td>\n",
              "      <td>5.0</td>\n",
              "      <td>4.0</td>\n",
              "      <td>5.0</td>\n",
              "      <td>High/ Low</td>\n",
              "      <td>C. Ronaldo</td>\n",
              "      <td>Yes</td>\n",
              "      <td>ST</td>\n",
              "      <td>7.0</td>\n",
              "      <td>Jul 10, 2018</td>\n",
              "      <td>NaN</td>\n",
              "      <td>2022</td>\n",
              "      <td>6'2</td>\n",
              "      <td>183lbs</td>\n",
              "      <td>91+3</td>\n",
              "      <td>91+3</td>\n",
              "      <td>91+3</td>\n",
              "      <td>89+3</td>\n",
              "      <td>90+3</td>\n",
              "      <td>90+3</td>\n",
              "      <td>90+3</td>\n",
              "      <td>89+3</td>\n",
              "      <td>88+3</td>\n",
              "      <td>88+3</td>\n",
              "      <td>88+3</td>\n",
              "      <td>88+3</td>\n",
              "      <td>...</td>\n",
              "      <td>61+3</td>\n",
              "      <td>53+3</td>\n",
              "      <td>53+3</td>\n",
              "      <td>53+3</td>\n",
              "      <td>61+3</td>\n",
              "      <td>84.0</td>\n",
              "      <td>94.0</td>\n",
              "      <td>89.0</td>\n",
              "      <td>81.0</td>\n",
              "      <td>87.0</td>\n",
              "      <td>88.0</td>\n",
              "      <td>81.0</td>\n",
              "      <td>76.0</td>\n",
              "      <td>77.0</td>\n",
              "      <td>94.0</td>\n",
              "      <td>89.0</td>\n",
              "      <td>91.0</td>\n",
              "      <td>87.0</td>\n",
              "      <td>96.0</td>\n",
              "      <td>70.0</td>\n",
              "      <td>95.0</td>\n",
              "      <td>95.0</td>\n",
              "      <td>88.0</td>\n",
              "      <td>79.0</td>\n",
              "      <td>93.0</td>\n",
              "      <td>63.0</td>\n",
              "      <td>29.0</td>\n",
              "      <td>95.0</td>\n",
              "      <td>82.0</td>\n",
              "      <td>85.0</td>\n",
              "      <td>95.0</td>\n",
              "      <td>28.0</td>\n",
              "      <td>31.0</td>\n",
              "      <td>23.0</td>\n",
              "      <td>7.0</td>\n",
              "      <td>11.0</td>\n",
              "      <td>15.0</td>\n",
              "      <td>14.0</td>\n",
              "      <td>11.0</td>\n",
              "      <td>€127.1M</td>\n",
              "    </tr>\n",
              "    <tr>\n",
              "      <th>2</th>\n",
              "      <td>2</td>\n",
              "      <td>190871</td>\n",
              "      <td>Neymar Jr</td>\n",
              "      <td>26</td>\n",
              "      <td>https://cdn.sofifa.org/players/4/19/190871.png</td>\n",
              "      <td>Brazil</td>\n",
              "      <td>https://cdn.sofifa.org/flags/54.png</td>\n",
              "      <td>92</td>\n",
              "      <td>93</td>\n",
              "      <td>Paris Saint-Germain</td>\n",
              "      <td>https://cdn.sofifa.org/teams/2/light/73.png</td>\n",
              "      <td>€118.5M</td>\n",
              "      <td>€290K</td>\n",
              "      <td>2143</td>\n",
              "      <td>Right</td>\n",
              "      <td>5.0</td>\n",
              "      <td>5.0</td>\n",
              "      <td>5.0</td>\n",
              "      <td>High/ Medium</td>\n",
              "      <td>Neymar</td>\n",
              "      <td>Yes</td>\n",
              "      <td>LW</td>\n",
              "      <td>10.0</td>\n",
              "      <td>Aug 3, 2017</td>\n",
              "      <td>NaN</td>\n",
              "      <td>2022</td>\n",
              "      <td>5'9</td>\n",
              "      <td>150lbs</td>\n",
              "      <td>84+3</td>\n",
              "      <td>84+3</td>\n",
              "      <td>84+3</td>\n",
              "      <td>89+3</td>\n",
              "      <td>89+3</td>\n",
              "      <td>89+3</td>\n",
              "      <td>89+3</td>\n",
              "      <td>89+3</td>\n",
              "      <td>89+3</td>\n",
              "      <td>89+3</td>\n",
              "      <td>89+3</td>\n",
              "      <td>88+3</td>\n",
              "      <td>...</td>\n",
              "      <td>60+3</td>\n",
              "      <td>47+3</td>\n",
              "      <td>47+3</td>\n",
              "      <td>47+3</td>\n",
              "      <td>60+3</td>\n",
              "      <td>79.0</td>\n",
              "      <td>87.0</td>\n",
              "      <td>62.0</td>\n",
              "      <td>84.0</td>\n",
              "      <td>84.0</td>\n",
              "      <td>96.0</td>\n",
              "      <td>88.0</td>\n",
              "      <td>87.0</td>\n",
              "      <td>78.0</td>\n",
              "      <td>95.0</td>\n",
              "      <td>94.0</td>\n",
              "      <td>90.0</td>\n",
              "      <td>96.0</td>\n",
              "      <td>94.0</td>\n",
              "      <td>84.0</td>\n",
              "      <td>80.0</td>\n",
              "      <td>61.0</td>\n",
              "      <td>81.0</td>\n",
              "      <td>49.0</td>\n",
              "      <td>82.0</td>\n",
              "      <td>56.0</td>\n",
              "      <td>36.0</td>\n",
              "      <td>89.0</td>\n",
              "      <td>87.0</td>\n",
              "      <td>81.0</td>\n",
              "      <td>94.0</td>\n",
              "      <td>27.0</td>\n",
              "      <td>24.0</td>\n",
              "      <td>33.0</td>\n",
              "      <td>9.0</td>\n",
              "      <td>9.0</td>\n",
              "      <td>15.0</td>\n",
              "      <td>15.0</td>\n",
              "      <td>11.0</td>\n",
              "      <td>€228.1M</td>\n",
              "    </tr>\n",
              "    <tr>\n",
              "      <th>3</th>\n",
              "      <td>3</td>\n",
              "      <td>193080</td>\n",
              "      <td>De Gea</td>\n",
              "      <td>27</td>\n",
              "      <td>https://cdn.sofifa.org/players/4/19/193080.png</td>\n",
              "      <td>Spain</td>\n",
              "      <td>https://cdn.sofifa.org/flags/45.png</td>\n",
              "      <td>91</td>\n",
              "      <td>93</td>\n",
              "      <td>Manchester United</td>\n",
              "      <td>https://cdn.sofifa.org/teams/2/light/11.png</td>\n",
              "      <td>€72M</td>\n",
              "      <td>€260K</td>\n",
              "      <td>1471</td>\n",
              "      <td>Right</td>\n",
              "      <td>4.0</td>\n",
              "      <td>3.0</td>\n",
              "      <td>1.0</td>\n",
              "      <td>Medium/ Medium</td>\n",
              "      <td>Lean</td>\n",
              "      <td>Yes</td>\n",
              "      <td>GK</td>\n",
              "      <td>1.0</td>\n",
              "      <td>Jul 1, 2011</td>\n",
              "      <td>NaN</td>\n",
              "      <td>2020</td>\n",
              "      <td>6'4</td>\n",
              "      <td>168lbs</td>\n",
              "      <td>NaN</td>\n",
              "      <td>NaN</td>\n",
              "      <td>NaN</td>\n",
              "      <td>NaN</td>\n",
              "      <td>NaN</td>\n",
              "      <td>NaN</td>\n",
              "      <td>NaN</td>\n",
              "      <td>NaN</td>\n",
              "      <td>NaN</td>\n",
              "      <td>NaN</td>\n",
              "      <td>NaN</td>\n",
              "      <td>NaN</td>\n",
              "      <td>...</td>\n",
              "      <td>NaN</td>\n",
              "      <td>NaN</td>\n",
              "      <td>NaN</td>\n",
              "      <td>NaN</td>\n",
              "      <td>NaN</td>\n",
              "      <td>17.0</td>\n",
              "      <td>13.0</td>\n",
              "      <td>21.0</td>\n",
              "      <td>50.0</td>\n",
              "      <td>13.0</td>\n",
              "      <td>18.0</td>\n",
              "      <td>21.0</td>\n",
              "      <td>19.0</td>\n",
              "      <td>51.0</td>\n",
              "      <td>42.0</td>\n",
              "      <td>57.0</td>\n",
              "      <td>58.0</td>\n",
              "      <td>60.0</td>\n",
              "      <td>90.0</td>\n",
              "      <td>43.0</td>\n",
              "      <td>31.0</td>\n",
              "      <td>67.0</td>\n",
              "      <td>43.0</td>\n",
              "      <td>64.0</td>\n",
              "      <td>12.0</td>\n",
              "      <td>38.0</td>\n",
              "      <td>30.0</td>\n",
              "      <td>12.0</td>\n",
              "      <td>68.0</td>\n",
              "      <td>40.0</td>\n",
              "      <td>68.0</td>\n",
              "      <td>15.0</td>\n",
              "      <td>21.0</td>\n",
              "      <td>13.0</td>\n",
              "      <td>90.0</td>\n",
              "      <td>85.0</td>\n",
              "      <td>87.0</td>\n",
              "      <td>88.0</td>\n",
              "      <td>94.0</td>\n",
              "      <td>€138.6M</td>\n",
              "    </tr>\n",
              "    <tr>\n",
              "      <th>4</th>\n",
              "      <td>4</td>\n",
              "      <td>192985</td>\n",
              "      <td>K. De Bruyne</td>\n",
              "      <td>27</td>\n",
              "      <td>https://cdn.sofifa.org/players/4/19/192985.png</td>\n",
              "      <td>Belgium</td>\n",
              "      <td>https://cdn.sofifa.org/flags/7.png</td>\n",
              "      <td>91</td>\n",
              "      <td>92</td>\n",
              "      <td>Manchester City</td>\n",
              "      <td>https://cdn.sofifa.org/teams/2/light/10.png</td>\n",
              "      <td>€102M</td>\n",
              "      <td>€355K</td>\n",
              "      <td>2281</td>\n",
              "      <td>Right</td>\n",
              "      <td>4.0</td>\n",
              "      <td>5.0</td>\n",
              "      <td>4.0</td>\n",
              "      <td>High/ High</td>\n",
              "      <td>Normal</td>\n",
              "      <td>Yes</td>\n",
              "      <td>RCM</td>\n",
              "      <td>7.0</td>\n",
              "      <td>Aug 30, 2015</td>\n",
              "      <td>NaN</td>\n",
              "      <td>2023</td>\n",
              "      <td>5'11</td>\n",
              "      <td>154lbs</td>\n",
              "      <td>82+3</td>\n",
              "      <td>82+3</td>\n",
              "      <td>82+3</td>\n",
              "      <td>87+3</td>\n",
              "      <td>87+3</td>\n",
              "      <td>87+3</td>\n",
              "      <td>87+3</td>\n",
              "      <td>87+3</td>\n",
              "      <td>88+3</td>\n",
              "      <td>88+3</td>\n",
              "      <td>88+3</td>\n",
              "      <td>88+3</td>\n",
              "      <td>...</td>\n",
              "      <td>73+3</td>\n",
              "      <td>66+3</td>\n",
              "      <td>66+3</td>\n",
              "      <td>66+3</td>\n",
              "      <td>73+3</td>\n",
              "      <td>93.0</td>\n",
              "      <td>82.0</td>\n",
              "      <td>55.0</td>\n",
              "      <td>92.0</td>\n",
              "      <td>82.0</td>\n",
              "      <td>86.0</td>\n",
              "      <td>85.0</td>\n",
              "      <td>83.0</td>\n",
              "      <td>91.0</td>\n",
              "      <td>91.0</td>\n",
              "      <td>78.0</td>\n",
              "      <td>76.0</td>\n",
              "      <td>79.0</td>\n",
              "      <td>91.0</td>\n",
              "      <td>77.0</td>\n",
              "      <td>91.0</td>\n",
              "      <td>63.0</td>\n",
              "      <td>90.0</td>\n",
              "      <td>75.0</td>\n",
              "      <td>91.0</td>\n",
              "      <td>76.0</td>\n",
              "      <td>61.0</td>\n",
              "      <td>87.0</td>\n",
              "      <td>94.0</td>\n",
              "      <td>79.0</td>\n",
              "      <td>88.0</td>\n",
              "      <td>68.0</td>\n",
              "      <td>58.0</td>\n",
              "      <td>51.0</td>\n",
              "      <td>15.0</td>\n",
              "      <td>13.0</td>\n",
              "      <td>5.0</td>\n",
              "      <td>10.0</td>\n",
              "      <td>13.0</td>\n",
              "      <td>€196.4M</td>\n",
              "    </tr>\n",
              "    <tr>\n",
              "      <th>...</th>\n",
              "      <td>...</td>\n",
              "      <td>...</td>\n",
              "      <td>...</td>\n",
              "      <td>...</td>\n",
              "      <td>...</td>\n",
              "      <td>...</td>\n",
              "      <td>...</td>\n",
              "      <td>...</td>\n",
              "      <td>...</td>\n",
              "      <td>...</td>\n",
              "      <td>...</td>\n",
              "      <td>...</td>\n",
              "      <td>...</td>\n",
              "      <td>...</td>\n",
              "      <td>...</td>\n",
              "      <td>...</td>\n",
              "      <td>...</td>\n",
              "      <td>...</td>\n",
              "      <td>...</td>\n",
              "      <td>...</td>\n",
              "      <td>...</td>\n",
              "      <td>...</td>\n",
              "      <td>...</td>\n",
              "      <td>...</td>\n",
              "      <td>...</td>\n",
              "      <td>...</td>\n",
              "      <td>...</td>\n",
              "      <td>...</td>\n",
              "      <td>...</td>\n",
              "      <td>...</td>\n",
              "      <td>...</td>\n",
              "      <td>...</td>\n",
              "      <td>...</td>\n",
              "      <td>...</td>\n",
              "      <td>...</td>\n",
              "      <td>...</td>\n",
              "      <td>...</td>\n",
              "      <td>...</td>\n",
              "      <td>...</td>\n",
              "      <td>...</td>\n",
              "      <td>...</td>\n",
              "      <td>...</td>\n",
              "      <td>...</td>\n",
              "      <td>...</td>\n",
              "      <td>...</td>\n",
              "      <td>...</td>\n",
              "      <td>...</td>\n",
              "      <td>...</td>\n",
              "      <td>...</td>\n",
              "      <td>...</td>\n",
              "      <td>...</td>\n",
              "      <td>...</td>\n",
              "      <td>...</td>\n",
              "      <td>...</td>\n",
              "      <td>...</td>\n",
              "      <td>...</td>\n",
              "      <td>...</td>\n",
              "      <td>...</td>\n",
              "      <td>...</td>\n",
              "      <td>...</td>\n",
              "      <td>...</td>\n",
              "      <td>...</td>\n",
              "      <td>...</td>\n",
              "      <td>...</td>\n",
              "      <td>...</td>\n",
              "      <td>...</td>\n",
              "      <td>...</td>\n",
              "      <td>...</td>\n",
              "      <td>...</td>\n",
              "      <td>...</td>\n",
              "      <td>...</td>\n",
              "      <td>...</td>\n",
              "      <td>...</td>\n",
              "      <td>...</td>\n",
              "      <td>...</td>\n",
              "      <td>...</td>\n",
              "      <td>...</td>\n",
              "      <td>...</td>\n",
              "      <td>...</td>\n",
              "      <td>...</td>\n",
              "      <td>...</td>\n",
              "    </tr>\n",
              "    <tr>\n",
              "      <th>18202</th>\n",
              "      <td>18202</td>\n",
              "      <td>238813</td>\n",
              "      <td>J. Lundstram</td>\n",
              "      <td>19</td>\n",
              "      <td>https://cdn.sofifa.org/players/4/19/238813.png</td>\n",
              "      <td>England</td>\n",
              "      <td>https://cdn.sofifa.org/flags/14.png</td>\n",
              "      <td>47</td>\n",
              "      <td>65</td>\n",
              "      <td>Crewe Alexandra</td>\n",
              "      <td>https://cdn.sofifa.org/teams/2/light/121.png</td>\n",
              "      <td>€60K</td>\n",
              "      <td>€1K</td>\n",
              "      <td>1307</td>\n",
              "      <td>Right</td>\n",
              "      <td>1.0</td>\n",
              "      <td>2.0</td>\n",
              "      <td>2.0</td>\n",
              "      <td>Medium/ Medium</td>\n",
              "      <td>Lean</td>\n",
              "      <td>No</td>\n",
              "      <td>CM</td>\n",
              "      <td>22.0</td>\n",
              "      <td>May 3, 2017</td>\n",
              "      <td>NaN</td>\n",
              "      <td>2019</td>\n",
              "      <td>5'9</td>\n",
              "      <td>134lbs</td>\n",
              "      <td>42+2</td>\n",
              "      <td>42+2</td>\n",
              "      <td>42+2</td>\n",
              "      <td>44+2</td>\n",
              "      <td>44+2</td>\n",
              "      <td>44+2</td>\n",
              "      <td>44+2</td>\n",
              "      <td>44+2</td>\n",
              "      <td>45+2</td>\n",
              "      <td>45+2</td>\n",
              "      <td>45+2</td>\n",
              "      <td>44+2</td>\n",
              "      <td>...</td>\n",
              "      <td>45+2</td>\n",
              "      <td>45+2</td>\n",
              "      <td>45+2</td>\n",
              "      <td>45+2</td>\n",
              "      <td>45+2</td>\n",
              "      <td>34.0</td>\n",
              "      <td>38.0</td>\n",
              "      <td>40.0</td>\n",
              "      <td>49.0</td>\n",
              "      <td>25.0</td>\n",
              "      <td>42.0</td>\n",
              "      <td>30.0</td>\n",
              "      <td>34.0</td>\n",
              "      <td>45.0</td>\n",
              "      <td>43.0</td>\n",
              "      <td>54.0</td>\n",
              "      <td>57.0</td>\n",
              "      <td>60.0</td>\n",
              "      <td>49.0</td>\n",
              "      <td>76.0</td>\n",
              "      <td>43.0</td>\n",
              "      <td>55.0</td>\n",
              "      <td>40.0</td>\n",
              "      <td>47.0</td>\n",
              "      <td>38.0</td>\n",
              "      <td>46.0</td>\n",
              "      <td>46.0</td>\n",
              "      <td>39.0</td>\n",
              "      <td>52.0</td>\n",
              "      <td>43.0</td>\n",
              "      <td>45.0</td>\n",
              "      <td>40.0</td>\n",
              "      <td>48.0</td>\n",
              "      <td>47.0</td>\n",
              "      <td>10.0</td>\n",
              "      <td>13.0</td>\n",
              "      <td>7.0</td>\n",
              "      <td>8.0</td>\n",
              "      <td>9.0</td>\n",
              "      <td>€143K</td>\n",
              "    </tr>\n",
              "    <tr>\n",
              "      <th>18203</th>\n",
              "      <td>18203</td>\n",
              "      <td>243165</td>\n",
              "      <td>N. Christoffersson</td>\n",
              "      <td>19</td>\n",
              "      <td>https://cdn.sofifa.org/players/4/19/243165.png</td>\n",
              "      <td>Sweden</td>\n",
              "      <td>https://cdn.sofifa.org/flags/46.png</td>\n",
              "      <td>47</td>\n",
              "      <td>63</td>\n",
              "      <td>Trelleborgs FF</td>\n",
              "      <td>https://cdn.sofifa.org/teams/2/light/703.png</td>\n",
              "      <td>€60K</td>\n",
              "      <td>€1K</td>\n",
              "      <td>1098</td>\n",
              "      <td>Right</td>\n",
              "      <td>1.0</td>\n",
              "      <td>2.0</td>\n",
              "      <td>2.0</td>\n",
              "      <td>Medium/ Medium</td>\n",
              "      <td>Normal</td>\n",
              "      <td>No</td>\n",
              "      <td>ST</td>\n",
              "      <td>21.0</td>\n",
              "      <td>Mar 19, 2018</td>\n",
              "      <td>NaN</td>\n",
              "      <td>2020</td>\n",
              "      <td>6'3</td>\n",
              "      <td>170lbs</td>\n",
              "      <td>45+2</td>\n",
              "      <td>45+2</td>\n",
              "      <td>45+2</td>\n",
              "      <td>39+2</td>\n",
              "      <td>42+2</td>\n",
              "      <td>42+2</td>\n",
              "      <td>42+2</td>\n",
              "      <td>39+2</td>\n",
              "      <td>40+2</td>\n",
              "      <td>40+2</td>\n",
              "      <td>40+2</td>\n",
              "      <td>38+2</td>\n",
              "      <td>...</td>\n",
              "      <td>29+2</td>\n",
              "      <td>32+2</td>\n",
              "      <td>32+2</td>\n",
              "      <td>32+2</td>\n",
              "      <td>29+2</td>\n",
              "      <td>23.0</td>\n",
              "      <td>52.0</td>\n",
              "      <td>52.0</td>\n",
              "      <td>43.0</td>\n",
              "      <td>36.0</td>\n",
              "      <td>39.0</td>\n",
              "      <td>32.0</td>\n",
              "      <td>20.0</td>\n",
              "      <td>25.0</td>\n",
              "      <td>40.0</td>\n",
              "      <td>41.0</td>\n",
              "      <td>39.0</td>\n",
              "      <td>38.0</td>\n",
              "      <td>40.0</td>\n",
              "      <td>52.0</td>\n",
              "      <td>41.0</td>\n",
              "      <td>47.0</td>\n",
              "      <td>43.0</td>\n",
              "      <td>67.0</td>\n",
              "      <td>42.0</td>\n",
              "      <td>47.0</td>\n",
              "      <td>16.0</td>\n",
              "      <td>46.0</td>\n",
              "      <td>33.0</td>\n",
              "      <td>43.0</td>\n",
              "      <td>42.0</td>\n",
              "      <td>22.0</td>\n",
              "      <td>15.0</td>\n",
              "      <td>19.0</td>\n",
              "      <td>10.0</td>\n",
              "      <td>9.0</td>\n",
              "      <td>9.0</td>\n",
              "      <td>5.0</td>\n",
              "      <td>12.0</td>\n",
              "      <td>€113K</td>\n",
              "    </tr>\n",
              "    <tr>\n",
              "      <th>18204</th>\n",
              "      <td>18204</td>\n",
              "      <td>241638</td>\n",
              "      <td>B. Worman</td>\n",
              "      <td>16</td>\n",
              "      <td>https://cdn.sofifa.org/players/4/19/241638.png</td>\n",
              "      <td>England</td>\n",
              "      <td>https://cdn.sofifa.org/flags/14.png</td>\n",
              "      <td>47</td>\n",
              "      <td>67</td>\n",
              "      <td>Cambridge United</td>\n",
              "      <td>https://cdn.sofifa.org/teams/2/light/1944.png</td>\n",
              "      <td>€60K</td>\n",
              "      <td>€1K</td>\n",
              "      <td>1189</td>\n",
              "      <td>Right</td>\n",
              "      <td>1.0</td>\n",
              "      <td>3.0</td>\n",
              "      <td>2.0</td>\n",
              "      <td>Medium/ Medium</td>\n",
              "      <td>Normal</td>\n",
              "      <td>No</td>\n",
              "      <td>ST</td>\n",
              "      <td>33.0</td>\n",
              "      <td>Jul 1, 2017</td>\n",
              "      <td>NaN</td>\n",
              "      <td>2021</td>\n",
              "      <td>5'8</td>\n",
              "      <td>148lbs</td>\n",
              "      <td>45+2</td>\n",
              "      <td>45+2</td>\n",
              "      <td>45+2</td>\n",
              "      <td>45+2</td>\n",
              "      <td>46+2</td>\n",
              "      <td>46+2</td>\n",
              "      <td>46+2</td>\n",
              "      <td>45+2</td>\n",
              "      <td>44+2</td>\n",
              "      <td>44+2</td>\n",
              "      <td>44+2</td>\n",
              "      <td>44+2</td>\n",
              "      <td>...</td>\n",
              "      <td>33+2</td>\n",
              "      <td>28+2</td>\n",
              "      <td>28+2</td>\n",
              "      <td>28+2</td>\n",
              "      <td>33+2</td>\n",
              "      <td>25.0</td>\n",
              "      <td>40.0</td>\n",
              "      <td>46.0</td>\n",
              "      <td>38.0</td>\n",
              "      <td>38.0</td>\n",
              "      <td>45.0</td>\n",
              "      <td>38.0</td>\n",
              "      <td>27.0</td>\n",
              "      <td>28.0</td>\n",
              "      <td>44.0</td>\n",
              "      <td>70.0</td>\n",
              "      <td>69.0</td>\n",
              "      <td>50.0</td>\n",
              "      <td>47.0</td>\n",
              "      <td>58.0</td>\n",
              "      <td>45.0</td>\n",
              "      <td>60.0</td>\n",
              "      <td>55.0</td>\n",
              "      <td>32.0</td>\n",
              "      <td>45.0</td>\n",
              "      <td>32.0</td>\n",
              "      <td>15.0</td>\n",
              "      <td>48.0</td>\n",
              "      <td>43.0</td>\n",
              "      <td>55.0</td>\n",
              "      <td>41.0</td>\n",
              "      <td>32.0</td>\n",
              "      <td>13.0</td>\n",
              "      <td>11.0</td>\n",
              "      <td>6.0</td>\n",
              "      <td>5.0</td>\n",
              "      <td>10.0</td>\n",
              "      <td>6.0</td>\n",
              "      <td>13.0</td>\n",
              "      <td>€165K</td>\n",
              "    </tr>\n",
              "    <tr>\n",
              "      <th>18205</th>\n",
              "      <td>18205</td>\n",
              "      <td>246268</td>\n",
              "      <td>D. Walker-Rice</td>\n",
              "      <td>17</td>\n",
              "      <td>https://cdn.sofifa.org/players/4/19/246268.png</td>\n",
              "      <td>England</td>\n",
              "      <td>https://cdn.sofifa.org/flags/14.png</td>\n",
              "      <td>47</td>\n",
              "      <td>66</td>\n",
              "      <td>Tranmere Rovers</td>\n",
              "      <td>https://cdn.sofifa.org/teams/2/light/15048.png</td>\n",
              "      <td>€60K</td>\n",
              "      <td>€1K</td>\n",
              "      <td>1228</td>\n",
              "      <td>Right</td>\n",
              "      <td>1.0</td>\n",
              "      <td>3.0</td>\n",
              "      <td>2.0</td>\n",
              "      <td>Medium/ Medium</td>\n",
              "      <td>Lean</td>\n",
              "      <td>No</td>\n",
              "      <td>RW</td>\n",
              "      <td>34.0</td>\n",
              "      <td>Apr 24, 2018</td>\n",
              "      <td>NaN</td>\n",
              "      <td>2019</td>\n",
              "      <td>5'10</td>\n",
              "      <td>154lbs</td>\n",
              "      <td>47+2</td>\n",
              "      <td>47+2</td>\n",
              "      <td>47+2</td>\n",
              "      <td>47+2</td>\n",
              "      <td>46+2</td>\n",
              "      <td>46+2</td>\n",
              "      <td>46+2</td>\n",
              "      <td>47+2</td>\n",
              "      <td>45+2</td>\n",
              "      <td>45+2</td>\n",
              "      <td>45+2</td>\n",
              "      <td>46+2</td>\n",
              "      <td>...</td>\n",
              "      <td>35+2</td>\n",
              "      <td>31+2</td>\n",
              "      <td>31+2</td>\n",
              "      <td>31+2</td>\n",
              "      <td>35+2</td>\n",
              "      <td>44.0</td>\n",
              "      <td>50.0</td>\n",
              "      <td>39.0</td>\n",
              "      <td>42.0</td>\n",
              "      <td>40.0</td>\n",
              "      <td>51.0</td>\n",
              "      <td>34.0</td>\n",
              "      <td>32.0</td>\n",
              "      <td>32.0</td>\n",
              "      <td>52.0</td>\n",
              "      <td>61.0</td>\n",
              "      <td>60.0</td>\n",
              "      <td>52.0</td>\n",
              "      <td>21.0</td>\n",
              "      <td>71.0</td>\n",
              "      <td>64.0</td>\n",
              "      <td>42.0</td>\n",
              "      <td>40.0</td>\n",
              "      <td>48.0</td>\n",
              "      <td>34.0</td>\n",
              "      <td>33.0</td>\n",
              "      <td>22.0</td>\n",
              "      <td>44.0</td>\n",
              "      <td>47.0</td>\n",
              "      <td>50.0</td>\n",
              "      <td>46.0</td>\n",
              "      <td>20.0</td>\n",
              "      <td>25.0</td>\n",
              "      <td>27.0</td>\n",
              "      <td>14.0</td>\n",
              "      <td>6.0</td>\n",
              "      <td>14.0</td>\n",
              "      <td>8.0</td>\n",
              "      <td>9.0</td>\n",
              "      <td>€143K</td>\n",
              "    </tr>\n",
              "    <tr>\n",
              "      <th>18206</th>\n",
              "      <td>18206</td>\n",
              "      <td>246269</td>\n",
              "      <td>G. Nugent</td>\n",
              "      <td>16</td>\n",
              "      <td>https://cdn.sofifa.org/players/4/19/246269.png</td>\n",
              "      <td>England</td>\n",
              "      <td>https://cdn.sofifa.org/flags/14.png</td>\n",
              "      <td>46</td>\n",
              "      <td>66</td>\n",
              "      <td>Tranmere Rovers</td>\n",
              "      <td>https://cdn.sofifa.org/teams/2/light/15048.png</td>\n",
              "      <td>€60K</td>\n",
              "      <td>€1K</td>\n",
              "      <td>1321</td>\n",
              "      <td>Right</td>\n",
              "      <td>1.0</td>\n",
              "      <td>3.0</td>\n",
              "      <td>2.0</td>\n",
              "      <td>Medium/ Medium</td>\n",
              "      <td>Lean</td>\n",
              "      <td>No</td>\n",
              "      <td>CM</td>\n",
              "      <td>33.0</td>\n",
              "      <td>Oct 30, 2018</td>\n",
              "      <td>NaN</td>\n",
              "      <td>2019</td>\n",
              "      <td>5'10</td>\n",
              "      <td>176lbs</td>\n",
              "      <td>43+2</td>\n",
              "      <td>43+2</td>\n",
              "      <td>43+2</td>\n",
              "      <td>45+2</td>\n",
              "      <td>44+2</td>\n",
              "      <td>44+2</td>\n",
              "      <td>44+2</td>\n",
              "      <td>45+2</td>\n",
              "      <td>45+2</td>\n",
              "      <td>45+2</td>\n",
              "      <td>45+2</td>\n",
              "      <td>46+2</td>\n",
              "      <td>...</td>\n",
              "      <td>46+2</td>\n",
              "      <td>47+2</td>\n",
              "      <td>47+2</td>\n",
              "      <td>47+2</td>\n",
              "      <td>46+2</td>\n",
              "      <td>41.0</td>\n",
              "      <td>34.0</td>\n",
              "      <td>46.0</td>\n",
              "      <td>48.0</td>\n",
              "      <td>30.0</td>\n",
              "      <td>43.0</td>\n",
              "      <td>40.0</td>\n",
              "      <td>34.0</td>\n",
              "      <td>44.0</td>\n",
              "      <td>51.0</td>\n",
              "      <td>57.0</td>\n",
              "      <td>55.0</td>\n",
              "      <td>55.0</td>\n",
              "      <td>51.0</td>\n",
              "      <td>63.0</td>\n",
              "      <td>43.0</td>\n",
              "      <td>62.0</td>\n",
              "      <td>47.0</td>\n",
              "      <td>60.0</td>\n",
              "      <td>32.0</td>\n",
              "      <td>56.0</td>\n",
              "      <td>42.0</td>\n",
              "      <td>34.0</td>\n",
              "      <td>49.0</td>\n",
              "      <td>33.0</td>\n",
              "      <td>43.0</td>\n",
              "      <td>40.0</td>\n",
              "      <td>43.0</td>\n",
              "      <td>50.0</td>\n",
              "      <td>10.0</td>\n",
              "      <td>15.0</td>\n",
              "      <td>9.0</td>\n",
              "      <td>12.0</td>\n",
              "      <td>9.0</td>\n",
              "      <td>€165K</td>\n",
              "    </tr>\n",
              "  </tbody>\n",
              "</table>\n",
              "<p>18207 rows × 89 columns</p>\n",
              "</div>"
            ],
            "text/plain": [
              "       Unnamed: 0      ID  ... GKReflexes  Release Clause\n",
              "0               0  158023  ...        8.0         €226.5M\n",
              "1               1   20801  ...       11.0         €127.1M\n",
              "2               2  190871  ...       11.0         €228.1M\n",
              "3               3  193080  ...       94.0         €138.6M\n",
              "4               4  192985  ...       13.0         €196.4M\n",
              "...           ...     ...  ...        ...             ...\n",
              "18202       18202  238813  ...        9.0           €143K\n",
              "18203       18203  243165  ...       12.0           €113K\n",
              "18204       18204  241638  ...       13.0           €165K\n",
              "18205       18205  246268  ...        9.0           €143K\n",
              "18206       18206  246269  ...        9.0           €165K\n",
              "\n",
              "[18207 rows x 89 columns]"
            ]
          },
          "metadata": {
            "tags": []
          },
          "execution_count": 34
        }
      ]
    },
    {
      "cell_type": "code",
      "metadata": {
        "colab": {
          "base_uri": "https://localhost:8080/",
          "height": 265
        },
        "id": "fek9qCJRlRnY",
        "outputId": "498a478a-7953-4953-8baa-af0aed7fcc40"
      },
      "source": [
        "plt.hist(fifa['Overall'])\n",
        "\n",
        "\n",
        "\n",
        "plt.show()"
      ],
      "execution_count": null,
      "outputs": [
        {
          "output_type": "display_data",
          "data": {
            "image/png": "[encoded data removed]",
            "text/plain": [
              "<Figure size 432x288 with 1 Axes>"
            ]
          },
          "metadata": {
            "tags": [],
            "needs_background": "light"
          }
        }
      ]
    },
    {
      "cell_type": "markdown",
      "metadata": {
        "id": "ozGL-vQeqHgk"
      },
      "source": [
        "Pie Chart"
      ]
    },
    {
      "cell_type": "code",
      "metadata": {
        "colab": {
          "base_uri": "https://localhost:8080/",
          "height": 248
        },
        "id": "TqXOVE82ptzO",
        "outputId": "7193a0e7-4c8d-43d1-8ce8-fa68e16cd865"
      },
      "source": [
        "right=fifa[\"Preferred Foot\"][fifa[\"Preferred Foot\"]==\"Right\"].count()\n",
        "left=fifa[\"Preferred Foot\"][fifa[\"Preferred Foot\"]==\"Left\"].count()\n",
        "\n",
        "plt.pie([left,right],labels=[\"Left\",\"Right\"],autopct='%.2f %%',colors=['#F2CC90','#90F2D0'])\n",
        "\n",
        "plt.legend(loc='upper right',bbox_to_anchor=(1.15, 1.0))\n",
        "plt.show()"
      ],
      "execution_count": null,
      "outputs": [
        {
          "output_type": "display_data",
          "data": {
            "image/png": "[encoded data removed]",
            "text/plain": [
              "<Figure size 432x288 with 1 Axes>"
            ]
          },
          "metadata": {
            "tags": []
          }
        }
      ]
    },
    {
      "cell_type": "markdown",
      "metadata": {
        "id": "TbboDAw6qQnu"
      },
      "source": [
        "Need to learn the \"IF\" condition and \"FOR\" loop"
      ]
    },
    {
      "cell_type": "code",
      "metadata": {
        "colab": {
          "base_uri": "https://localhost:8080/"
        },
        "id": "cqjcSW4lsIfe",
        "outputId": "e8734619-4aca-499d-a48a-2551a0da6bc1"
      },
      "source": [
        "fifa['Weight']=[int(x.strip('lbs')) if type(x)==str else x for x in fifa.Weight]  \n",
        "\n",
        "fifa['Weight']"
      ],
      "execution_count": null,
      "outputs": [
        {
          "output_type": "execute_result",
          "data": {
            "text/plain": [
              "0        159.0\n",
              "1        183.0\n",
              "2        150.0\n",
              "3        168.0\n",
              "4        154.0\n",
              "         ...  \n",
              "18202    134.0\n",
              "18203    170.0\n",
              "18204    148.0\n",
              "18205    154.0\n",
              "18206    176.0\n",
              "Name: Weight, Length: 18207, dtype: float64"
            ]
          },
          "metadata": {
            "tags": []
          },
          "execution_count": 37
        }
      ]
    },
    {
      "cell_type": "markdown",
      "metadata": {
        "id": "eAXSBcHcqbWc"
      },
      "source": [
        "Data Cleaning - https://github.com/ine-rmotr-curriculum/data-cleaning-rmotr-freecodecamp"
      ]
    },
    {
      "cell_type": "code",
      "metadata": {
        "colab": {
          "base_uri": "https://localhost:8080/"
        },
        "id": "91lLZpw2qc5P",
        "outputId": "8f65c1f8-be17-44b6-c9e2-6fad098beccc"
      },
      "source": [
        "import pandas as pd\n",
        "\n",
        "s=pd.Series([1,2,3,4,np.nan,6,7,np.nan])\n",
        "\n",
        "print(s)\n",
        "print(\" \")\n",
        "print(\"Prints the boolean for null value :\")\n",
        "print(pd.isnull(s))   # gives you the boolean as output if the series has the \"NULL\" values\n",
        "print(\" \")\n",
        "print(\"Prints the boolean for null/na value :\")\n",
        "print(pd.isna(s))  # similar to isnull, both give similar output\n",
        "print(\" \")\n",
        "print(\"Prints the boolean for Non - null value :\")\n",
        "print(pd.notnull(s))  # gives you the boolean as output if the series has the \"NO NULL\" values\n",
        "print(\" \")\n",
        "print(\"Prints the boolean for Non - na value :\")\n",
        "print(pd.notna(s))  # similar to notnull, both give similar output\n",
        "print(\" \")\n",
        "print(\"Prints the series by dropping Non - na value :\")\n",
        "print([s.dropna()])     #  we cas use NA  / NULL / DROPNA with out using pd\n",
        "print(\" \")\n",
        "print(pd.notnull(s).sum()) # it returns 1 for true and sums of the output"
      ],
      "execution_count": null,
      "outputs": [
        {
          "output_type": "stream",
          "text": [
            "0    1.0\n",
            "1    2.0\n",
            "2    3.0\n",
            "3    4.0\n",
            "4    NaN\n",
            "5    6.0\n",
            "6    7.0\n",
            "7    NaN\n",
            "dtype: float64\n",
            " \n",
            "Prints the boolean for null value :\n",
            "0    False\n",
            "1    False\n",
            "2    False\n",
            "3    False\n",
            "4     True\n",
            "5    False\n",
            "6    False\n",
            "7     True\n",
            "dtype: bool\n",
            " \n",
            "Prints the boolean for null/na value :\n",
            "0    False\n",
            "1    False\n",
            "2    False\n",
            "3    False\n",
            "4     True\n",
            "5    False\n",
            "6    False\n",
            "7     True\n",
            "dtype: bool\n",
            " \n",
            "Prints the boolean for Non - null value :\n",
            "0     True\n",
            "1     True\n",
            "2     True\n",
            "3     True\n",
            "4    False\n",
            "5     True\n",
            "6     True\n",
            "7    False\n",
            "dtype: bool\n",
            " \n",
            "Prints the boolean for Non - na value :\n",
            "0     True\n",
            "1     True\n",
            "2     True\n",
            "3     True\n",
            "4    False\n",
            "5     True\n",
            "6     True\n",
            "7    False\n",
            "dtype: bool\n",
            " \n",
            "Prints the series by dropping Non - na value :\n",
            "[0    1.0\n",
            "1    2.0\n",
            "2    3.0\n",
            "3    4.0\n",
            "5    6.0\n",
            "6    7.0\n",
            "dtype: float64]\n",
            " \n",
            "6\n"
          ],
          "name": "stdout"
        }
      ]
    },
    {
      "cell_type": "code",
      "metadata": {
        "colab": {
          "base_uri": "https://localhost:8080/"
        },
        "id": "jPnUgGLy1dFh",
        "outputId": "69a476e6-4b8c-478e-932f-2f7cb0d0fb82"
      },
      "source": [
        "print(\"Print the sum of values that is not null: \",s[pd.notnull(s)].sum())"
      ],
      "execution_count": null,
      "outputs": [
        {
          "output_type": "stream",
          "text": [
            "Print the sum of values that is not null:  23.0\n"
          ],
          "name": "stdout"
        }
      ]
    },
    {
      "cell_type": "code",
      "metadata": {
        "colab": {
          "base_uri": "https://localhost:8080/"
        },
        "id": "xYJvXdkg8ltT",
        "outputId": "0b99710c-6066-4721-e5ea-a449c57b76f8"
      },
      "source": [
        "df7=pd.DataFrame({\n",
        "    'Column A': [1, np.nan, 7],\n",
        "    'Column B': [np.nan, 2, 3],\n",
        "    'Column C': [np.nan, 2, np.nan]\n",
        "})\n",
        "df7.fillna(0) # filling of the NA/NULL values\n",
        "print(df7)\n",
        "print(\"  \")\n",
        "print(df7.fillna(method='bfill'))\n",
        "print(\"  \")\n",
        "print(df7.fillna(method='ffill'))\n",
        "print(\"  \")\n",
        "print(df7.fillna(df7.mean()))\n"
      ],
      "execution_count": null,
      "outputs": [
        {
          "output_type": "stream",
          "text": [
            "   Column A  Column B  Column C\n",
            "0       1.0       NaN       NaN\n",
            "1       NaN       2.0       2.0\n",
            "2       7.0       3.0       NaN\n",
            "  \n",
            "   Column A  Column B  Column C\n",
            "0       1.0       2.0       2.0\n",
            "1       7.0       2.0       2.0\n",
            "2       7.0       3.0       NaN\n",
            "  \n",
            "   Column A  Column B  Column C\n",
            "0       1.0       NaN       NaN\n",
            "1       1.0       2.0       2.0\n",
            "2       7.0       3.0       2.0\n",
            "  \n",
            "   Column A  Column B  Column C\n",
            "0       1.0       2.5       2.0\n",
            "1       4.0       2.0       2.0\n",
            "2       7.0       3.0       2.0\n"
          ],
          "name": "stdout"
        }
      ]
    },
    {
      "cell_type": "code",
      "metadata": {
        "colab": {
          "base_uri": "https://localhost:8080/"
        },
        "id": "GW1ch498-rcf",
        "outputId": "b48e7eeb-c3f6-49f6-a553-c5bdfbf9dd23"
      },
      "source": [
        "print(df7)\n",
        "print(\" \")\n",
        "print(df7.fillna(method=\"bfill\").dropna(axis=0)) # droppin of na values"
      ],
      "execution_count": null,
      "outputs": [
        {
          "output_type": "stream",
          "text": [
            "   Column A  Column B  Column C\n",
            "0       1.0       NaN       NaN\n",
            "1       NaN       2.0       2.0\n",
            "2       7.0       3.0       NaN\n",
            " \n",
            "   Column A  Column B  Column C\n",
            "0       1.0       2.0       2.0\n",
            "1       7.0       2.0       2.0\n"
          ],
          "name": "stdout"
        }
      ]
    },
    {
      "cell_type": "code",
      "metadata": {
        "colab": {
          "base_uri": "https://localhost:8080/"
        },
        "id": "2Xb1FadMFU75",
        "outputId": "9831ca71-2f7b-4134-c1ea-a1228696ea0c"
      },
      "source": [
        "import pandas as pd\n",
        "\n",
        "df8=pd.DataFrame({\n",
        "    'Sex': ['M', 'F', 'F', 'D', '?'],\n",
        "    'Age': [29, 30, 24, 290, 25],\n",
        "})\n",
        "\n",
        "print(df8)\n",
        "print(\" \")\n",
        "print(df8.count()) #gives the count in each column\n",
        "print(\" \")\n",
        "print(df8['Sex'].unique()) # gives unique with in the columns\n",
        "print(\" \")\n",
        "print(df8['Sex'].value_counts()) #gives the count of unique data\n",
        "print(\" \")\n",
        "print(df8['Sex'].replace({\n",
        "                           'D':'F',\n",
        "                            '?':'D'}))  # replace the data in the frame"
      ],
      "execution_count": null,
      "outputs": [
        {
          "output_type": "stream",
          "text": [
            "  Sex  Age\n",
            "0   M   29\n",
            "1   F   30\n",
            "2   F   24\n",
            "3   D  290\n",
            "4   ?   25\n",
            " \n",
            "Sex    5\n",
            "Age    5\n",
            "dtype: int64\n",
            " \n",
            "['M' 'F' 'D' '?']\n",
            " \n",
            "F    2\n",
            "?    1\n",
            "M    1\n",
            "D    1\n",
            "Name: Sex, dtype: int64\n",
            " \n",
            "0    M\n",
            "1    F\n",
            "2    F\n",
            "3    F\n",
            "4    D\n",
            "Name: Sex, dtype: object\n"
          ],
          "name": "stdout"
        }
      ]
    },
    {
      "cell_type": "markdown",
      "metadata": {
        "id": "5q5sBb-3Ntk4"
      },
      "source": [
        "Duplicates"
      ]
    },
    {
      "cell_type": "code",
      "metadata": {
        "colab": {
          "base_uri": "https://localhost:8080/"
        },
        "id": "DyMQxKljNu64",
        "outputId": "4047436d-d8ba-4083-a339-56db87a3090f"
      },
      "source": [
        "ambassadors = pd.DataFrame([\n",
        "    'France',\n",
        "    'United Kingdom',\n",
        "    'United Kingdom',\n",
        "    'Italy',\n",
        "    'Germany',\n",
        "    'Germany',\n",
        "    'Germany',\n",
        "], index=[\n",
        "    'Gérard Araud',\n",
        "    'Kim Darroch',\n",
        "    'Peter Westmacott',\n",
        "    'Armando Varricchio',\n",
        "    'Peter Wittig',\n",
        "    'Peter Ammon',\n",
        "    'Klaus Scharioth '\n",
        "],columns=['Ambassador Name'])\n",
        "\n",
        "print(ambassadors)"
      ],
      "execution_count": null,
      "outputs": [
        {
          "output_type": "stream",
          "text": [
            "                   Ambassador Name\n",
            "Gérard Araud                France\n",
            "Kim Darroch         United Kingdom\n",
            "Peter Westmacott    United Kingdom\n",
            "Armando Varricchio           Italy\n",
            "Peter Wittig               Germany\n",
            "Peter Ammon                Germany\n",
            "Klaus Scharioth            Germany\n"
          ],
          "name": "stdout"
        }
      ]
    },
    {
      "cell_type": "code",
      "metadata": {
        "colab": {
          "base_uri": "https://localhost:8080/"
        },
        "id": "Rlichz7ZOPOX",
        "outputId": "e358bb63-ba70-4e72-d7e4-786b71eaf52f"
      },
      "source": [
        "print(ambassadors.duplicated()) # it checks the dupicate in the columns starting from top to bottom\n",
        "print(\" \")\n",
        "print(ambassadors.duplicated(keep='last')) # it checks the dupicate in the columns starting from bottom to top\n",
        "print(\" \")\n",
        "print(ambassadors.duplicated(keep=False)) # it marks all the dupicate as true"
      ],
      "execution_count": null,
      "outputs": [
        {
          "output_type": "stream",
          "text": [
            "Gérard Araud          False\n",
            "Kim Darroch           False\n",
            "Peter Westmacott       True\n",
            "Armando Varricchio    False\n",
            "Peter Wittig          False\n",
            "Peter Ammon            True\n",
            "Klaus Scharioth        True\n",
            "dtype: bool\n",
            " \n",
            "Gérard Araud          False\n",
            "Kim Darroch            True\n",
            "Peter Westmacott      False\n",
            "Armando Varricchio    False\n",
            "Peter Wittig           True\n",
            "Peter Ammon            True\n",
            "Klaus Scharioth       False\n",
            "dtype: bool\n",
            " \n",
            "Gérard Araud          False\n",
            "Kim Darroch            True\n",
            "Peter Westmacott       True\n",
            "Armando Varricchio    False\n",
            "Peter Wittig           True\n",
            "Peter Ammon            True\n",
            "Klaus Scharioth        True\n",
            "dtype: bool\n"
          ],
          "name": "stdout"
        }
      ]
    },
    {
      "cell_type": "code",
      "metadata": {
        "colab": {
          "base_uri": "https://localhost:8080/"
        },
        "id": "3-_7v5PkPTm9",
        "outputId": "967481dd-b42d-41a3-e1b6-0caf57191575"
      },
      "source": [
        "print(ambassadors) \n",
        "print(\" \")\n",
        "print(ambassadors.drop_duplicates()) # it checks the dupicate in the columns starting from top to bottom\n",
        "print(\" \")\n",
        "print(ambassadors.drop_duplicates(keep='last')) # it checks the dupicate in the columns starting from bottom to top\n",
        "print(\" \")\n",
        "print(ambassadors.drop_duplicates(keep=False)) # it marks all the dupicate as true"
      ],
      "execution_count": null,
      "outputs": [
        {
          "output_type": "stream",
          "text": [
            "                   Ambassador Name\n",
            "Gérard Araud                France\n",
            "Kim Darroch         United Kingdom\n",
            "Peter Westmacott    United Kingdom\n",
            "Armando Varricchio           Italy\n",
            "Peter Wittig               Germany\n",
            "Peter Ammon                Germany\n",
            "Klaus Scharioth            Germany\n",
            " \n",
            "                   Ambassador Name\n",
            "Gérard Araud                France\n",
            "Kim Darroch         United Kingdom\n",
            "Armando Varricchio           Italy\n",
            "Peter Wittig               Germany\n",
            " \n",
            "                   Ambassador Name\n",
            "Gérard Araud                France\n",
            "Peter Westmacott    United Kingdom\n",
            "Armando Varricchio           Italy\n",
            "Klaus Scharioth            Germany\n",
            " \n",
            "                   Ambassador Name\n",
            "Gérard Araud                France\n",
            "Armando Varricchio           Italy\n"
          ],
          "name": "stdout"
        }
      ]
    },
    {
      "cell_type": "markdown",
      "metadata": {
        "id": "TEE1LgT9QEpZ"
      },
      "source": [
        "Splitting "
      ]
    },
    {
      "cell_type": "code",
      "metadata": {
        "colab": {
          "base_uri": "https://localhost:8080/"
        },
        "id": "Xj7sBVHMQFpZ",
        "outputId": "db9ddd21-e0f7-498a-991b-8c9c693b5bf2"
      },
      "source": [
        "df9 = pd.DataFrame({\n",
        "    'Data': [\n",
        "        '1987_M_US _1',\n",
        "        '1990?_M_UK_1',\n",
        "        '1992_F_US_2',\n",
        "        '1970?_M_   IT_1',\n",
        "        '1985_F_I  T_2'\n",
        "]})\n",
        "\n",
        "print(df9)\n",
        "print(\" \")\n",
        "print(\" \")\n",
        "print(df9['Data'].str.split('_'))\n",
        "print(\" \")\n",
        "print(\" \")\n",
        "df9=df9['Data'].str.split('_',expand=True)"
      ],
      "execution_count": null,
      "outputs": [
        {
          "output_type": "stream",
          "text": [
            "              Data\n",
            "0     1987_M_US _1\n",
            "1     1990?_M_UK_1\n",
            "2      1992_F_US_2\n",
            "3  1970?_M_   IT_1\n",
            "4    1985_F_I  T_2\n",
            " \n",
            " \n",
            "0       [1987, M, US , 1]\n",
            "1       [1990?, M, UK, 1]\n",
            "2        [1992, F, US, 2]\n",
            "3    [1970?, M,    IT, 1]\n",
            "4      [1985, F, I  T, 2]\n",
            "Name: Data, dtype: object\n",
            " \n",
            " \n"
          ],
          "name": "stdout"
        }
      ]
    },
    {
      "cell_type": "code",
      "metadata": {
        "colab": {
          "base_uri": "https://localhost:8080/"
        },
        "id": "0SXSvCpnTSlA",
        "outputId": "350d3c57-51fb-41cf-bdd6-f0f851d6ba40"
      },
      "source": [
        "df9.columns= ['Year', 'Sex', 'Country', 'No Children']\n",
        "print(df9)\n",
        "print(\" \")\n",
        "print(df9['Year'].str.contains(\"\\?\")) # gives the data which contains ?\n",
        "print(\" \")\n",
        "print(df9['Country'].str.strip()) # which clears space before & after the word   also lstrip and rstrip"
      ],
      "execution_count": null,
      "outputs": [
        {
          "output_type": "stream",
          "text": [
            "    Year Sex Country No Children\n",
            "0   1987   M     US            1\n",
            "1  1990?   M      UK           1\n",
            "2   1992   F      US           2\n",
            "3  1970?   M      IT           1\n",
            "4   1985   F    I  T           2\n",
            " \n",
            "0    False\n",
            "1     True\n",
            "2    False\n",
            "3     True\n",
            "4    False\n",
            "Name: Year, dtype: bool\n",
            " \n",
            "0      US\n",
            "1      UK\n",
            "2      US\n",
            "3      IT\n",
            "4    I  T\n",
            "Name: Country, dtype: object\n"
          ],
          "name": "stdout"
        }
      ]
    },
    {
      "cell_type": "markdown",
      "metadata": {
        "id": "HeqqWOv9zB07"
      },
      "source": [
        "More Visualization"
      ]
    },
    {
      "cell_type": "code",
      "metadata": {
        "colab": {
          "base_uri": "https://localhost:8080/",
          "height": 404
        },
        "id": "ILH-_fVyeJQz",
        "outputId": "3b3c0c9e-b0dd-4d58-959e-3e3f00776928"
      },
      "source": [
        "%matplotlib inline\n",
        "x=np.arange(-10,11)\n",
        "plt.figure(figsize=(15,6))\n",
        "plt.title(\"More Visualization 1\")\n",
        "plt.xlabel(\"X Axis\")\n",
        "plt.ylabel(\"Y Axis\")\n",
        "\n",
        "plt.plot(x[:11],x[:11]**2,'o-g',label='Positive X**2')\n",
        "plt.plot(x[10:],x[10:]**2,'o-y',label='Positive X**2')\n",
        "plt.plot(x,-1*(x**2),'.--r',label='Negetive X**2')\n",
        "plt.legend(loc='upper center',bbox_to_anchor=(1.1,1))\n",
        "plt.show()"
      ],
      "execution_count": null,
      "outputs": [
        {
          "output_type": "display_data",
          "data": {
            "image/png": "[encoded data removed]",
            "text/plain": [
              "<Figure size 1080x432 with 1 Axes>"
            ]
          },
          "metadata": {
            "tags": [],
            "needs_background": "light"
          }
        }
      ]
    },
    {
      "cell_type": "markdown",
      "metadata": {
        "id": "0O8VguT0AdpZ"
      },
      "source": [
        "Subplot in global method"
      ]
    },
    {
      "cell_type": "code",
      "metadata": {
        "colab": {
          "base_uri": "https://localhost:8080/",
          "height": 388
        },
        "id": "tiXJBrUv_70x",
        "outputId": "d0385fd1-ae86-4c32-d93a-e3f1b36982a7"
      },
      "source": [
        "plt.figure(figsize=(12,6))\n",
        "plt.title('More Visualization 2')\n",
        "\n",
        "plt.subplot(1,2,1)\n",
        "plt.plot(x,x**2,label='X**2')\n",
        "plt.plot([0,0,0],[-10,0,100],label='Vertical Line')\n",
        "plt.legend(loc='lower left')\n",
        "plt.xlabel('X')\n",
        "plt.ylabel('X Squared')\n",
        "\n",
        "plt.subplot(1,2,2)\n",
        "plt.plot(x,-1*(x**2),label='x**2')\n",
        "plt.plot([-10,0,10],[-50,-50,-50],label='Horizontal Line')\n",
        "plt.xlabel('X')\n",
        "plt.ylabel('X Squared')\n",
        "\n",
        "plt.legend(loc='lower center')\n",
        "plt.show()"
      ],
      "execution_count": null,
      "outputs": [
        {
          "output_type": "display_data",
          "data": {
            "image/png": "[encoded data removed]",
            "text/plain": [
              "<Figure size 864x432 with 2 Axes>"
            ]
          },
          "metadata": {
            "tags": [],
            "needs_background": "light"
          }
        }
      ]
    },
    {
      "cell_type": "markdown",
      "metadata": {
        "id": "0K9OZdo4FHvb"
      },
      "source": [
        "Subplot OOP Interface (Using axes and figures)\n",
        "\n",
        "https://www.youtube.com/watch?v=PfKsC4UPxvk&ab_channel=IngenieurCris\n",
        "\n",
        "\n",
        "https://www.youtube.com/watch?v=XFZRVnP-MTU&ab_channel=CoreySchafer\n",
        "\n",
        "https://matplotlib.org/stable/api/_as_gen/matplotlib.pyplot.subplots.html"
      ]
    },
    {
      "cell_type": "code",
      "metadata": {
        "colab": {
          "base_uri": "https://localhost:8080/",
          "height": 756
        },
        "id": "hAmgzxDIFxoJ",
        "outputId": "c3d9c7cf-b294-4699-d284-aeff4bf5890f"
      },
      "source": [
        "import matplotlib.pyplot as plt\n",
        "import numpy as np\n",
        "from matplotlib.pyplot import subplot,subplots,figure\n",
        "x = np.linspace(0, 2*np.pi, 400)\n",
        "y = np.sin(x**2)\n",
        "figure,axes=subplots(2,3,figsize=(12, 6))\n",
        "\n",
        "#method1\n",
        "axes[0,1].plot(x,y,'o--g')\n",
        "axes[0,0].plot(x,y,'*-r')\n",
        "\n",
        "\n",
        "\n",
        "#method 2\n",
        "print(\" \")\n",
        "fig,(ax1,ax2) = plt.subplots(2,3,figsize=(12,6))      #learn this later & also scatter graph\n",
        "#ax1.plot(x,y)\n",
        "\n",
        "plt.show()"
      ],
      "execution_count": null,
      "outputs": [
        {
          "output_type": "stream",
          "text": [
            " \n"
          ],
          "name": "stdout"
        },
        {
          "output_type": "display_data",
          "data": {
            "image/png": "[encoded data removed]",
            "text/plain": [
              "<Figure size 864x432 with 6 Axes>"
            ]
          },
          "metadata": {
            "tags": [],
            "needs_background": "light"
          }
        },
        {
          "output_type": "display_data",
          "data": {
            "image/png": "[encoded data removed]",
            "text/plain": [
              "<Figure size 864x432 with 6 Axes>"
            ]
          },
          "metadata": {
            "tags": [],
            "needs_background": "light"
          }
        }
      ]
    },
    {
      "cell_type": "markdown",
      "metadata": {
        "id": "i-OJCQrNnQJu"
      },
      "source": [
        "Reading CSV and TXT files\n",
        "\n",
        "https://github.com/ine-rmotr-curriculum/RDP-Reading-Data-with-Python-and-Pandas/blob/master/unit-1-reading-data-with-python-and-pandas/lesson-1-reading-csv-and-txt-files/files/Lecture.ipynb"
      ]
    },
    {
      "cell_type": "code",
      "metadata": {
        "id": "LTFzh69ilQ28"
      },
      "source": [
        "import pandas as pd\n",
        "\n",
        "# pd.read_csv?  # this is to check the 'Help' Feature of the any function\n",
        "\n",
        "\n"
      ],
      "execution_count": null,
      "outputs": []
    },
    {
      "cell_type": "markdown",
      "metadata": {
        "id": "hBxEuXSL9-18"
      },
      "source": [
        "Reading from Relational Data bases\n",
        "\n",
        "https://github.com/ine-rmotr-curriculum/RDP-Reading-Data-with-Python-and-Pandas/blob/master/unit-1-reading-data-with-python-and-pandas/lesson-11-reading-data-from-relational-databases/files/Lecture.ipynb"
      ]
    },
    {
      "cell_type": "code",
      "metadata": {
        "colab": {
          "base_uri": "https://localhost:8080/",
          "height": 129
        },
        "id": "EYQ3pmBc-C3y",
        "outputId": "dc667ad4-02c5-4095-bbf7-2a8729b70fac"
      },
      "source": [
        "#!pip install sqlalchemy\n",
        "\n",
        "#!pip install --trusted-host pypi.org ipython-sql\n",
        "import sqlite3 as sql\n",
        "# database = 'chinook.db'\n",
        "# connection = sql.connect(database)\n",
        "# query='''SELECT * FROM employees LIMIT 5;'''\n",
        "\n",
        "# df=pd.read_sql_query(query,conn)\n",
        "\n",
        "# df\n",
        "%load_ext sql\n",
        "\n",
        "%sql sqlite://\n",
        "\n",
        "%sql\n",
        "select * FROM employees limit 5;"
      ],
      "execution_count": null,
      "outputs": [
        {
          "output_type": "error",
          "ename": "SyntaxError",
          "evalue": "ignored",
          "traceback": [
            "\u001b[0;36m  File \u001b[0;32m\"<ipython-input-28-f7b571eba4fc>\"\u001b[0;36m, line \u001b[0;32m17\u001b[0m\n\u001b[0;31m    select * FROM employees limit 5;\u001b[0m\n\u001b[0m                          ^\u001b[0m\n\u001b[0;31mSyntaxError\u001b[0m\u001b[0;31m:\u001b[0m invalid syntax\n"
          ]
        }
      ]
    },
    {
      "cell_type": "markdown",
      "metadata": {
        "id": "BmyLR61BlScO"
      },
      "source": [
        "Functions , collections , iterations"
      ]
    },
    {
      "cell_type": "code",
      "metadata": {
        "colab": {
          "base_uri": "https://localhost:8080/"
        },
        "id": "iO8IB3RYlWf2",
        "outputId": "f50964cd-5c16-456e-a1d4-36d1d46051c3"
      },
      "source": [
        "\n",
        "user=({\n",
        "    'name':'Ramcharan',\n",
        "    'email':'pramcharannaidu@gmail.com',\n",
        "    'phone': 9090098890,\n",
        "    'tech':'Python'\n",
        "})\n",
        "\n",
        "user\n",
        "\n",
        "for key,data in user.items():         # to extract the all the items in the dictionary and iterating it using the for loop\n",
        "  print(key,\":\",data)\n",
        "\n",
        "print(\" \")\n",
        "\n",
        "for data in user.values():           # to extract the individual values with in the dictionary\n",
        "  print(data)"
      ],
      "execution_count": null,
      "outputs": [
        {
          "output_type": "stream",
          "text": [
            "name : Ramcharan\n",
            "email : pramcharannaidu@gmail.com\n",
            "phone : 9090098890\n",
            "tech : Python\n",
            " \n",
            "Ramcharan\n",
            "pramcharannaidu@gmail.com\n",
            "9090098890\n",
            "Python\n"
          ],
          "name": "stdout"
        }
      ]
    },
    {
      "cell_type": "markdown",
      "metadata": {
        "id": "hPKnsQRLsPau"
      },
      "source": [
        "Exceptions"
      ]
    },
    {
      "cell_type": "code",
      "metadata": {
        "colab": {
          "base_uri": "https://localhost:8080/"
        },
        "id": "I4HYq5ONsGH_",
        "outputId": "8ff6a0dd-26f2-4360-8a4a-40d9b24cac6a"
      },
      "source": [
        "ages=int(input('Enter your age : '))\n",
        "\n",
        "try:\n",
        "   if ages > 20 and ages <30:\n",
        "     print(ages,\"is the right age\")\n",
        "   elif ages>30:\n",
        "     print(\"Did Not met the criteria\")\n",
        "   elif ages<20:\n",
        "     print(\"Under aged\")\n",
        "except TypeError:\n",
        "  print(\"Something is wrong\")"
      ],
      "execution_count": null,
      "outputs": [
        {
          "output_type": "stream",
          "text": [
            "Enter your age : 1\n",
            "Under aged\n"
          ],
          "name": "stdout"
        }
      ]
    },
    {
      "cell_type": "markdown",
      "metadata": {
        "id": "vx4ulDSlZiKe"
      },
      "source": [
        "#seaborn"
      ]
    },
    {
      "cell_type": "code",
      "metadata": {
        "colab": {
          "resources": {
            "http://localhost:8080/nbextensions/google.colab/files.js": {
              "data": "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",
              "ok": true,
              "headers": [
                [
                  "content-type",
                  "application/javascript"
                ]
              ],
              "status": 200,
              "status_text": ""
            }
          },
          "base_uri": "https://localhost:8080/",
          "height": 72
        },
        "id": "ueTnM8ggZkmF",
        "outputId": "522f694e-5b87-4c56-b808-9bc088f813cf"
      },
      "source": [
        "import pandas as pd\n",
        "import seaborn as sns\n",
        "import matplotlib.pyplot as plt\n",
        "\n",
        "from google.colab import files\n",
        "uploaded4=files.upload()"
      ],
      "execution_count": null,
      "outputs": [
        {
          "output_type": "display_data",
          "data": {
            "text/html": [
              "\n",
              "     <input type=\"file\" id=\"files-305256a5-f48c-47d7-8a65-bc512cf969e2\" name=\"files[]\" multiple disabled\n",
              "        style=\"border:none\" />\n",
              "     <output id=\"result-305256a5-f48c-47d7-8a65-bc512cf969e2\">\n",
              "      Upload widget is only available when the cell has been executed in the\n",
              "      current browser session. Please rerun this cell to enable.\n",
              "      </output>\n",
              "      <script src=\"/nbextensions/google.colab/files.js\"></script> "
            ],
            "text/plain": [
              "<IPython.core.display.HTML object>"
            ]
          },
          "metadata": {
            "tags": []
          }
        },
        {
          "output_type": "stream",
          "text": [
            "Saving Computersales.txt to Computersales.txt\n"
          ],
          "name": "stdout"
        }
      ]
    },
    {
      "cell_type": "code",
      "metadata": {
        "colab": {
          "base_uri": "https://localhost:8080/",
          "height": 419
        },
        "id": "B3L5rmw0ajCD",
        "outputId": "dc560a73-e0e0-4eb9-cb7a-e5ece0ce9679"
      },
      "source": [
        "import io\n",
        "computer_sales=pd.read_csv(io.BytesIO(uploaded4['Computersales.txt']))\n",
        "computer_sales"
      ],
      "execution_count": null,
      "outputs": [
        {
          "output_type": "execute_result",
          "data": {
            "text/html": [
              "<div>\n",
              "<style scoped>\n",
              "    .dataframe tbody tr th:only-of-type {\n",
              "        vertical-align: middle;\n",
              "    }\n",
              "\n",
              "    .dataframe tbody tr th {\n",
              "        vertical-align: top;\n",
              "    }\n",
              "\n",
              "    .dataframe thead th {\n",
              "        text-align: right;\n",
              "    }\n",
              "</style>\n",
              "<table border=\"1\" class=\"dataframe\">\n",
              "  <thead>\n",
              "    <tr style=\"text-align: right;\">\n",
              "      <th></th>\n",
              "      <th>Sale ID</th>\n",
              "      <th>Contact</th>\n",
              "      <th>Sex</th>\n",
              "      <th>Age</th>\n",
              "      <th>State</th>\n",
              "      <th>Product ID</th>\n",
              "      <th>Product Type</th>\n",
              "      <th>Sale Price</th>\n",
              "      <th>Profit</th>\n",
              "      <th>Lead</th>\n",
              "      <th>Month</th>\n",
              "      <th>Year</th>\n",
              "    </tr>\n",
              "  </thead>\n",
              "  <tbody>\n",
              "    <tr>\n",
              "      <th>0</th>\n",
              "      <td>1</td>\n",
              "      <td>Paul Thomas</td>\n",
              "      <td>M</td>\n",
              "      <td>43</td>\n",
              "      <td>OH</td>\n",
              "      <td>M01-F0024</td>\n",
              "      <td>Desktop</td>\n",
              "      <td>479.99</td>\n",
              "      <td>143.39</td>\n",
              "      <td>Website</td>\n",
              "      <td>January</td>\n",
              "      <td>2018</td>\n",
              "    </tr>\n",
              "    <tr>\n",
              "      <th>1</th>\n",
              "      <td>2</td>\n",
              "      <td>Margo Simms</td>\n",
              "      <td>F</td>\n",
              "      <td>37</td>\n",
              "      <td>WV</td>\n",
              "      <td>GT13-0024</td>\n",
              "      <td>Desktop</td>\n",
              "      <td>1249.99</td>\n",
              "      <td>230.89</td>\n",
              "      <td>Flyer 4</td>\n",
              "      <td>January</td>\n",
              "      <td>2018</td>\n",
              "    </tr>\n",
              "    <tr>\n",
              "      <th>2</th>\n",
              "      <td>3</td>\n",
              "      <td>Sam Stine</td>\n",
              "      <td>M</td>\n",
              "      <td>26</td>\n",
              "      <td>PA</td>\n",
              "      <td>I3670</td>\n",
              "      <td>Desktop</td>\n",
              "      <td>649.99</td>\n",
              "      <td>118.64</td>\n",
              "      <td>Website</td>\n",
              "      <td>February</td>\n",
              "      <td>2018</td>\n",
              "    </tr>\n",
              "    <tr>\n",
              "      <th>3</th>\n",
              "      <td>4</td>\n",
              "      <td>Moe Eggert</td>\n",
              "      <td>M</td>\n",
              "      <td>35</td>\n",
              "      <td>PA</td>\n",
              "      <td>I3593</td>\n",
              "      <td>Laptop</td>\n",
              "      <td>399.99</td>\n",
              "      <td>72.09</td>\n",
              "      <td>Website</td>\n",
              "      <td>March</td>\n",
              "      <td>2018</td>\n",
              "    </tr>\n",
              "    <tr>\n",
              "      <th>4</th>\n",
              "      <td>5</td>\n",
              "      <td>Jessica Elk</td>\n",
              "      <td>F</td>\n",
              "      <td>55</td>\n",
              "      <td>PA</td>\n",
              "      <td>15M-ED</td>\n",
              "      <td>Laptop</td>\n",
              "      <td>699.99</td>\n",
              "      <td>98.09</td>\n",
              "      <td>Flyer 4</td>\n",
              "      <td>March</td>\n",
              "      <td>2018</td>\n",
              "    </tr>\n",
              "    <tr>\n",
              "      <th>...</th>\n",
              "      <td>...</td>\n",
              "      <td>...</td>\n",
              "      <td>...</td>\n",
              "      <td>...</td>\n",
              "      <td>...</td>\n",
              "      <td>...</td>\n",
              "      <td>...</td>\n",
              "      <td>...</td>\n",
              "      <td>...</td>\n",
              "      <td>...</td>\n",
              "      <td>...</td>\n",
              "      <td>...</td>\n",
              "    </tr>\n",
              "    <tr>\n",
              "      <th>97</th>\n",
              "      <td>98</td>\n",
              "      <td>Michelle Samms</td>\n",
              "      <td>F</td>\n",
              "      <td>46</td>\n",
              "      <td>NY</td>\n",
              "      <td>17-BY3613DX</td>\n",
              "      <td>Laptop</td>\n",
              "      <td>609.99</td>\n",
              "      <td>140.34</td>\n",
              "      <td>Flyer 3</td>\n",
              "      <td>November</td>\n",
              "      <td>2019</td>\n",
              "    </tr>\n",
              "    <tr>\n",
              "      <th>98</th>\n",
              "      <td>99</td>\n",
              "      <td>Mick Roberts</td>\n",
              "      <td>M</td>\n",
              "      <td>23</td>\n",
              "      <td>PA</td>\n",
              "      <td>BB980</td>\n",
              "      <td>Desktop</td>\n",
              "      <td>889.99</td>\n",
              "      <td>110.89</td>\n",
              "      <td>Flyer 2</td>\n",
              "      <td>May</td>\n",
              "      <td>2019</td>\n",
              "    </tr>\n",
              "    <tr>\n",
              "      <th>99</th>\n",
              "      <td>100</td>\n",
              "      <td>Ed Klondike</td>\n",
              "      <td>M</td>\n",
              "      <td>52</td>\n",
              "      <td>OH</td>\n",
              "      <td>15M-ED0023DX</td>\n",
              "      <td>Laptop</td>\n",
              "      <td>989.99</td>\n",
              "      <td>111.34</td>\n",
              "      <td>Email</td>\n",
              "      <td>November</td>\n",
              "      <td>2019</td>\n",
              "    </tr>\n",
              "    <tr>\n",
              "      <th>100</th>\n",
              "      <td>101</td>\n",
              "      <td>Moe Eggert</td>\n",
              "      <td>M</td>\n",
              "      <td>35</td>\n",
              "      <td>PA</td>\n",
              "      <td>GMA4000BST</td>\n",
              "      <td>Desktop</td>\n",
              "      <td>589.99</td>\n",
              "      <td>138.64</td>\n",
              "      <td>Website</td>\n",
              "      <td>May</td>\n",
              "      <td>2019</td>\n",
              "    </tr>\n",
              "    <tr>\n",
              "      <th>101</th>\n",
              "      <td>102</td>\n",
              "      <td>Jessica Elk</td>\n",
              "      <td>F</td>\n",
              "      <td>55</td>\n",
              "      <td>PA</td>\n",
              "      <td>AN515-55-53AG</td>\n",
              "      <td>Tablet</td>\n",
              "      <td>669.99</td>\n",
              "      <td>136.69</td>\n",
              "      <td>Flyer 1</td>\n",
              "      <td>December</td>\n",
              "      <td>2019</td>\n",
              "    </tr>\n",
              "  </tbody>\n",
              "</table>\n",
              "<p>102 rows × 12 columns</p>\n",
              "</div>"
            ],
            "text/plain": [
              "     Sale ID         Contact Sex  Age  ...  Profit     Lead     Month  Year\n",
              "0          1     Paul Thomas   M   43  ...  143.39  Website   January  2018\n",
              "1          2     Margo Simms   F   37  ...  230.89  Flyer 4   January  2018\n",
              "2          3       Sam Stine   M   26  ...  118.64  Website  February  2018\n",
              "3          4      Moe Eggert   M   35  ...   72.09  Website     March  2018\n",
              "4          5     Jessica Elk   F   55  ...   98.09  Flyer 4     March  2018\n",
              "..       ...             ...  ..  ...  ...     ...      ...       ...   ...\n",
              "97        98  Michelle Samms   F   46  ...  140.34  Flyer 3  November  2019\n",
              "98        99    Mick Roberts   M   23  ...  110.89  Flyer 2       May  2019\n",
              "99       100     Ed Klondike   M   52  ...  111.34    Email  November  2019\n",
              "100      101      Moe Eggert   M   35  ...  138.64  Website       May  2019\n",
              "101      102     Jessica Elk   F   55  ...  136.69  Flyer 1  December  2019\n",
              "\n",
              "[102 rows x 12 columns]"
            ]
          },
          "metadata": {
            "tags": []
          },
          "execution_count": 5
        }
      ]
    },
    {
      "cell_type": "code",
      "metadata": {
        "colab": {
          "base_uri": "https://localhost:8080/"
        },
        "id": "fF-sqWTla6wV",
        "outputId": "e798f285-c31d-4972-e9e2-68e695cc3437"
      },
      "source": [
        "print(sns.get_dataset_names())"
      ],
      "execution_count": null,
      "outputs": [
        {
          "output_type": "stream",
          "text": [
            "['anagrams', 'anscombe', 'attention', 'brain_networks', 'car_crashes', 'diamonds', 'dots', 'exercise', 'flights', 'fmri', 'gammas', 'geyser', 'iris', 'mpg', 'penguins', 'planets', 'tips', 'titanic']\n"
          ],
          "name": "stdout"
        }
      ]
    },
    {
      "cell_type": "code",
      "metadata": {
        "colab": {
          "base_uri": "https://localhost:8080/",
          "height": 1000
        },
        "id": "b73VaAKXbW47",
        "outputId": "ad8bc3a3-6913-49a4-9fe6-ce61617569f2"
      },
      "source": [
        "crash_df=sns.load_dataset('car_crashes')\n",
        "crash_df"
      ],
      "execution_count": null,
      "outputs": [
        {
          "output_type": "execute_result",
          "data": {
            "text/html": [
              "<div>\n",
              "<style scoped>\n",
              "    .dataframe tbody tr th:only-of-type {\n",
              "        vertical-align: middle;\n",
              "    }\n",
              "\n",
              "    .dataframe tbody tr th {\n",
              "        vertical-align: top;\n",
              "    }\n",
              "\n",
              "    .dataframe thead th {\n",
              "        text-align: right;\n",
              "    }\n",
              "</style>\n",
              "<table border=\"1\" class=\"dataframe\">\n",
              "  <thead>\n",
              "    <tr style=\"text-align: right;\">\n",
              "      <th></th>\n",
              "      <th>total</th>\n",
              "      <th>speeding</th>\n",
              "      <th>alcohol</th>\n",
              "      <th>not_distracted</th>\n",
              "      <th>no_previous</th>\n",
              "      <th>ins_premium</th>\n",
              "      <th>ins_losses</th>\n",
              "      <th>abbrev</th>\n",
              "    </tr>\n",
              "  </thead>\n",
              "  <tbody>\n",
              "    <tr>\n",
              "      <th>0</th>\n",
              "      <td>18.8</td>\n",
              "      <td>7.332</td>\n",
              "      <td>5.640</td>\n",
              "      <td>18.048</td>\n",
              "      <td>15.040</td>\n",
              "      <td>784.55</td>\n",
              "      <td>145.08</td>\n",
              "      <td>AL</td>\n",
              "    </tr>\n",
              "    <tr>\n",
              "      <th>1</th>\n",
              "      <td>18.1</td>\n",
              "      <td>7.421</td>\n",
              "      <td>4.525</td>\n",
              "      <td>16.290</td>\n",
              "      <td>17.014</td>\n",
              "      <td>1053.48</td>\n",
              "      <td>133.93</td>\n",
              "      <td>AK</td>\n",
              "    </tr>\n",
              "    <tr>\n",
              "      <th>2</th>\n",
              "      <td>18.6</td>\n",
              "      <td>6.510</td>\n",
              "      <td>5.208</td>\n",
              "      <td>15.624</td>\n",
              "      <td>17.856</td>\n",
              "      <td>899.47</td>\n",
              "      <td>110.35</td>\n",
              "      <td>AZ</td>\n",
              "    </tr>\n",
              "    <tr>\n",
              "      <th>3</th>\n",
              "      <td>22.4</td>\n",
              "      <td>4.032</td>\n",
              "      <td>5.824</td>\n",
              "      <td>21.056</td>\n",
              "      <td>21.280</td>\n",
              "      <td>827.34</td>\n",
              "      <td>142.39</td>\n",
              "      <td>AR</td>\n",
              "    </tr>\n",
              "    <tr>\n",
              "      <th>4</th>\n",
              "      <td>12.0</td>\n",
              "      <td>4.200</td>\n",
              "      <td>3.360</td>\n",
              "      <td>10.920</td>\n",
              "      <td>10.680</td>\n",
              "      <td>878.41</td>\n",
              "      <td>165.63</td>\n",
              "      <td>CA</td>\n",
              "    </tr>\n",
              "    <tr>\n",
              "      <th>5</th>\n",
              "      <td>13.6</td>\n",
              "      <td>5.032</td>\n",
              "      <td>3.808</td>\n",
              "      <td>10.744</td>\n",
              "      <td>12.920</td>\n",
              "      <td>835.50</td>\n",
              "      <td>139.91</td>\n",
              "      <td>CO</td>\n",
              "    </tr>\n",
              "    <tr>\n",
              "      <th>6</th>\n",
              "      <td>10.8</td>\n",
              "      <td>4.968</td>\n",
              "      <td>3.888</td>\n",
              "      <td>9.396</td>\n",
              "      <td>8.856</td>\n",
              "      <td>1068.73</td>\n",
              "      <td>167.02</td>\n",
              "      <td>CT</td>\n",
              "    </tr>\n",
              "    <tr>\n",
              "      <th>7</th>\n",
              "      <td>16.2</td>\n",
              "      <td>6.156</td>\n",
              "      <td>4.860</td>\n",
              "      <td>14.094</td>\n",
              "      <td>16.038</td>\n",
              "      <td>1137.87</td>\n",
              "      <td>151.48</td>\n",
              "      <td>DE</td>\n",
              "    </tr>\n",
              "    <tr>\n",
              "      <th>8</th>\n",
              "      <td>5.9</td>\n",
              "      <td>2.006</td>\n",
              "      <td>1.593</td>\n",
              "      <td>5.900</td>\n",
              "      <td>5.900</td>\n",
              "      <td>1273.89</td>\n",
              "      <td>136.05</td>\n",
              "      <td>DC</td>\n",
              "    </tr>\n",
              "    <tr>\n",
              "      <th>9</th>\n",
              "      <td>17.9</td>\n",
              "      <td>3.759</td>\n",
              "      <td>5.191</td>\n",
              "      <td>16.468</td>\n",
              "      <td>16.826</td>\n",
              "      <td>1160.13</td>\n",
              "      <td>144.18</td>\n",
              "      <td>FL</td>\n",
              "    </tr>\n",
              "    <tr>\n",
              "      <th>10</th>\n",
              "      <td>15.6</td>\n",
              "      <td>2.964</td>\n",
              "      <td>3.900</td>\n",
              "      <td>14.820</td>\n",
              "      <td>14.508</td>\n",
              "      <td>913.15</td>\n",
              "      <td>142.80</td>\n",
              "      <td>GA</td>\n",
              "    </tr>\n",
              "    <tr>\n",
              "      <th>11</th>\n",
              "      <td>17.5</td>\n",
              "      <td>9.450</td>\n",
              "      <td>7.175</td>\n",
              "      <td>14.350</td>\n",
              "      <td>15.225</td>\n",
              "      <td>861.18</td>\n",
              "      <td>120.92</td>\n",
              "      <td>HI</td>\n",
              "    </tr>\n",
              "    <tr>\n",
              "      <th>12</th>\n",
              "      <td>15.3</td>\n",
              "      <td>5.508</td>\n",
              "      <td>4.437</td>\n",
              "      <td>13.005</td>\n",
              "      <td>14.994</td>\n",
              "      <td>641.96</td>\n",
              "      <td>82.75</td>\n",
              "      <td>ID</td>\n",
              "    </tr>\n",
              "    <tr>\n",
              "      <th>13</th>\n",
              "      <td>12.8</td>\n",
              "      <td>4.608</td>\n",
              "      <td>4.352</td>\n",
              "      <td>12.032</td>\n",
              "      <td>12.288</td>\n",
              "      <td>803.11</td>\n",
              "      <td>139.15</td>\n",
              "      <td>IL</td>\n",
              "    </tr>\n",
              "    <tr>\n",
              "      <th>14</th>\n",
              "      <td>14.5</td>\n",
              "      <td>3.625</td>\n",
              "      <td>4.205</td>\n",
              "      <td>13.775</td>\n",
              "      <td>13.775</td>\n",
              "      <td>710.46</td>\n",
              "      <td>108.92</td>\n",
              "      <td>IN</td>\n",
              "    </tr>\n",
              "    <tr>\n",
              "      <th>15</th>\n",
              "      <td>15.7</td>\n",
              "      <td>2.669</td>\n",
              "      <td>3.925</td>\n",
              "      <td>15.229</td>\n",
              "      <td>13.659</td>\n",
              "      <td>649.06</td>\n",
              "      <td>114.47</td>\n",
              "      <td>IA</td>\n",
              "    </tr>\n",
              "    <tr>\n",
              "      <th>16</th>\n",
              "      <td>17.8</td>\n",
              "      <td>4.806</td>\n",
              "      <td>4.272</td>\n",
              "      <td>13.706</td>\n",
              "      <td>15.130</td>\n",
              "      <td>780.45</td>\n",
              "      <td>133.80</td>\n",
              "      <td>KS</td>\n",
              "    </tr>\n",
              "    <tr>\n",
              "      <th>17</th>\n",
              "      <td>21.4</td>\n",
              "      <td>4.066</td>\n",
              "      <td>4.922</td>\n",
              "      <td>16.692</td>\n",
              "      <td>16.264</td>\n",
              "      <td>872.51</td>\n",
              "      <td>137.13</td>\n",
              "      <td>KY</td>\n",
              "    </tr>\n",
              "    <tr>\n",
              "      <th>18</th>\n",
              "      <td>20.5</td>\n",
              "      <td>7.175</td>\n",
              "      <td>6.765</td>\n",
              "      <td>14.965</td>\n",
              "      <td>20.090</td>\n",
              "      <td>1281.55</td>\n",
              "      <td>194.78</td>\n",
              "      <td>LA</td>\n",
              "    </tr>\n",
              "    <tr>\n",
              "      <th>19</th>\n",
              "      <td>15.1</td>\n",
              "      <td>5.738</td>\n",
              "      <td>4.530</td>\n",
              "      <td>13.137</td>\n",
              "      <td>12.684</td>\n",
              "      <td>661.88</td>\n",
              "      <td>96.57</td>\n",
              "      <td>ME</td>\n",
              "    </tr>\n",
              "    <tr>\n",
              "      <th>20</th>\n",
              "      <td>12.5</td>\n",
              "      <td>4.250</td>\n",
              "      <td>4.000</td>\n",
              "      <td>8.875</td>\n",
              "      <td>12.375</td>\n",
              "      <td>1048.78</td>\n",
              "      <td>192.70</td>\n",
              "      <td>MD</td>\n",
              "    </tr>\n",
              "    <tr>\n",
              "      <th>21</th>\n",
              "      <td>8.2</td>\n",
              "      <td>1.886</td>\n",
              "      <td>2.870</td>\n",
              "      <td>7.134</td>\n",
              "      <td>6.560</td>\n",
              "      <td>1011.14</td>\n",
              "      <td>135.63</td>\n",
              "      <td>MA</td>\n",
              "    </tr>\n",
              "    <tr>\n",
              "      <th>22</th>\n",
              "      <td>14.1</td>\n",
              "      <td>3.384</td>\n",
              "      <td>3.948</td>\n",
              "      <td>13.395</td>\n",
              "      <td>10.857</td>\n",
              "      <td>1110.61</td>\n",
              "      <td>152.26</td>\n",
              "      <td>MI</td>\n",
              "    </tr>\n",
              "    <tr>\n",
              "      <th>23</th>\n",
              "      <td>9.6</td>\n",
              "      <td>2.208</td>\n",
              "      <td>2.784</td>\n",
              "      <td>8.448</td>\n",
              "      <td>8.448</td>\n",
              "      <td>777.18</td>\n",
              "      <td>133.35</td>\n",
              "      <td>MN</td>\n",
              "    </tr>\n",
              "    <tr>\n",
              "      <th>24</th>\n",
              "      <td>17.6</td>\n",
              "      <td>2.640</td>\n",
              "      <td>5.456</td>\n",
              "      <td>1.760</td>\n",
              "      <td>17.600</td>\n",
              "      <td>896.07</td>\n",
              "      <td>155.77</td>\n",
              "      <td>MS</td>\n",
              "    </tr>\n",
              "    <tr>\n",
              "      <th>25</th>\n",
              "      <td>16.1</td>\n",
              "      <td>6.923</td>\n",
              "      <td>5.474</td>\n",
              "      <td>14.812</td>\n",
              "      <td>13.524</td>\n",
              "      <td>790.32</td>\n",
              "      <td>144.45</td>\n",
              "      <td>MO</td>\n",
              "    </tr>\n",
              "    <tr>\n",
              "      <th>26</th>\n",
              "      <td>21.4</td>\n",
              "      <td>8.346</td>\n",
              "      <td>9.416</td>\n",
              "      <td>17.976</td>\n",
              "      <td>18.190</td>\n",
              "      <td>816.21</td>\n",
              "      <td>85.15</td>\n",
              "      <td>MT</td>\n",
              "    </tr>\n",
              "    <tr>\n",
              "      <th>27</th>\n",
              "      <td>14.9</td>\n",
              "      <td>1.937</td>\n",
              "      <td>5.215</td>\n",
              "      <td>13.857</td>\n",
              "      <td>13.410</td>\n",
              "      <td>732.28</td>\n",
              "      <td>114.82</td>\n",
              "      <td>NE</td>\n",
              "    </tr>\n",
              "    <tr>\n",
              "      <th>28</th>\n",
              "      <td>14.7</td>\n",
              "      <td>5.439</td>\n",
              "      <td>4.704</td>\n",
              "      <td>13.965</td>\n",
              "      <td>14.553</td>\n",
              "      <td>1029.87</td>\n",
              "      <td>138.71</td>\n",
              "      <td>NV</td>\n",
              "    </tr>\n",
              "    <tr>\n",
              "      <th>29</th>\n",
              "      <td>11.6</td>\n",
              "      <td>4.060</td>\n",
              "      <td>3.480</td>\n",
              "      <td>10.092</td>\n",
              "      <td>9.628</td>\n",
              "      <td>746.54</td>\n",
              "      <td>120.21</td>\n",
              "      <td>NH</td>\n",
              "    </tr>\n",
              "    <tr>\n",
              "      <th>30</th>\n",
              "      <td>11.2</td>\n",
              "      <td>1.792</td>\n",
              "      <td>3.136</td>\n",
              "      <td>9.632</td>\n",
              "      <td>8.736</td>\n",
              "      <td>1301.52</td>\n",
              "      <td>159.85</td>\n",
              "      <td>NJ</td>\n",
              "    </tr>\n",
              "    <tr>\n",
              "      <th>31</th>\n",
              "      <td>18.4</td>\n",
              "      <td>3.496</td>\n",
              "      <td>4.968</td>\n",
              "      <td>12.328</td>\n",
              "      <td>18.032</td>\n",
              "      <td>869.85</td>\n",
              "      <td>120.75</td>\n",
              "      <td>NM</td>\n",
              "    </tr>\n",
              "    <tr>\n",
              "      <th>32</th>\n",
              "      <td>12.3</td>\n",
              "      <td>3.936</td>\n",
              "      <td>3.567</td>\n",
              "      <td>10.824</td>\n",
              "      <td>9.840</td>\n",
              "      <td>1234.31</td>\n",
              "      <td>150.01</td>\n",
              "      <td>NY</td>\n",
              "    </tr>\n",
              "    <tr>\n",
              "      <th>33</th>\n",
              "      <td>16.8</td>\n",
              "      <td>6.552</td>\n",
              "      <td>5.208</td>\n",
              "      <td>15.792</td>\n",
              "      <td>13.608</td>\n",
              "      <td>708.24</td>\n",
              "      <td>127.82</td>\n",
              "      <td>NC</td>\n",
              "    </tr>\n",
              "    <tr>\n",
              "      <th>34</th>\n",
              "      <td>23.9</td>\n",
              "      <td>5.497</td>\n",
              "      <td>10.038</td>\n",
              "      <td>23.661</td>\n",
              "      <td>20.554</td>\n",
              "      <td>688.75</td>\n",
              "      <td>109.72</td>\n",
              "      <td>ND</td>\n",
              "    </tr>\n",
              "    <tr>\n",
              "      <th>35</th>\n",
              "      <td>14.1</td>\n",
              "      <td>3.948</td>\n",
              "      <td>4.794</td>\n",
              "      <td>13.959</td>\n",
              "      <td>11.562</td>\n",
              "      <td>697.73</td>\n",
              "      <td>133.52</td>\n",
              "      <td>OH</td>\n",
              "    </tr>\n",
              "    <tr>\n",
              "      <th>36</th>\n",
              "      <td>19.9</td>\n",
              "      <td>6.368</td>\n",
              "      <td>5.771</td>\n",
              "      <td>18.308</td>\n",
              "      <td>18.706</td>\n",
              "      <td>881.51</td>\n",
              "      <td>178.86</td>\n",
              "      <td>OK</td>\n",
              "    </tr>\n",
              "    <tr>\n",
              "      <th>37</th>\n",
              "      <td>12.8</td>\n",
              "      <td>4.224</td>\n",
              "      <td>3.328</td>\n",
              "      <td>8.576</td>\n",
              "      <td>11.520</td>\n",
              "      <td>804.71</td>\n",
              "      <td>104.61</td>\n",
              "      <td>OR</td>\n",
              "    </tr>\n",
              "    <tr>\n",
              "      <th>38</th>\n",
              "      <td>18.2</td>\n",
              "      <td>9.100</td>\n",
              "      <td>5.642</td>\n",
              "      <td>17.472</td>\n",
              "      <td>16.016</td>\n",
              "      <td>905.99</td>\n",
              "      <td>153.86</td>\n",
              "      <td>PA</td>\n",
              "    </tr>\n",
              "    <tr>\n",
              "      <th>39</th>\n",
              "      <td>11.1</td>\n",
              "      <td>3.774</td>\n",
              "      <td>4.218</td>\n",
              "      <td>10.212</td>\n",
              "      <td>8.769</td>\n",
              "      <td>1148.99</td>\n",
              "      <td>148.58</td>\n",
              "      <td>RI</td>\n",
              "    </tr>\n",
              "    <tr>\n",
              "      <th>40</th>\n",
              "      <td>23.9</td>\n",
              "      <td>9.082</td>\n",
              "      <td>9.799</td>\n",
              "      <td>22.944</td>\n",
              "      <td>19.359</td>\n",
              "      <td>858.97</td>\n",
              "      <td>116.29</td>\n",
              "      <td>SC</td>\n",
              "    </tr>\n",
              "    <tr>\n",
              "      <th>41</th>\n",
              "      <td>19.4</td>\n",
              "      <td>6.014</td>\n",
              "      <td>6.402</td>\n",
              "      <td>19.012</td>\n",
              "      <td>16.684</td>\n",
              "      <td>669.31</td>\n",
              "      <td>96.87</td>\n",
              "      <td>SD</td>\n",
              "    </tr>\n",
              "    <tr>\n",
              "      <th>42</th>\n",
              "      <td>19.5</td>\n",
              "      <td>4.095</td>\n",
              "      <td>5.655</td>\n",
              "      <td>15.990</td>\n",
              "      <td>15.795</td>\n",
              "      <td>767.91</td>\n",
              "      <td>155.57</td>\n",
              "      <td>TN</td>\n",
              "    </tr>\n",
              "    <tr>\n",
              "      <th>43</th>\n",
              "      <td>19.4</td>\n",
              "      <td>7.760</td>\n",
              "      <td>7.372</td>\n",
              "      <td>17.654</td>\n",
              "      <td>16.878</td>\n",
              "      <td>1004.75</td>\n",
              "      <td>156.83</td>\n",
              "      <td>TX</td>\n",
              "    </tr>\n",
              "    <tr>\n",
              "      <th>44</th>\n",
              "      <td>11.3</td>\n",
              "      <td>4.859</td>\n",
              "      <td>1.808</td>\n",
              "      <td>9.944</td>\n",
              "      <td>10.848</td>\n",
              "      <td>809.38</td>\n",
              "      <td>109.48</td>\n",
              "      <td>UT</td>\n",
              "    </tr>\n",
              "    <tr>\n",
              "      <th>45</th>\n",
              "      <td>13.6</td>\n",
              "      <td>4.080</td>\n",
              "      <td>4.080</td>\n",
              "      <td>13.056</td>\n",
              "      <td>12.920</td>\n",
              "      <td>716.20</td>\n",
              "      <td>109.61</td>\n",
              "      <td>VT</td>\n",
              "    </tr>\n",
              "    <tr>\n",
              "      <th>46</th>\n",
              "      <td>12.7</td>\n",
              "      <td>2.413</td>\n",
              "      <td>3.429</td>\n",
              "      <td>11.049</td>\n",
              "      <td>11.176</td>\n",
              "      <td>768.95</td>\n",
              "      <td>153.72</td>\n",
              "      <td>VA</td>\n",
              "    </tr>\n",
              "    <tr>\n",
              "      <th>47</th>\n",
              "      <td>10.6</td>\n",
              "      <td>4.452</td>\n",
              "      <td>3.498</td>\n",
              "      <td>8.692</td>\n",
              "      <td>9.116</td>\n",
              "      <td>890.03</td>\n",
              "      <td>111.62</td>\n",
              "      <td>WA</td>\n",
              "    </tr>\n",
              "    <tr>\n",
              "      <th>48</th>\n",
              "      <td>23.8</td>\n",
              "      <td>8.092</td>\n",
              "      <td>6.664</td>\n",
              "      <td>23.086</td>\n",
              "      <td>20.706</td>\n",
              "      <td>992.61</td>\n",
              "      <td>152.56</td>\n",
              "      <td>WV</td>\n",
              "    </tr>\n",
              "    <tr>\n",
              "      <th>49</th>\n",
              "      <td>13.8</td>\n",
              "      <td>4.968</td>\n",
              "      <td>4.554</td>\n",
              "      <td>5.382</td>\n",
              "      <td>11.592</td>\n",
              "      <td>670.31</td>\n",
              "      <td>106.62</td>\n",
              "      <td>WI</td>\n",
              "    </tr>\n",
              "    <tr>\n",
              "      <th>50</th>\n",
              "      <td>17.4</td>\n",
              "      <td>7.308</td>\n",
              "      <td>5.568</td>\n",
              "      <td>14.094</td>\n",
              "      <td>15.660</td>\n",
              "      <td>791.14</td>\n",
              "      <td>122.04</td>\n",
              "      <td>WY</td>\n",
              "    </tr>\n",
              "  </tbody>\n",
              "</table>\n",
              "</div>"
            ],
            "text/plain": [
              "    total  speeding  alcohol  ...  ins_premium  ins_losses  abbrev\n",
              "0    18.8     7.332    5.640  ...       784.55      145.08      AL\n",
              "1    18.1     7.421    4.525  ...      1053.48      133.93      AK\n",
              "2    18.6     6.510    5.208  ...       899.47      110.35      AZ\n",
              "3    22.4     4.032    5.824  ...       827.34      142.39      AR\n",
              "4    12.0     4.200    3.360  ...       878.41      165.63      CA\n",
              "5    13.6     5.032    3.808  ...       835.50      139.91      CO\n",
              "6    10.8     4.968    3.888  ...      1068.73      167.02      CT\n",
              "7    16.2     6.156    4.860  ...      1137.87      151.48      DE\n",
              "8     5.9     2.006    1.593  ...      1273.89      136.05      DC\n",
              "9    17.9     3.759    5.191  ...      1160.13      144.18      FL\n",
              "10   15.6     2.964    3.900  ...       913.15      142.80      GA\n",
              "11   17.5     9.450    7.175  ...       861.18      120.92      HI\n",
              "12   15.3     5.508    4.437  ...       641.96       82.75      ID\n",
              "13   12.8     4.608    4.352  ...       803.11      139.15      IL\n",
              "14   14.5     3.625    4.205  ...       710.46      108.92      IN\n",
              "15   15.7     2.669    3.925  ...       649.06      114.47      IA\n",
              "16   17.8     4.806    4.272  ...       780.45      133.80      KS\n",
              "17   21.4     4.066    4.922  ...       872.51      137.13      KY\n",
              "18   20.5     7.175    6.765  ...      1281.55      194.78      LA\n",
              "19   15.1     5.738    4.530  ...       661.88       96.57      ME\n",
              "20   12.5     4.250    4.000  ...      1048.78      192.70      MD\n",
              "21    8.2     1.886    2.870  ...      1011.14      135.63      MA\n",
              "22   14.1     3.384    3.948  ...      1110.61      152.26      MI\n",
              "23    9.6     2.208    2.784  ...       777.18      133.35      MN\n",
              "24   17.6     2.640    5.456  ...       896.07      155.77      MS\n",
              "25   16.1     6.923    5.474  ...       790.32      144.45      MO\n",
              "26   21.4     8.346    9.416  ...       816.21       85.15      MT\n",
              "27   14.9     1.937    5.215  ...       732.28      114.82      NE\n",
              "28   14.7     5.439    4.704  ...      1029.87      138.71      NV\n",
              "29   11.6     4.060    3.480  ...       746.54      120.21      NH\n",
              "30   11.2     1.792    3.136  ...      1301.52      159.85      NJ\n",
              "31   18.4     3.496    4.968  ...       869.85      120.75      NM\n",
              "32   12.3     3.936    3.567  ...      1234.31      150.01      NY\n",
              "33   16.8     6.552    5.208  ...       708.24      127.82      NC\n",
              "34   23.9     5.497   10.038  ...       688.75      109.72      ND\n",
              "35   14.1     3.948    4.794  ...       697.73      133.52      OH\n",
              "36   19.9     6.368    5.771  ...       881.51      178.86      OK\n",
              "37   12.8     4.224    3.328  ...       804.71      104.61      OR\n",
              "38   18.2     9.100    5.642  ...       905.99      153.86      PA\n",
              "39   11.1     3.774    4.218  ...      1148.99      148.58      RI\n",
              "40   23.9     9.082    9.799  ...       858.97      116.29      SC\n",
              "41   19.4     6.014    6.402  ...       669.31       96.87      SD\n",
              "42   19.5     4.095    5.655  ...       767.91      155.57      TN\n",
              "43   19.4     7.760    7.372  ...      1004.75      156.83      TX\n",
              "44   11.3     4.859    1.808  ...       809.38      109.48      UT\n",
              "45   13.6     4.080    4.080  ...       716.20      109.61      VT\n",
              "46   12.7     2.413    3.429  ...       768.95      153.72      VA\n",
              "47   10.6     4.452    3.498  ...       890.03      111.62      WA\n",
              "48   23.8     8.092    6.664  ...       992.61      152.56      WV\n",
              "49   13.8     4.968    4.554  ...       670.31      106.62      WI\n",
              "50   17.4     7.308    5.568  ...       791.14      122.04      WY\n",
              "\n",
              "[51 rows x 8 columns]"
            ]
          },
          "metadata": {
            "tags": []
          },
          "execution_count": 7
        }
      ]
    },
    {
      "cell_type": "code",
      "metadata": {
        "colab": {
          "base_uri": "https://localhost:8080/",
          "height": 297
        },
        "id": "ljKM3hXacLBP",
        "outputId": "01a6e3a3-7ffc-4e6f-d89f-0c0688003afa"
      },
      "source": [
        "#Distribution Plot    distplot is depricated so using histplot\n",
        "dist_plot=sns.histplot(crash_df['not_distracted'],kde=False,bins=25,)\n",
        "dist_plot"
      ],
      "execution_count": null,
      "outputs": [
        {
          "output_type": "execute_result",
          "data": {
            "text/plain": [
              "<matplotlib.axes._subplots.AxesSubplot at 0x7f1f7e00db10>"
            ]
          },
          "metadata": {
            "tags": []
          },
          "execution_count": 11
        },
        {
          "output_type": "display_data",
          "data": {
            "image/png": "[encoded data removed]",
            "text/plain": [
              "<Figure size 432x288 with 1 Axes>"
            ]
          },
          "metadata": {
            "tags": [],
            "needs_background": "light"
          }
        }
      ]
    }
  ]
}